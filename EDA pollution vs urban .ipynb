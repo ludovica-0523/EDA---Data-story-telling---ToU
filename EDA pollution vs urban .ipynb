{
 "cells": [
  {
   "cell_type": "markdown",
   "id": "e2c661f3-abde-4aaf-885b-47bb4ca2aa9e",
   "metadata": {},
   "source": [
    "# __Urbanization VS Water stress__\n",
    "## Measuring the correlation between the two\n",
    "\n",
    "#### Sample countries: \n",
    "\n",
    "Developed: \n",
    "- Japan\n",
    "- USA\n",
    "- Germany\n",
    "- United Kingdom\n",
    "- Australia\n",
    "\n",
    "Developing: \n",
    "- Brazil\n",
    "- India\n",
    "- China\n",
    "- Nigeria\n",
    "- Pakistan\n",
    "\n",
    "#### Variables:\n",
    "indipendant = N urbanized population \n",
    "dependant = Water stress levels \n",
    "\n",
    "#### Time period: \n",
    "1975 - 2021\n",
    "\n"
   ]
  },
  {
   "cell_type": "markdown",
   "id": "12f4ac84-71c2-44c5-be1f-7733bd6bde0c",
   "metadata": {},
   "source": [
    "## __1. Import relevant libraries__"
   ]
  },
  {
   "cell_type": "code",
   "execution_count": 218,
   "id": "b71d5575-65aa-478c-9e37-49f89aa724bc",
   "metadata": {},
   "outputs": [],
   "source": [
    "import pandas as pd\n",
    "import plotly.graph_objects as go"
   ]
  },
  {
   "cell_type": "markdown",
   "id": "6ae81719-f363-4f89-a8d5-6deb2b410b00",
   "metadata": {},
   "source": [
    "## __2. Import Datasets__"
   ]
  },
  {
   "cell_type": "markdown",
   "id": "988c337d-737a-4988-9255-001bf890d2ee",
   "metadata": {},
   "source": [
    "###"
   ]
  },
  {
   "cell_type": "code",
   "execution_count": 219,
   "id": "70f2fcf9-4014-4d70-9859-55e3493fd83b",
   "metadata": {
    "scrolled": true
   },
   "outputs": [
    {
     "data": {
      "text/html": [
       "<div>\n",
       "<style scoped>\n",
       "    .dataframe tbody tr th:only-of-type {\n",
       "        vertical-align: middle;\n",
       "    }\n",
       "\n",
       "    .dataframe tbody tr th {\n",
       "        vertical-align: top;\n",
       "    }\n",
       "\n",
       "    .dataframe thead th {\n",
       "        text-align: right;\n",
       "    }\n",
       "</style>\n",
       "<table border=\"1\" class=\"dataframe\">\n",
       "  <thead>\n",
       "    <tr style=\"text-align: right;\">\n",
       "      <th></th>\n",
       "      <th>Data Source,\"World Development Indicators\",</th>\n",
       "    </tr>\n",
       "  </thead>\n",
       "  <tbody>\n",
       "    <tr>\n",
       "      <th>0</th>\n",
       "      <td>Last Updated Date,\"2025-04-15\",</td>\n",
       "    </tr>\n",
       "    <tr>\n",
       "      <th>1</th>\n",
       "      <td>Country Name,\"Country Code\",\"Indicator Name\",\"...</td>\n",
       "    </tr>\n",
       "    <tr>\n",
       "      <th>2</th>\n",
       "      <td>Aruba,\"ABW\",\"Urban population\",\"SP.URB.TOTL\",\"...</td>\n",
       "    </tr>\n",
       "    <tr>\n",
       "      <th>3</th>\n",
       "      <td>Africa Eastern and Southern,\"AFE\",\"Urban popul...</td>\n",
       "    </tr>\n",
       "    <tr>\n",
       "      <th>4</th>\n",
       "      <td>Afghanistan,\"AFG\",\"Urban population\",\"SP.URB.T...</td>\n",
       "    </tr>\n",
       "  </tbody>\n",
       "</table>\n",
       "</div>"
      ],
      "text/plain": [
       "         Data Source,\"World Development Indicators\",\n",
       "0                    Last Updated Date,\"2025-04-15\",\n",
       "1  Country Name,\"Country Code\",\"Indicator Name\",\"...\n",
       "2  Aruba,\"ABW\",\"Urban population\",\"SP.URB.TOTL\",\"...\n",
       "3  Africa Eastern and Southern,\"AFE\",\"Urban popul...\n",
       "4  Afghanistan,\"AFG\",\"Urban population\",\"SP.URB.T..."
      ]
     },
     "execution_count": 219,
     "metadata": {},
     "output_type": "execute_result"
    }
   ],
   "source": [
    "df = pd.read_csv(\"Urban population.csv\", delimiter=';')\n",
    "\n",
    "df.head()"
   ]
  },
  {
   "cell_type": "code",
   "execution_count": 220,
   "id": "b54ffffd-4218-4648-a4ec-afd05efbfa1d",
   "metadata": {
    "scrolled": true
   },
   "outputs": [
    {
     "data": {
      "text/html": [
       "<div>\n",
       "<style scoped>\n",
       "    .dataframe tbody tr th:only-of-type {\n",
       "        vertical-align: middle;\n",
       "    }\n",
       "\n",
       "    .dataframe tbody tr th {\n",
       "        vertical-align: top;\n",
       "    }\n",
       "\n",
       "    .dataframe thead th {\n",
       "        text-align: right;\n",
       "    }\n",
       "</style>\n",
       "<table border=\"1\" class=\"dataframe\">\n",
       "  <thead>\n",
       "    <tr style=\"text-align: right;\">\n",
       "      <th></th>\n",
       "      <th>Country Name</th>\n",
       "      <th>Country Code</th>\n",
       "      <th>Indicator Name</th>\n",
       "      <th>Indicator Code</th>\n",
       "      <th>1960</th>\n",
       "      <th>1961</th>\n",
       "      <th>1962</th>\n",
       "      <th>1963</th>\n",
       "      <th>1964</th>\n",
       "      <th>1965</th>\n",
       "      <th>...</th>\n",
       "      <th>2016</th>\n",
       "      <th>2017</th>\n",
       "      <th>2018</th>\n",
       "      <th>2019</th>\n",
       "      <th>2020</th>\n",
       "      <th>2021</th>\n",
       "      <th>2022</th>\n",
       "      <th>2023</th>\n",
       "      <th>2024</th>\n",
       "      <th>Unnamed: 69</th>\n",
       "    </tr>\n",
       "  </thead>\n",
       "  <tbody>\n",
       "    <tr>\n",
       "      <th>0</th>\n",
       "      <td>Aruba</td>\n",
       "      <td>ABW</td>\n",
       "      <td>Urban population</td>\n",
       "      <td>SP.URB.TOTL</td>\n",
       "      <td>27887.0</td>\n",
       "      <td>28212.0</td>\n",
       "      <td>28580.0</td>\n",
       "      <td>28917.0</td>\n",
       "      <td>29221.0</td>\n",
       "      <td>29502.0</td>\n",
       "      <td>...</td>\n",
       "      <td>46961.0</td>\n",
       "      <td>47075.0</td>\n",
       "      <td>47278.0</td>\n",
       "      <td>47554.0</td>\n",
       "      <td>47449.0</td>\n",
       "      <td>47244.0</td>\n",
       "      <td>47272.0</td>\n",
       "      <td>47511.0</td>\n",
       "      <td>NaN</td>\n",
       "      <td>NaN</td>\n",
       "    </tr>\n",
       "    <tr>\n",
       "      <th>1</th>\n",
       "      <td>Africa Eastern and Southern</td>\n",
       "      <td>AFE</td>\n",
       "      <td>Urban population</td>\n",
       "      <td>SP.URB.TOTL</td>\n",
       "      <td>18960189.0</td>\n",
       "      <td>19796785.0</td>\n",
       "      <td>20690699.0</td>\n",
       "      <td>21653526.0</td>\n",
       "      <td>22685293.0</td>\n",
       "      <td>23779650.0</td>\n",
       "      <td>...</td>\n",
       "      <td>217677754.0</td>\n",
       "      <td>226557045.0</td>\n",
       "      <td>236107161.0</td>\n",
       "      <td>245939557.0</td>\n",
       "      <td>256139740.0</td>\n",
       "      <td>266650602.0</td>\n",
       "      <td>277426261.0</td>\n",
       "      <td>288380305.0</td>\n",
       "      <td>NaN</td>\n",
       "      <td>NaN</td>\n",
       "    </tr>\n",
       "    <tr>\n",
       "      <th>2</th>\n",
       "      <td>Afghanistan</td>\n",
       "      <td>AFG</td>\n",
       "      <td>Urban population</td>\n",
       "      <td>SP.URB.TOTL</td>\n",
       "      <td>759034.0</td>\n",
       "      <td>800151.0</td>\n",
       "      <td>844139.0</td>\n",
       "      <td>890912.0</td>\n",
       "      <td>940801.0</td>\n",
       "      <td>993966.0</td>\n",
       "      <td>...</td>\n",
       "      <td>8682093.0</td>\n",
       "      <td>9011456.0</td>\n",
       "      <td>9367638.0</td>\n",
       "      <td>9749465.0</td>\n",
       "      <td>10168092.0</td>\n",
       "      <td>10525708.0</td>\n",
       "      <td>10800465.0</td>\n",
       "      <td>11165011.0</td>\n",
       "      <td>NaN</td>\n",
       "      <td>NaN</td>\n",
       "    </tr>\n",
       "    <tr>\n",
       "      <th>3</th>\n",
       "      <td>Africa Western and Central</td>\n",
       "      <td>AFW</td>\n",
       "      <td>Urban population</td>\n",
       "      <td>SP.URB.TOTL</td>\n",
       "      <td>14361518.0</td>\n",
       "      <td>15050171.0</td>\n",
       "      <td>15775196.0</td>\n",
       "      <td>16550889.0</td>\n",
       "      <td>17374634.0</td>\n",
       "      <td>18251823.0</td>\n",
       "      <td>...</td>\n",
       "      <td>195289605.0</td>\n",
       "      <td>203221168.0</td>\n",
       "      <td>211219592.0</td>\n",
       "      <td>219276647.0</td>\n",
       "      <td>227465935.0</td>\n",
       "      <td>235827038.0</td>\n",
       "      <td>244365364.0</td>\n",
       "      <td>253228069.0</td>\n",
       "      <td>NaN</td>\n",
       "      <td>NaN</td>\n",
       "    </tr>\n",
       "    <tr>\n",
       "      <th>4</th>\n",
       "      <td>Angola</td>\n",
       "      <td>AGO</td>\n",
       "      <td>Urban population</td>\n",
       "      <td>SP.URB.TOTL</td>\n",
       "      <td>545923.0</td>\n",
       "      <td>572465.0</td>\n",
       "      <td>599897.0</td>\n",
       "      <td>628663.0</td>\n",
       "      <td>658872.0</td>\n",
       "      <td>690469.0</td>\n",
       "      <td>...</td>\n",
       "      <td>18720648.0</td>\n",
       "      <td>19603967.0</td>\n",
       "      <td>20504018.0</td>\n",
       "      <td>21425222.0</td>\n",
       "      <td>22353719.0</td>\n",
       "      <td>23295577.0</td>\n",
       "      <td>24260684.0</td>\n",
       "      <td>25242775.0</td>\n",
       "      <td>NaN</td>\n",
       "      <td>NaN</td>\n",
       "    </tr>\n",
       "  </tbody>\n",
       "</table>\n",
       "<p>5 rows × 70 columns</p>\n",
       "</div>"
      ],
      "text/plain": [
       "                  Country Name Country Code    Indicator Name Indicator Code  \\\n",
       "0                        Aruba          ABW  Urban population    SP.URB.TOTL   \n",
       "1  Africa Eastern and Southern          AFE  Urban population    SP.URB.TOTL   \n",
       "2                  Afghanistan          AFG  Urban population    SP.URB.TOTL   \n",
       "3   Africa Western and Central          AFW  Urban population    SP.URB.TOTL   \n",
       "4                       Angola          AGO  Urban population    SP.URB.TOTL   \n",
       "\n",
       "         1960        1961        1962        1963        1964        1965  \\\n",
       "0     27887.0     28212.0     28580.0     28917.0     29221.0     29502.0   \n",
       "1  18960189.0  19796785.0  20690699.0  21653526.0  22685293.0  23779650.0   \n",
       "2    759034.0    800151.0    844139.0    890912.0    940801.0    993966.0   \n",
       "3  14361518.0  15050171.0  15775196.0  16550889.0  17374634.0  18251823.0   \n",
       "4    545923.0    572465.0    599897.0    628663.0    658872.0    690469.0   \n",
       "\n",
       "   ...         2016         2017         2018         2019         2020  \\\n",
       "0  ...      46961.0      47075.0      47278.0      47554.0      47449.0   \n",
       "1  ...  217677754.0  226557045.0  236107161.0  245939557.0  256139740.0   \n",
       "2  ...    8682093.0    9011456.0    9367638.0    9749465.0   10168092.0   \n",
       "3  ...  195289605.0  203221168.0  211219592.0  219276647.0  227465935.0   \n",
       "4  ...   18720648.0   19603967.0   20504018.0   21425222.0   22353719.0   \n",
       "\n",
       "          2021         2022         2023  2024  Unnamed: 69  \n",
       "0      47244.0      47272.0      47511.0   NaN          NaN  \n",
       "1  266650602.0  277426261.0  288380305.0   NaN          NaN  \n",
       "2   10525708.0   10800465.0   11165011.0   NaN          NaN  \n",
       "3  235827038.0  244365364.0  253228069.0   NaN          NaN  \n",
       "4   23295577.0   24260684.0   25242775.0   NaN          NaN  \n",
       "\n",
       "[5 rows x 70 columns]"
      ]
     },
     "execution_count": 220,
     "metadata": {},
     "output_type": "execute_result"
    }
   ],
   "source": [
    "df = pd.read_csv(\"Urban population.csv\", skiprows=4)  # Adjust number as needed\n",
    "\n",
    "df.head()"
   ]
  },
  {
   "cell_type": "code",
   "execution_count": 190,
   "id": "93d6c76e-253d-4cf5-a9d0-350e80d72f75",
   "metadata": {},
   "outputs": [
    {
     "data": {
      "text/html": [
       "<div>\n",
       "<style scoped>\n",
       "    .dataframe tbody tr th:only-of-type {\n",
       "        vertical-align: middle;\n",
       "    }\n",
       "\n",
       "    .dataframe tbody tr th {\n",
       "        vertical-align: top;\n",
       "    }\n",
       "\n",
       "    .dataframe thead th {\n",
       "        text-align: right;\n",
       "    }\n",
       "</style>\n",
       "<table border=\"1\" class=\"dataframe\">\n",
       "  <thead>\n",
       "    <tr style=\"text-align: right;\">\n",
       "      <th></th>\n",
       "      <th>Country Name</th>\n",
       "      <th>Country Code</th>\n",
       "      <th>Indicator Name</th>\n",
       "      <th>Indicator Code</th>\n",
       "      <th>1960</th>\n",
       "      <th>1961</th>\n",
       "      <th>1962</th>\n",
       "      <th>1963</th>\n",
       "      <th>1964</th>\n",
       "      <th>1965</th>\n",
       "      <th>...</th>\n",
       "      <th>2016</th>\n",
       "      <th>2017</th>\n",
       "      <th>2018</th>\n",
       "      <th>2019</th>\n",
       "      <th>2020</th>\n",
       "      <th>2021</th>\n",
       "      <th>2022</th>\n",
       "      <th>2023</th>\n",
       "      <th>2024</th>\n",
       "      <th>Unnamed: 69</th>\n",
       "    </tr>\n",
       "  </thead>\n",
       "  <tbody>\n",
       "    <tr>\n",
       "      <th>0</th>\n",
       "      <td>Aruba</td>\n",
       "      <td>ABW</td>\n",
       "      <td>Urban population</td>\n",
       "      <td>SP.URB.TOTL</td>\n",
       "      <td>27887.0</td>\n",
       "      <td>28212.0</td>\n",
       "      <td>28580.0</td>\n",
       "      <td>28917.0</td>\n",
       "      <td>29221.0</td>\n",
       "      <td>29502.0</td>\n",
       "      <td>...</td>\n",
       "      <td>46961.0</td>\n",
       "      <td>47075.0</td>\n",
       "      <td>47278.0</td>\n",
       "      <td>47554.0</td>\n",
       "      <td>47449.0</td>\n",
       "      <td>47244.0</td>\n",
       "      <td>47272.0</td>\n",
       "      <td>47511.0</td>\n",
       "      <td>NaN</td>\n",
       "      <td>NaN</td>\n",
       "    </tr>\n",
       "    <tr>\n",
       "      <th>1</th>\n",
       "      <td>Africa Eastern and Southern</td>\n",
       "      <td>AFE</td>\n",
       "      <td>Urban population</td>\n",
       "      <td>SP.URB.TOTL</td>\n",
       "      <td>18960189.0</td>\n",
       "      <td>19796785.0</td>\n",
       "      <td>20690699.0</td>\n",
       "      <td>21653526.0</td>\n",
       "      <td>22685293.0</td>\n",
       "      <td>23779650.0</td>\n",
       "      <td>...</td>\n",
       "      <td>217677754.0</td>\n",
       "      <td>226557045.0</td>\n",
       "      <td>236107161.0</td>\n",
       "      <td>245939557.0</td>\n",
       "      <td>256139740.0</td>\n",
       "      <td>266650602.0</td>\n",
       "      <td>277426261.0</td>\n",
       "      <td>288380305.0</td>\n",
       "      <td>NaN</td>\n",
       "      <td>NaN</td>\n",
       "    </tr>\n",
       "    <tr>\n",
       "      <th>2</th>\n",
       "      <td>Afghanistan</td>\n",
       "      <td>AFG</td>\n",
       "      <td>Urban population</td>\n",
       "      <td>SP.URB.TOTL</td>\n",
       "      <td>759034.0</td>\n",
       "      <td>800151.0</td>\n",
       "      <td>844139.0</td>\n",
       "      <td>890912.0</td>\n",
       "      <td>940801.0</td>\n",
       "      <td>993966.0</td>\n",
       "      <td>...</td>\n",
       "      <td>8682093.0</td>\n",
       "      <td>9011456.0</td>\n",
       "      <td>9367638.0</td>\n",
       "      <td>9749465.0</td>\n",
       "      <td>10168092.0</td>\n",
       "      <td>10525708.0</td>\n",
       "      <td>10800465.0</td>\n",
       "      <td>11165011.0</td>\n",
       "      <td>NaN</td>\n",
       "      <td>NaN</td>\n",
       "    </tr>\n",
       "    <tr>\n",
       "      <th>3</th>\n",
       "      <td>Africa Western and Central</td>\n",
       "      <td>AFW</td>\n",
       "      <td>Urban population</td>\n",
       "      <td>SP.URB.TOTL</td>\n",
       "      <td>14361518.0</td>\n",
       "      <td>15050171.0</td>\n",
       "      <td>15775196.0</td>\n",
       "      <td>16550889.0</td>\n",
       "      <td>17374634.0</td>\n",
       "      <td>18251823.0</td>\n",
       "      <td>...</td>\n",
       "      <td>195289605.0</td>\n",
       "      <td>203221168.0</td>\n",
       "      <td>211219592.0</td>\n",
       "      <td>219276647.0</td>\n",
       "      <td>227465935.0</td>\n",
       "      <td>235827038.0</td>\n",
       "      <td>244365364.0</td>\n",
       "      <td>253228069.0</td>\n",
       "      <td>NaN</td>\n",
       "      <td>NaN</td>\n",
       "    </tr>\n",
       "    <tr>\n",
       "      <th>4</th>\n",
       "      <td>Angola</td>\n",
       "      <td>AGO</td>\n",
       "      <td>Urban population</td>\n",
       "      <td>SP.URB.TOTL</td>\n",
       "      <td>545923.0</td>\n",
       "      <td>572465.0</td>\n",
       "      <td>599897.0</td>\n",
       "      <td>628663.0</td>\n",
       "      <td>658872.0</td>\n",
       "      <td>690469.0</td>\n",
       "      <td>...</td>\n",
       "      <td>18720648.0</td>\n",
       "      <td>19603967.0</td>\n",
       "      <td>20504018.0</td>\n",
       "      <td>21425222.0</td>\n",
       "      <td>22353719.0</td>\n",
       "      <td>23295577.0</td>\n",
       "      <td>24260684.0</td>\n",
       "      <td>25242775.0</td>\n",
       "      <td>NaN</td>\n",
       "      <td>NaN</td>\n",
       "    </tr>\n",
       "  </tbody>\n",
       "</table>\n",
       "<p>5 rows × 70 columns</p>\n",
       "</div>"
      ],
      "text/plain": [
       "                  Country Name Country Code    Indicator Name Indicator Code  \\\n",
       "0                        Aruba          ABW  Urban population    SP.URB.TOTL   \n",
       "1  Africa Eastern and Southern          AFE  Urban population    SP.URB.TOTL   \n",
       "2                  Afghanistan          AFG  Urban population    SP.URB.TOTL   \n",
       "3   Africa Western and Central          AFW  Urban population    SP.URB.TOTL   \n",
       "4                       Angola          AGO  Urban population    SP.URB.TOTL   \n",
       "\n",
       "         1960        1961        1962        1963        1964        1965  \\\n",
       "0     27887.0     28212.0     28580.0     28917.0     29221.0     29502.0   \n",
       "1  18960189.0  19796785.0  20690699.0  21653526.0  22685293.0  23779650.0   \n",
       "2    759034.0    800151.0    844139.0    890912.0    940801.0    993966.0   \n",
       "3  14361518.0  15050171.0  15775196.0  16550889.0  17374634.0  18251823.0   \n",
       "4    545923.0    572465.0    599897.0    628663.0    658872.0    690469.0   \n",
       "\n",
       "   ...         2016         2017         2018         2019         2020  \\\n",
       "0  ...      46961.0      47075.0      47278.0      47554.0      47449.0   \n",
       "1  ...  217677754.0  226557045.0  236107161.0  245939557.0  256139740.0   \n",
       "2  ...    8682093.0    9011456.0    9367638.0    9749465.0   10168092.0   \n",
       "3  ...  195289605.0  203221168.0  211219592.0  219276647.0  227465935.0   \n",
       "4  ...   18720648.0   19603967.0   20504018.0   21425222.0   22353719.0   \n",
       "\n",
       "          2021         2022         2023  2024  Unnamed: 69  \n",
       "0      47244.0      47272.0      47511.0   NaN          NaN  \n",
       "1  266650602.0  277426261.0  288380305.0   NaN          NaN  \n",
       "2   10525708.0   10800465.0   11165011.0   NaN          NaN  \n",
       "3  235827038.0  244365364.0  253228069.0   NaN          NaN  \n",
       "4   23295577.0   24260684.0   25242775.0   NaN          NaN  \n",
       "\n",
       "[5 rows x 70 columns]"
      ]
     },
     "execution_count": 190,
     "metadata": {},
     "output_type": "execute_result"
    }
   ],
   "source": [
    "urban_df = pd.read_csv(\"Urban population.csv\", engine='python', skiprows=4)\n",
    "\n",
    "df.head()"
   ]
  },
  {
   "cell_type": "markdown",
   "id": "b7579e4e-c176-4abd-9510-ece8dfb95662",
   "metadata": {},
   "source": [
    "### Water stress"
   ]
  },
  {
   "cell_type": "code",
   "execution_count": 191,
   "id": "a70e1a47-a487-4931-86b9-a52320332c21",
   "metadata": {
    "scrolled": true
   },
   "outputs": [
    {
     "data": {
      "text/html": [
       "<div>\n",
       "<style scoped>\n",
       "    .dataframe tbody tr th:only-of-type {\n",
       "        vertical-align: middle;\n",
       "    }\n",
       "\n",
       "    .dataframe tbody tr th {\n",
       "        vertical-align: top;\n",
       "    }\n",
       "\n",
       "    .dataframe thead th {\n",
       "        text-align: right;\n",
       "    }\n",
       "</style>\n",
       "<table border=\"1\" class=\"dataframe\">\n",
       "  <thead>\n",
       "    <tr style=\"text-align: right;\">\n",
       "      <th></th>\n",
       "      <th>Country Name</th>\n",
       "      <th>Country Code</th>\n",
       "      <th>Indicator Name</th>\n",
       "      <th>Indicator Code</th>\n",
       "      <th>1960</th>\n",
       "      <th>1961</th>\n",
       "      <th>1962</th>\n",
       "      <th>1963</th>\n",
       "      <th>1964</th>\n",
       "      <th>1965</th>\n",
       "      <th>...</th>\n",
       "      <th>2016</th>\n",
       "      <th>2017</th>\n",
       "      <th>2018</th>\n",
       "      <th>2019</th>\n",
       "      <th>2020</th>\n",
       "      <th>2021</th>\n",
       "      <th>2022</th>\n",
       "      <th>2023</th>\n",
       "      <th>2024</th>\n",
       "      <th>Unnamed: 69</th>\n",
       "    </tr>\n",
       "  </thead>\n",
       "  <tbody>\n",
       "    <tr>\n",
       "      <th>0</th>\n",
       "      <td>Aruba</td>\n",
       "      <td>ABW</td>\n",
       "      <td>Level of water stress: freshwater withdrawal a...</td>\n",
       "      <td>ER.H2O.FWST.ZS</td>\n",
       "      <td>NaN</td>\n",
       "      <td>NaN</td>\n",
       "      <td>NaN</td>\n",
       "      <td>NaN</td>\n",
       "      <td>NaN</td>\n",
       "      <td>NaN</td>\n",
       "      <td>...</td>\n",
       "      <td>NaN</td>\n",
       "      <td>NaN</td>\n",
       "      <td>NaN</td>\n",
       "      <td>NaN</td>\n",
       "      <td>NaN</td>\n",
       "      <td>NaN</td>\n",
       "      <td>NaN</td>\n",
       "      <td>NaN</td>\n",
       "      <td>NaN</td>\n",
       "      <td>NaN</td>\n",
       "    </tr>\n",
       "    <tr>\n",
       "      <th>1</th>\n",
       "      <td>Africa Eastern and Southern</td>\n",
       "      <td>AFE</td>\n",
       "      <td>Level of water stress: freshwater withdrawal a...</td>\n",
       "      <td>ER.H2O.FWST.ZS</td>\n",
       "      <td>NaN</td>\n",
       "      <td>NaN</td>\n",
       "      <td>NaN</td>\n",
       "      <td>NaN</td>\n",
       "      <td>NaN</td>\n",
       "      <td>NaN</td>\n",
       "      <td>...</td>\n",
       "      <td>NaN</td>\n",
       "      <td>NaN</td>\n",
       "      <td>NaN</td>\n",
       "      <td>NaN</td>\n",
       "      <td>NaN</td>\n",
       "      <td>NaN</td>\n",
       "      <td>NaN</td>\n",
       "      <td>NaN</td>\n",
       "      <td>NaN</td>\n",
       "      <td>NaN</td>\n",
       "    </tr>\n",
       "    <tr>\n",
       "      <th>2</th>\n",
       "      <td>Afghanistan</td>\n",
       "      <td>AFG</td>\n",
       "      <td>Level of water stress: freshwater withdrawal a...</td>\n",
       "      <td>ER.H2O.FWST.ZS</td>\n",
       "      <td>NaN</td>\n",
       "      <td>NaN</td>\n",
       "      <td>NaN</td>\n",
       "      <td>NaN</td>\n",
       "      <td>NaN</td>\n",
       "      <td>NaN</td>\n",
       "      <td>...</td>\n",
       "      <td>54.757019</td>\n",
       "      <td>54.757019</td>\n",
       "      <td>54.757019</td>\n",
       "      <td>54.757019</td>\n",
       "      <td>54.757019</td>\n",
       "      <td>54.757019</td>\n",
       "      <td>NaN</td>\n",
       "      <td>NaN</td>\n",
       "      <td>NaN</td>\n",
       "      <td>NaN</td>\n",
       "    </tr>\n",
       "    <tr>\n",
       "      <th>3</th>\n",
       "      <td>Africa Western and Central</td>\n",
       "      <td>AFW</td>\n",
       "      <td>Level of water stress: freshwater withdrawal a...</td>\n",
       "      <td>ER.H2O.FWST.ZS</td>\n",
       "      <td>NaN</td>\n",
       "      <td>NaN</td>\n",
       "      <td>NaN</td>\n",
       "      <td>NaN</td>\n",
       "      <td>NaN</td>\n",
       "      <td>NaN</td>\n",
       "      <td>...</td>\n",
       "      <td>NaN</td>\n",
       "      <td>NaN</td>\n",
       "      <td>NaN</td>\n",
       "      <td>NaN</td>\n",
       "      <td>NaN</td>\n",
       "      <td>NaN</td>\n",
       "      <td>NaN</td>\n",
       "      <td>NaN</td>\n",
       "      <td>NaN</td>\n",
       "      <td>NaN</td>\n",
       "    </tr>\n",
       "    <tr>\n",
       "      <th>4</th>\n",
       "      <td>Angola</td>\n",
       "      <td>AGO</td>\n",
       "      <td>Level of water stress: freshwater withdrawal a...</td>\n",
       "      <td>ER.H2O.FWST.ZS</td>\n",
       "      <td>NaN</td>\n",
       "      <td>NaN</td>\n",
       "      <td>NaN</td>\n",
       "      <td>NaN</td>\n",
       "      <td>NaN</td>\n",
       "      <td>NaN</td>\n",
       "      <td>...</td>\n",
       "      <td>1.871883</td>\n",
       "      <td>1.871883</td>\n",
       "      <td>1.871883</td>\n",
       "      <td>1.871883</td>\n",
       "      <td>1.871883</td>\n",
       "      <td>1.871883</td>\n",
       "      <td>NaN</td>\n",
       "      <td>NaN</td>\n",
       "      <td>NaN</td>\n",
       "      <td>NaN</td>\n",
       "    </tr>\n",
       "  </tbody>\n",
       "</table>\n",
       "<p>5 rows × 70 columns</p>\n",
       "</div>"
      ],
      "text/plain": [
       "                  Country Name Country Code  \\\n",
       "0                        Aruba          ABW   \n",
       "1  Africa Eastern and Southern          AFE   \n",
       "2                  Afghanistan          AFG   \n",
       "3   Africa Western and Central          AFW   \n",
       "4                       Angola          AGO   \n",
       "\n",
       "                                      Indicator Name  Indicator Code  1960  \\\n",
       "0  Level of water stress: freshwater withdrawal a...  ER.H2O.FWST.ZS   NaN   \n",
       "1  Level of water stress: freshwater withdrawal a...  ER.H2O.FWST.ZS   NaN   \n",
       "2  Level of water stress: freshwater withdrawal a...  ER.H2O.FWST.ZS   NaN   \n",
       "3  Level of water stress: freshwater withdrawal a...  ER.H2O.FWST.ZS   NaN   \n",
       "4  Level of water stress: freshwater withdrawal a...  ER.H2O.FWST.ZS   NaN   \n",
       "\n",
       "   1961  1962  1963  1964  1965  ...       2016       2017       2018  \\\n",
       "0   NaN   NaN   NaN   NaN   NaN  ...        NaN        NaN        NaN   \n",
       "1   NaN   NaN   NaN   NaN   NaN  ...        NaN        NaN        NaN   \n",
       "2   NaN   NaN   NaN   NaN   NaN  ...  54.757019  54.757019  54.757019   \n",
       "3   NaN   NaN   NaN   NaN   NaN  ...        NaN        NaN        NaN   \n",
       "4   NaN   NaN   NaN   NaN   NaN  ...   1.871883   1.871883   1.871883   \n",
       "\n",
       "        2019       2020       2021  2022  2023  2024  Unnamed: 69  \n",
       "0        NaN        NaN        NaN   NaN   NaN   NaN          NaN  \n",
       "1        NaN        NaN        NaN   NaN   NaN   NaN          NaN  \n",
       "2  54.757019  54.757019  54.757019   NaN   NaN   NaN          NaN  \n",
       "3        NaN        NaN        NaN   NaN   NaN   NaN          NaN  \n",
       "4   1.871883   1.871883   1.871883   NaN   NaN   NaN          NaN  \n",
       "\n",
       "[5 rows x 70 columns]"
      ]
     },
     "execution_count": 191,
     "metadata": {},
     "output_type": "execute_result"
    }
   ],
   "source": [
    "water_df = pd.read_csv(\"Water stress.csv\", engine='python', skiprows=4)\n",
    "\n",
    "water_df.head()"
   ]
  },
  {
   "cell_type": "code",
   "execution_count": 192,
   "id": "7605e791-72bd-4890-892a-af64dd3e3e08",
   "metadata": {
    "scrolled": true
   },
   "outputs": [
    {
     "name": "stdout",
     "output_type": "stream",
     "text": [
      "Index(['Country Name', 'Country Code', 'Indicator Name', 'Indicator Code',\n",
      "       '1960', '1961', '1962', '1963', '1964', '1965', '1966', '1967', '1968',\n",
      "       '1969', '1970', '1971', '1972', '1973', '1974', '1975', '1976', '1977',\n",
      "       '1978', '1979', '1980', '1981', '1982', '1983', '1984', '1985', '1986',\n",
      "       '1987', '1988', '1989', '1990', '1991', '1992', '1993', '1994', '1995',\n",
      "       '1996', '1997', '1998', '1999', '2000', '2001', '2002', '2003', '2004',\n",
      "       '2005', '2006', '2007', '2008', '2009', '2010', '2011', '2012', '2013',\n",
      "       '2014', '2015', '2016', '2017', '2018', '2019', '2020', '2021', '2022',\n",
      "       '2023', '2024', 'Unnamed: 69'],\n",
      "      dtype='object')\n",
      "Index(['Country Name', 'Country Code', 'Indicator Name', 'Indicator Code',\n",
      "       '1960', '1961', '1962', '1963', '1964', '1965', '1966', '1967', '1968',\n",
      "       '1969', '1970', '1971', '1972', '1973', '1974', '1975', '1976', '1977',\n",
      "       '1978', '1979', '1980', '1981', '1982', '1983', '1984', '1985', '1986',\n",
      "       '1987', '1988', '1989', '1990', '1991', '1992', '1993', '1994', '1995',\n",
      "       '1996', '1997', '1998', '1999', '2000', '2001', '2002', '2003', '2004',\n",
      "       '2005', '2006', '2007', '2008', '2009', '2010', '2011', '2012', '2013',\n",
      "       '2014', '2015', '2016', '2017', '2018', '2019', '2020', '2021', '2022',\n",
      "       '2023', '2024', 'Unnamed: 69'],\n",
      "      dtype='object')\n"
     ]
    }
   ],
   "source": [
    "print(urban_df.columns)\n",
    "print(water_df.columns)"
   ]
  },
  {
   "cell_type": "code",
   "execution_count": null,
   "id": "2ce56833-0bcf-4b4f-8dab-64e4ad33f497",
   "metadata": {},
   "outputs": [],
   "source": []
  },
  {
   "cell_type": "markdown",
   "id": "0b5cdfbd-d004-40af-8027-d5e6fc72b169",
   "metadata": {},
   "source": [
    "## __3. Clean Datasets__\n",
    "#### Steps: \n",
    "1. Fliter relevent variables\n",
    "2. Turn dataset into long\n",
    "5. Filter countries\n",
    "6. Identify and drop missing variables\n",
    "7. Align datasets & Merge!\n",
    "\n",
    "\n"
   ]
  },
  {
   "cell_type": "markdown",
   "id": "27827a25-2fe3-47d8-b641-fa47a1126e95",
   "metadata": {},
   "source": [
    "### __Urban population__\n",
    "\n",
    "### 1. Fliter relevent variables"
   ]
  },
  {
   "cell_type": "code",
   "execution_count": 193,
   "id": "fd48baf9-0671-49b5-928c-3c3e1f1a08b4",
   "metadata": {
    "scrolled": true
   },
   "outputs": [
    {
     "data": {
      "text/html": [
       "<div>\n",
       "<style scoped>\n",
       "    .dataframe tbody tr th:only-of-type {\n",
       "        vertical-align: middle;\n",
       "    }\n",
       "\n",
       "    .dataframe tbody tr th {\n",
       "        vertical-align: top;\n",
       "    }\n",
       "\n",
       "    .dataframe thead th {\n",
       "        text-align: right;\n",
       "    }\n",
       "</style>\n",
       "<table border=\"1\" class=\"dataframe\">\n",
       "  <thead>\n",
       "    <tr style=\"text-align: right;\">\n",
       "      <th></th>\n",
       "      <th>Country Name</th>\n",
       "      <th>1960</th>\n",
       "      <th>1961</th>\n",
       "      <th>1962</th>\n",
       "      <th>1963</th>\n",
       "      <th>1964</th>\n",
       "      <th>1965</th>\n",
       "      <th>1966</th>\n",
       "      <th>1967</th>\n",
       "      <th>1968</th>\n",
       "      <th>...</th>\n",
       "      <th>2015</th>\n",
       "      <th>2016</th>\n",
       "      <th>2017</th>\n",
       "      <th>2018</th>\n",
       "      <th>2019</th>\n",
       "      <th>2020</th>\n",
       "      <th>2021</th>\n",
       "      <th>2022</th>\n",
       "      <th>2023</th>\n",
       "      <th>2024</th>\n",
       "    </tr>\n",
       "  </thead>\n",
       "  <tbody>\n",
       "    <tr>\n",
       "      <th>0</th>\n",
       "      <td>Aruba</td>\n",
       "      <td>27887.0</td>\n",
       "      <td>28212.0</td>\n",
       "      <td>28580.0</td>\n",
       "      <td>28917.0</td>\n",
       "      <td>29221.0</td>\n",
       "      <td>29502.0</td>\n",
       "      <td>29749.0</td>\n",
       "      <td>29890.0</td>\n",
       "      <td>29921.0</td>\n",
       "      <td>...</td>\n",
       "      <td>46516.0</td>\n",
       "      <td>46961.0</td>\n",
       "      <td>47075.0</td>\n",
       "      <td>47278.0</td>\n",
       "      <td>47554.0</td>\n",
       "      <td>47449.0</td>\n",
       "      <td>47244.0</td>\n",
       "      <td>47272.0</td>\n",
       "      <td>47511.0</td>\n",
       "      <td>NaN</td>\n",
       "    </tr>\n",
       "    <tr>\n",
       "      <th>1</th>\n",
       "      <td>Africa Eastern and Southern</td>\n",
       "      <td>18960189.0</td>\n",
       "      <td>19796785.0</td>\n",
       "      <td>20690699.0</td>\n",
       "      <td>21653526.0</td>\n",
       "      <td>22685293.0</td>\n",
       "      <td>23779650.0</td>\n",
       "      <td>24937906.0</td>\n",
       "      <td>26161037.0</td>\n",
       "      <td>27457447.0</td>\n",
       "      <td>...</td>\n",
       "      <td>209137457.0</td>\n",
       "      <td>217677754.0</td>\n",
       "      <td>226557045.0</td>\n",
       "      <td>236107161.0</td>\n",
       "      <td>245939557.0</td>\n",
       "      <td>256139740.0</td>\n",
       "      <td>266650602.0</td>\n",
       "      <td>277426261.0</td>\n",
       "      <td>288380305.0</td>\n",
       "      <td>NaN</td>\n",
       "    </tr>\n",
       "    <tr>\n",
       "      <th>2</th>\n",
       "      <td>Afghanistan</td>\n",
       "      <td>759034.0</td>\n",
       "      <td>800151.0</td>\n",
       "      <td>844139.0</td>\n",
       "      <td>890912.0</td>\n",
       "      <td>940801.0</td>\n",
       "      <td>993966.0</td>\n",
       "      <td>1050560.0</td>\n",
       "      <td>1110480.0</td>\n",
       "      <td>1174441.0</td>\n",
       "      <td>...</td>\n",
       "      <td>8391292.0</td>\n",
       "      <td>8682093.0</td>\n",
       "      <td>9011456.0</td>\n",
       "      <td>9367638.0</td>\n",
       "      <td>9749465.0</td>\n",
       "      <td>10168092.0</td>\n",
       "      <td>10525708.0</td>\n",
       "      <td>10800465.0</td>\n",
       "      <td>11165011.0</td>\n",
       "      <td>NaN</td>\n",
       "    </tr>\n",
       "    <tr>\n",
       "      <th>3</th>\n",
       "      <td>Africa Western and Central</td>\n",
       "      <td>14361518.0</td>\n",
       "      <td>15050171.0</td>\n",
       "      <td>15775196.0</td>\n",
       "      <td>16550889.0</td>\n",
       "      <td>17374634.0</td>\n",
       "      <td>18251823.0</td>\n",
       "      <td>19144135.0</td>\n",
       "      <td>20088012.0</td>\n",
       "      <td>21089075.0</td>\n",
       "      <td>...</td>\n",
       "      <td>187526571.0</td>\n",
       "      <td>195289605.0</td>\n",
       "      <td>203221168.0</td>\n",
       "      <td>211219592.0</td>\n",
       "      <td>219276647.0</td>\n",
       "      <td>227465935.0</td>\n",
       "      <td>235827038.0</td>\n",
       "      <td>244365364.0</td>\n",
       "      <td>253228069.0</td>\n",
       "      <td>NaN</td>\n",
       "    </tr>\n",
       "    <tr>\n",
       "      <th>4</th>\n",
       "      <td>Angola</td>\n",
       "      <td>545923.0</td>\n",
       "      <td>572465.0</td>\n",
       "      <td>599897.0</td>\n",
       "      <td>628663.0</td>\n",
       "      <td>658872.0</td>\n",
       "      <td>690469.0</td>\n",
       "      <td>723627.0</td>\n",
       "      <td>758315.0</td>\n",
       "      <td>794500.0</td>\n",
       "      <td>...</td>\n",
       "      <td>17864997.0</td>\n",
       "      <td>18720648.0</td>\n",
       "      <td>19603967.0</td>\n",
       "      <td>20504018.0</td>\n",
       "      <td>21425222.0</td>\n",
       "      <td>22353719.0</td>\n",
       "      <td>23295577.0</td>\n",
       "      <td>24260684.0</td>\n",
       "      <td>25242775.0</td>\n",
       "      <td>NaN</td>\n",
       "    </tr>\n",
       "  </tbody>\n",
       "</table>\n",
       "<p>5 rows × 66 columns</p>\n",
       "</div>"
      ],
      "text/plain": [
       "                  Country Name        1960        1961        1962  \\\n",
       "0                        Aruba     27887.0     28212.0     28580.0   \n",
       "1  Africa Eastern and Southern  18960189.0  19796785.0  20690699.0   \n",
       "2                  Afghanistan    759034.0    800151.0    844139.0   \n",
       "3   Africa Western and Central  14361518.0  15050171.0  15775196.0   \n",
       "4                       Angola    545923.0    572465.0    599897.0   \n",
       "\n",
       "         1963        1964        1965        1966        1967        1968  \\\n",
       "0     28917.0     29221.0     29502.0     29749.0     29890.0     29921.0   \n",
       "1  21653526.0  22685293.0  23779650.0  24937906.0  26161037.0  27457447.0   \n",
       "2    890912.0    940801.0    993966.0   1050560.0   1110480.0   1174441.0   \n",
       "3  16550889.0  17374634.0  18251823.0  19144135.0  20088012.0  21089075.0   \n",
       "4    628663.0    658872.0    690469.0    723627.0    758315.0    794500.0   \n",
       "\n",
       "   ...         2015         2016         2017         2018         2019  \\\n",
       "0  ...      46516.0      46961.0      47075.0      47278.0      47554.0   \n",
       "1  ...  209137457.0  217677754.0  226557045.0  236107161.0  245939557.0   \n",
       "2  ...    8391292.0    8682093.0    9011456.0    9367638.0    9749465.0   \n",
       "3  ...  187526571.0  195289605.0  203221168.0  211219592.0  219276647.0   \n",
       "4  ...   17864997.0   18720648.0   19603967.0   20504018.0   21425222.0   \n",
       "\n",
       "          2020         2021         2022         2023  2024  \n",
       "0      47449.0      47244.0      47272.0      47511.0   NaN  \n",
       "1  256139740.0  266650602.0  277426261.0  288380305.0   NaN  \n",
       "2   10168092.0   10525708.0   10800465.0   11165011.0   NaN  \n",
       "3  227465935.0  235827038.0  244365364.0  253228069.0   NaN  \n",
       "4   22353719.0   23295577.0   24260684.0   25242775.0   NaN  \n",
       "\n",
       "[5 rows x 66 columns]"
      ]
     },
     "execution_count": 193,
     "metadata": {},
     "output_type": "execute_result"
    }
   ],
   "source": [
    "urban_filtered = urban_df[['Country Name',\n",
    "       '1960', '1961', '1962', '1963', '1964', '1965', '1966', '1967', '1968',\n",
    "       '1969', '1970', '1971', '1972', '1973', '1974', '1975', '1976', '1977',\n",
    "       '1978', '1979', '1980', '1981', '1982', '1983', '1984', '1985', '1986',\n",
    "       '1987', '1988', '1989', '1990', '1991', '1992', '1993', '1994', '1995',\n",
    "       '1996', '1997', '1998', '1999', '2000', '2001', '2002', '2003', '2004',\n",
    "       '2005', '2006', '2007', '2008', '2009', '2010', '2011', '2012', '2013',\n",
    "       '2014', '2015', '2016', '2017', '2018', '2019', '2020', '2021', '2022',\n",
    "       '2023', '2024']]\n",
    "urban_filtered.head()"
   ]
  },
  {
   "cell_type": "markdown",
   "id": "f71b3838-e652-4780-90d0-27ca69fb775c",
   "metadata": {},
   "source": [
    "### 2. Turn dataset into long"
   ]
  },
  {
   "cell_type": "code",
   "execution_count": 194,
   "id": "b6c0b7e6-2a21-4ff8-8d27-4b881417127b",
   "metadata": {},
   "outputs": [
    {
     "name": "stdout",
     "output_type": "stream",
     "text": [
      "                  Country Name  Year  Urban Population\n",
      "0                        Aruba  1960           27887.0\n",
      "1  Africa Eastern and Southern  1960        18960189.0\n",
      "2                  Afghanistan  1960          759034.0\n",
      "3   Africa Western and Central  1960        14361518.0\n",
      "4                       Angola  1960          545923.0\n",
      "       Country Name  Year  Urban Population\n",
      "17285        Kosovo  2024               NaN\n",
      "17286   Yemen, Rep.  2024               NaN\n",
      "17287  South Africa  2024               NaN\n",
      "17288        Zambia  2024               NaN\n",
      "17289      Zimbabwe  2024               NaN\n"
     ]
    }
   ],
   "source": [
    "\n",
    "urban_long = urban_filtered.melt(\n",
    "    id_vars='Country Name',        # keep 'Country' column as-is\n",
    "    var_name='Year',          # new column to hold the years\n",
    "    value_name='Urban Population'         # new column to hold pollution values\n",
    ")\n",
    "\n",
    "# Step 3: Convert the Year column from string to integer (optional but useful)\n",
    "urban_long['Year'] = urban_long['Year'].astype(int)\n",
    "\n",
    "# Step 4: Preview the reshaped data\n",
    "print(urban_long.head())\n",
    "print(urban_long.tail())\n"
   ]
  },
  {
   "cell_type": "markdown",
   "id": "744502d8-c238-4369-bfcb-eaa39d7f5691",
   "metadata": {},
   "source": [
    "### 3. filter countries "
   ]
  },
  {
   "cell_type": "code",
   "execution_count": 221,
   "id": "a1386cf7-5d43-4ab2-b665-8ffbb23d741e",
   "metadata": {},
   "outputs": [
    {
     "data": {
      "text/html": [
       "<div>\n",
       "<style scoped>\n",
       "    .dataframe tbody tr th:only-of-type {\n",
       "        vertical-align: middle;\n",
       "    }\n",
       "\n",
       "    .dataframe tbody tr th {\n",
       "        vertical-align: top;\n",
       "    }\n",
       "\n",
       "    .dataframe thead th {\n",
       "        text-align: right;\n",
       "    }\n",
       "</style>\n",
       "<table border=\"1\" class=\"dataframe\">\n",
       "  <thead>\n",
       "    <tr style=\"text-align: right;\">\n",
       "      <th></th>\n",
       "      <th>Country Name</th>\n",
       "      <th>Year</th>\n",
       "      <th>Urban Population</th>\n",
       "    </tr>\n",
       "  </thead>\n",
       "  <tbody>\n",
       "    <tr>\n",
       "      <th>17133</th>\n",
       "      <td>India</td>\n",
       "      <td>2024</td>\n",
       "      <td>NaN</td>\n",
       "    </tr>\n",
       "    <tr>\n",
       "      <th>17143</th>\n",
       "      <td>Japan</td>\n",
       "      <td>2024</td>\n",
       "      <td>NaN</td>\n",
       "    </tr>\n",
       "    <tr>\n",
       "      <th>17198</th>\n",
       "      <td>Nigeria</td>\n",
       "      <td>2024</td>\n",
       "      <td>NaN</td>\n",
       "    </tr>\n",
       "    <tr>\n",
       "      <th>17208</th>\n",
       "      <td>Pakistan</td>\n",
       "      <td>2024</td>\n",
       "      <td>NaN</td>\n",
       "    </tr>\n",
       "    <tr>\n",
       "      <th>17275</th>\n",
       "      <td>United States</td>\n",
       "      <td>2024</td>\n",
       "      <td>NaN</td>\n",
       "    </tr>\n",
       "  </tbody>\n",
       "</table>\n",
       "</div>"
      ],
      "text/plain": [
       "        Country Name  Year  Urban Population\n",
       "17133          India  2024               NaN\n",
       "17143          Japan  2024               NaN\n",
       "17198        Nigeria  2024               NaN\n",
       "17208       Pakistan  2024               NaN\n",
       "17275  United States  2024               NaN"
      ]
     },
     "execution_count": 221,
     "metadata": {},
     "output_type": "execute_result"
    }
   ],
   "source": [
    "selected_countries = ['Japan', 'United States', 'Germany', 'United Kingdom', 'Australia', \n",
    "                      'Brazil', 'India', 'China', 'Nigeria', 'Pakistan']\n",
    "\n",
    "urban_filtered = urban_long[urban_long['Country Name'].isin(selected_countries)]\n",
    "\n",
    "urban_filtered.head()\n",
    "urban_filtered.tail()"
   ]
  },
  {
   "cell_type": "markdown",
   "id": "036c8b24-d242-40ff-9869-be27991ee3ab",
   "metadata": {},
   "source": [
    "#### 4. Identify and drop missing variables"
   ]
  },
  {
   "cell_type": "code",
   "execution_count": 222,
   "id": "52187a77-23c9-4896-b11b-623d83b7ed0c",
   "metadata": {},
   "outputs": [
    {
     "name": "stdout",
     "output_type": "stream",
     "text": [
      "Country Name         0\n",
      "Year                 0\n",
      "Urban Population    10\n",
      "dtype: int64\n"
     ]
    }
   ],
   "source": [
    "print(urban_filtered.isnull().sum())"
   ]
  },
  {
   "cell_type": "code",
   "execution_count": 223,
   "id": "f93a21c3-d548-4903-83d4-1c0a701b8d45",
   "metadata": {},
   "outputs": [
    {
     "name": "stdout",
     "output_type": "stream",
     "text": [
      "         Country Name  Year  Urban Population\n",
      "17037       Australia  2024               NaN\n",
      "17053          Brazil  2024               NaN\n",
      "17064           China  2024               NaN\n",
      "17079         Germany  2024               NaN\n",
      "17105  United Kingdom  2024               NaN\n",
      "17133           India  2024               NaN\n",
      "17143           Japan  2024               NaN\n",
      "17198         Nigeria  2024               NaN\n",
      "17208        Pakistan  2024               NaN\n",
      "17275   United States  2024               NaN\n"
     ]
    }
   ],
   "source": [
    "#see missing rows\n",
    "\n",
    "print(urban_filtered[urban_filtered.isnull().any(axis=1)])"
   ]
  },
  {
   "cell_type": "code",
   "execution_count": 224,
   "id": "3245b022-9f1d-4876-b471-c0f678643434",
   "metadata": {},
   "outputs": [
    {
     "data": {
      "text/plain": [
       "Country Name        0\n",
       "Year                0\n",
       "Urban Population    0\n",
       "dtype: int64"
      ]
     },
     "execution_count": 224,
     "metadata": {},
     "output_type": "execute_result"
    }
   ],
   "source": [
    "# drop rows with missing values\n",
    "urban_clean = urban_filtered.dropna()\n",
    "\n",
    "urban_clean.isnull().sum()"
   ]
  },
  {
   "cell_type": "markdown",
   "id": "facc68e8-34e7-468e-9047-44aa57f59ee7",
   "metadata": {},
   "source": [
    "## Water stress\n",
    "### 1. Fliter relevent variables"
   ]
  },
  {
   "cell_type": "code",
   "execution_count": 225,
   "id": "16a3b3f5-f037-4e29-9a14-07b0ee26ab8c",
   "metadata": {
    "scrolled": true
   },
   "outputs": [
    {
     "data": {
      "text/html": [
       "<div>\n",
       "<style scoped>\n",
       "    .dataframe tbody tr th:only-of-type {\n",
       "        vertical-align: middle;\n",
       "    }\n",
       "\n",
       "    .dataframe tbody tr th {\n",
       "        vertical-align: top;\n",
       "    }\n",
       "\n",
       "    .dataframe thead th {\n",
       "        text-align: right;\n",
       "    }\n",
       "</style>\n",
       "<table border=\"1\" class=\"dataframe\">\n",
       "  <thead>\n",
       "    <tr style=\"text-align: right;\">\n",
       "      <th></th>\n",
       "      <th>Country Name</th>\n",
       "      <th>1960</th>\n",
       "      <th>1961</th>\n",
       "      <th>1962</th>\n",
       "      <th>1963</th>\n",
       "      <th>1964</th>\n",
       "      <th>1965</th>\n",
       "      <th>1966</th>\n",
       "      <th>1967</th>\n",
       "      <th>1968</th>\n",
       "      <th>...</th>\n",
       "      <th>2015</th>\n",
       "      <th>2016</th>\n",
       "      <th>2017</th>\n",
       "      <th>2018</th>\n",
       "      <th>2019</th>\n",
       "      <th>2020</th>\n",
       "      <th>2021</th>\n",
       "      <th>2022</th>\n",
       "      <th>2023</th>\n",
       "      <th>2024</th>\n",
       "    </tr>\n",
       "  </thead>\n",
       "  <tbody>\n",
       "    <tr>\n",
       "      <th>0</th>\n",
       "      <td>Aruba</td>\n",
       "      <td>NaN</td>\n",
       "      <td>NaN</td>\n",
       "      <td>NaN</td>\n",
       "      <td>NaN</td>\n",
       "      <td>NaN</td>\n",
       "      <td>NaN</td>\n",
       "      <td>NaN</td>\n",
       "      <td>NaN</td>\n",
       "      <td>NaN</td>\n",
       "      <td>...</td>\n",
       "      <td>NaN</td>\n",
       "      <td>NaN</td>\n",
       "      <td>NaN</td>\n",
       "      <td>NaN</td>\n",
       "      <td>NaN</td>\n",
       "      <td>NaN</td>\n",
       "      <td>NaN</td>\n",
       "      <td>NaN</td>\n",
       "      <td>NaN</td>\n",
       "      <td>NaN</td>\n",
       "    </tr>\n",
       "    <tr>\n",
       "      <th>1</th>\n",
       "      <td>Africa Eastern and Southern</td>\n",
       "      <td>NaN</td>\n",
       "      <td>NaN</td>\n",
       "      <td>NaN</td>\n",
       "      <td>NaN</td>\n",
       "      <td>NaN</td>\n",
       "      <td>NaN</td>\n",
       "      <td>NaN</td>\n",
       "      <td>NaN</td>\n",
       "      <td>NaN</td>\n",
       "      <td>...</td>\n",
       "      <td>NaN</td>\n",
       "      <td>NaN</td>\n",
       "      <td>NaN</td>\n",
       "      <td>NaN</td>\n",
       "      <td>NaN</td>\n",
       "      <td>NaN</td>\n",
       "      <td>NaN</td>\n",
       "      <td>NaN</td>\n",
       "      <td>NaN</td>\n",
       "      <td>NaN</td>\n",
       "    </tr>\n",
       "    <tr>\n",
       "      <th>2</th>\n",
       "      <td>Afghanistan</td>\n",
       "      <td>NaN</td>\n",
       "      <td>NaN</td>\n",
       "      <td>NaN</td>\n",
       "      <td>NaN</td>\n",
       "      <td>NaN</td>\n",
       "      <td>NaN</td>\n",
       "      <td>NaN</td>\n",
       "      <td>NaN</td>\n",
       "      <td>NaN</td>\n",
       "      <td>...</td>\n",
       "      <td>54.757019</td>\n",
       "      <td>54.757019</td>\n",
       "      <td>54.757019</td>\n",
       "      <td>54.757019</td>\n",
       "      <td>54.757019</td>\n",
       "      <td>54.757019</td>\n",
       "      <td>54.757019</td>\n",
       "      <td>NaN</td>\n",
       "      <td>NaN</td>\n",
       "      <td>NaN</td>\n",
       "    </tr>\n",
       "    <tr>\n",
       "      <th>3</th>\n",
       "      <td>Africa Western and Central</td>\n",
       "      <td>NaN</td>\n",
       "      <td>NaN</td>\n",
       "      <td>NaN</td>\n",
       "      <td>NaN</td>\n",
       "      <td>NaN</td>\n",
       "      <td>NaN</td>\n",
       "      <td>NaN</td>\n",
       "      <td>NaN</td>\n",
       "      <td>NaN</td>\n",
       "      <td>...</td>\n",
       "      <td>NaN</td>\n",
       "      <td>NaN</td>\n",
       "      <td>NaN</td>\n",
       "      <td>NaN</td>\n",
       "      <td>NaN</td>\n",
       "      <td>NaN</td>\n",
       "      <td>NaN</td>\n",
       "      <td>NaN</td>\n",
       "      <td>NaN</td>\n",
       "      <td>NaN</td>\n",
       "    </tr>\n",
       "    <tr>\n",
       "      <th>4</th>\n",
       "      <td>Angola</td>\n",
       "      <td>NaN</td>\n",
       "      <td>NaN</td>\n",
       "      <td>NaN</td>\n",
       "      <td>NaN</td>\n",
       "      <td>NaN</td>\n",
       "      <td>NaN</td>\n",
       "      <td>NaN</td>\n",
       "      <td>NaN</td>\n",
       "      <td>NaN</td>\n",
       "      <td>...</td>\n",
       "      <td>1.871883</td>\n",
       "      <td>1.871883</td>\n",
       "      <td>1.871883</td>\n",
       "      <td>1.871883</td>\n",
       "      <td>1.871883</td>\n",
       "      <td>1.871883</td>\n",
       "      <td>1.871883</td>\n",
       "      <td>NaN</td>\n",
       "      <td>NaN</td>\n",
       "      <td>NaN</td>\n",
       "    </tr>\n",
       "  </tbody>\n",
       "</table>\n",
       "<p>5 rows × 66 columns</p>\n",
       "</div>"
      ],
      "text/plain": [
       "                  Country Name  1960  1961  1962  1963  1964  1965  1966  \\\n",
       "0                        Aruba   NaN   NaN   NaN   NaN   NaN   NaN   NaN   \n",
       "1  Africa Eastern and Southern   NaN   NaN   NaN   NaN   NaN   NaN   NaN   \n",
       "2                  Afghanistan   NaN   NaN   NaN   NaN   NaN   NaN   NaN   \n",
       "3   Africa Western and Central   NaN   NaN   NaN   NaN   NaN   NaN   NaN   \n",
       "4                       Angola   NaN   NaN   NaN   NaN   NaN   NaN   NaN   \n",
       "\n",
       "   1967  1968  ...       2015       2016       2017       2018       2019  \\\n",
       "0   NaN   NaN  ...        NaN        NaN        NaN        NaN        NaN   \n",
       "1   NaN   NaN  ...        NaN        NaN        NaN        NaN        NaN   \n",
       "2   NaN   NaN  ...  54.757019  54.757019  54.757019  54.757019  54.757019   \n",
       "3   NaN   NaN  ...        NaN        NaN        NaN        NaN        NaN   \n",
       "4   NaN   NaN  ...   1.871883   1.871883   1.871883   1.871883   1.871883   \n",
       "\n",
       "        2020       2021  2022  2023  2024  \n",
       "0        NaN        NaN   NaN   NaN   NaN  \n",
       "1        NaN        NaN   NaN   NaN   NaN  \n",
       "2  54.757019  54.757019   NaN   NaN   NaN  \n",
       "3        NaN        NaN   NaN   NaN   NaN  \n",
       "4   1.871883   1.871883   NaN   NaN   NaN  \n",
       "\n",
       "[5 rows x 66 columns]"
      ]
     },
     "execution_count": 225,
     "metadata": {},
     "output_type": "execute_result"
    }
   ],
   "source": [
    "water_filtered = water_df[['Country Name',\n",
    "       '1960', '1961', '1962', '1963', '1964', '1965', '1966', '1967', '1968',\n",
    "       '1969', '1970', '1971', '1972', '1973', '1974', '1975', '1976', '1977',\n",
    "       '1978', '1979', '1980', '1981', '1982', '1983', '1984', '1985', '1986',\n",
    "       '1987', '1988', '1989', '1990', '1991', '1992', '1993', '1994', '1995',\n",
    "       '1996', '1997', '1998', '1999', '2000', '2001', '2002', '2003', '2004',\n",
    "       '2005', '2006', '2007', '2008', '2009', '2010', '2011', '2012', '2013',\n",
    "       '2014', '2015', '2016', '2017', '2018', '2019', '2020', '2021', '2022',\n",
    "       '2023', '2024']]\n",
    "water_filtered.head()"
   ]
  },
  {
   "cell_type": "markdown",
   "id": "0db63127-15d7-4c07-86fa-255285c596cf",
   "metadata": {},
   "source": [
    "### 2. make into long"
   ]
  },
  {
   "cell_type": "code",
   "execution_count": 226,
   "id": "786c1c70-2c71-4fec-aabd-f3dd3a0bd4b2",
   "metadata": {},
   "outputs": [
    {
     "name": "stdout",
     "output_type": "stream",
     "text": [
      "                  Country Name  Year  Water Stress\n",
      "0                        Aruba  1960           NaN\n",
      "1  Africa Eastern and Southern  1960           NaN\n",
      "2                  Afghanistan  1960           NaN\n",
      "3   Africa Western and Central  1960           NaN\n",
      "4                       Angola  1960           NaN\n",
      "       Country Name  Year  Water Stress\n",
      "17285        Kosovo  2024           NaN\n",
      "17286   Yemen, Rep.  2024           NaN\n",
      "17287  South Africa  2024           NaN\n",
      "17288        Zambia  2024           NaN\n",
      "17289      Zimbabwe  2024           NaN\n"
     ]
    }
   ],
   "source": [
    "\n",
    "water_long = water_filtered.melt(\n",
    "    id_vars='Country Name',        # keep 'Country' column as-is\n",
    "    var_name='Year',          # new column to hold the years\n",
    "    value_name='Water Stress'         # new column to hold pollution values\n",
    ")\n",
    "\n",
    "# Step 3: Convert the Year column from string to integer (optional but useful)\n",
    "water_long['Year'] = water_long['Year'].astype(int)\n",
    "\n",
    "# Step 4: Preview the reshaped data\n",
    "print(water_long.head())\n",
    "print(water_long.tail())\n"
   ]
  },
  {
   "cell_type": "markdown",
   "id": "0e1b990e-16b5-48c4-9682-ab959b9d9fb0",
   "metadata": {},
   "source": [
    "#### 3. Select countries"
   ]
  },
  {
   "cell_type": "code",
   "execution_count": 227,
   "id": "2c274ae2-0639-48b4-ae77-5696b033bf1f",
   "metadata": {},
   "outputs": [
    {
     "name": "stdout",
     "output_type": "stream",
     "text": [
      "      Country Name  Year  Urban Population\n",
      "13       Australia  1960         8378309.0\n",
      "29          Brazil  1960        33399157.0\n",
      "40           China  1960       108085352.0\n",
      "55         Germany  1960        51978188.0\n",
      "81  United Kingdom  1960        41104656.0\n",
      "        Country Name  Year  Urban Population\n",
      "17133          India  2024               NaN\n",
      "17143          Japan  2024               NaN\n",
      "17198        Nigeria  2024               NaN\n",
      "17208       Pakistan  2024               NaN\n",
      "17275  United States  2024               NaN\n"
     ]
    }
   ],
   "source": [
    "water_filtered = water_long[water_long['Country Name'].isin(selected_countries)]\n",
    "\n",
    "print(urban_filtered.head())\n",
    "print(urban_filtered.tail())"
   ]
  },
  {
   "cell_type": "markdown",
   "id": "7afc3637-a898-489e-bc92-68ce4fc8d0bc",
   "metadata": {},
   "source": [
    "#### 4. Identify and drop missing variables"
   ]
  },
  {
   "cell_type": "code",
   "execution_count": 228,
   "id": "56303794-4d9e-40a8-ba96-9993f613d8e4",
   "metadata": {},
   "outputs": [
    {
     "data": {
      "text/plain": [
       "<bound method DataFrame.info of          Country Name  Year  Water Stress\n",
       "13          Australia  1960           NaN\n",
       "29             Brazil  1960           NaN\n",
       "40              China  1960           NaN\n",
       "55            Germany  1960           NaN\n",
       "81     United Kingdom  1960           NaN\n",
       "...               ...   ...           ...\n",
       "17133           India  2024           NaN\n",
       "17143           Japan  2024           NaN\n",
       "17198         Nigeria  2024           NaN\n",
       "17208        Pakistan  2024           NaN\n",
       "17275   United States  2024           NaN\n",
       "\n",
       "[650 rows x 3 columns]>"
      ]
     },
     "execution_count": 228,
     "metadata": {},
     "output_type": "execute_result"
    }
   ],
   "source": [
    "water_filtered.info"
   ]
  },
  {
   "cell_type": "code",
   "execution_count": 229,
   "id": "ee8ccc50-39d8-4e10-bbb9-d37d915d0e24",
   "metadata": {},
   "outputs": [
    {
     "name": "stdout",
     "output_type": "stream",
     "text": [
      "Country Name      0\n",
      "Year              0\n",
      "Water Stress    258\n",
      "dtype: int64\n"
     ]
    }
   ],
   "source": [
    "print(water_filtered.isnull().sum())"
   ]
  },
  {
   "cell_type": "code",
   "execution_count": 230,
   "id": "9ccfdf81-3a1e-4ad3-b3cf-593ef81cbf1c",
   "metadata": {},
   "outputs": [
    {
     "name": "stdout",
     "output_type": "stream",
     "text": [
      "         Country Name  Year  Water Stress\n",
      "13          Australia  1960           NaN\n",
      "29             Brazil  1960           NaN\n",
      "40              China  1960           NaN\n",
      "55            Germany  1960           NaN\n",
      "81     United Kingdom  1960           NaN\n",
      "...               ...   ...           ...\n",
      "17133           India  2024           NaN\n",
      "17143           Japan  2024           NaN\n",
      "17198         Nigeria  2024           NaN\n",
      "17208        Pakistan  2024           NaN\n",
      "17275   United States  2024           NaN\n",
      "\n",
      "[258 rows x 3 columns]\n"
     ]
    }
   ],
   "source": [
    "#see missing rows\n",
    "\n",
    "print(water_filtered[water_filtered.isnull().any(axis=1)])"
   ]
  },
  {
   "cell_type": "code",
   "execution_count": 231,
   "id": "3c067678-40f0-466d-933a-4c57f814a740",
   "metadata": {},
   "outputs": [
    {
     "data": {
      "text/plain": [
       "Country Name    0\n",
       "Year            0\n",
       "Water Stress    0\n",
       "dtype: int64"
      ]
     },
     "execution_count": 231,
     "metadata": {},
     "output_type": "execute_result"
    }
   ],
   "source": [
    "# drop rows with missing values\n",
    "water_clean = water_filtered.dropna()\n",
    "\n",
    "water_clean.isnull().sum()"
   ]
  },
  {
   "cell_type": "code",
   "execution_count": 232,
   "id": "8656fdf9-bd60-4a3b-bd1e-738c53bec3ed",
   "metadata": {},
   "outputs": [
    {
     "data": {
      "text/plain": [
       "<bound method DataFrame.info of         Country Name  Year  Water Stress\n",
       "4099           India  1975     39.022387\n",
       "4174        Pakistan  1975     94.085025\n",
       "4365           India  1976     40.220785\n",
       "4440        Pakistan  1976     94.170603\n",
       "4631           India  1977     41.419183\n",
       "...              ...   ...           ...\n",
       "16335          India  2021     66.492093\n",
       "16345          Japan  2021     36.045977\n",
       "16400        Nigeria  2021      9.668217\n",
       "16410       Pakistan  2021    162.069812\n",
       "16477  United States  2021     28.161984\n",
       "\n",
       "[392 rows x 3 columns]>"
      ]
     },
     "execution_count": 232,
     "metadata": {},
     "output_type": "execute_result"
    }
   ],
   "source": [
    "water_clean.info"
   ]
  },
  {
   "cell_type": "markdown",
   "id": "aaf0838e-7fd3-4d89-8651-8986dda840e2",
   "metadata": {},
   "source": [
    "#### 5. Align datasets and merge!"
   ]
  },
  {
   "cell_type": "code",
   "execution_count": 233,
   "id": "039c66f9-7caf-461c-b1c5-bfd4ab810df7",
   "metadata": {},
   "outputs": [
    {
     "name": "stdout",
     "output_type": "stream",
     "text": [
      "      Country Name  Year  Urban Population\n",
      "13       Australia  1960         8378309.0\n",
      "29          Brazil  1960        33399157.0\n",
      "40           China  1960       108085352.0\n",
      "55         Germany  1960        51978188.0\n",
      "81  United Kingdom  1960        41104656.0\n",
      "     Country Name  Year  Water Stress\n",
      "4099        India  1975     39.022387\n",
      "4174     Pakistan  1975     94.085025\n",
      "4365        India  1976     40.220785\n",
      "4440     Pakistan  1976     94.170603\n",
      "4631        India  1977     41.419183\n"
     ]
    }
   ],
   "source": [
    "# Get unique countries and years in each dataset\n",
    "urban_countries = set(urban_clean['Country Name'].unique())\n",
    "water_countries = set(water_clean['Country Name'].unique())\n",
    "\n",
    "urban_years = set(urban_clean['Year'].unique())\n",
    "water_years = set(water_clean['Year'].unique())\n",
    "\n",
    "# Find intersection\n",
    "common_countries = urban_countries.intersection(water_countries)\n",
    "common_years = urban_years.intersection(water_years)\n",
    "\n",
    "print(urban_clean.head())\n",
    "print(water_clean.head())"
   ]
  },
  {
   "cell_type": "code",
   "execution_count": 234,
   "id": "6d4e1d3f-767b-463e-92d6-ae31f62aee66",
   "metadata": {},
   "outputs": [
    {
     "name": "stdout",
     "output_type": "stream",
     "text": [
      "        Country Name  Year  Urban Population\n",
      "4003       Australia  1975        11780153.0\n",
      "4019          Brazil  1975        65420857.0\n",
      "4030           China  1975       159452730.0\n",
      "4045         Germany  1975        57085531.0\n",
      "4071  United Kingdom  1975        43677888.0\n",
      "4099           India  1975       130404550.0\n",
      "4109           Japan  1975        84478613.0\n",
      "4164         Nigeria  1975        12542659.0\n",
      "4174        Pakistan  1975        18296768.0\n",
      "4241   United States  1975       159070594.0\n",
      "     Country Name  Year  Water Stress\n",
      "4099        India  1975     39.022387\n",
      "4174     Pakistan  1975     94.085025\n",
      "4365        India  1976     40.220785\n",
      "4440     Pakistan  1976     94.170603\n",
      "4631        India  1977     41.419183\n",
      "4706     Pakistan  1977     94.256181\n",
      "4897        India  1978     42.617581\n",
      "4972     Pakistan  1978     94.341758\n",
      "5163        India  1979     43.815979\n",
      "5238     Pakistan  1979     94.427336\n"
     ]
    }
   ],
   "source": [
    "urban_aligned = urban_clean[\n",
    "    (urban_clean['Country Name'].isin(common_countries)) &\n",
    "    (urban_clean['Year'].isin(common_years))\n",
    "]\n",
    "\n",
    "water_aligned = water_clean[\n",
    "    (water_clean['Country Name'].isin(common_countries)) &\n",
    "    (water_clean['Year'].isin(common_years))\n",
    "]\n",
    "\n",
    "print(urban_aligned.head(10))\n",
    "print(water_aligned.head(10))"
   ]
  },
  {
   "cell_type": "code",
   "execution_count": 235,
   "id": "1f54b131-2713-4328-b7b1-316bcf0e00d0",
   "metadata": {},
   "outputs": [
    {
     "data": {
      "text/html": [
       "<div>\n",
       "<style scoped>\n",
       "    .dataframe tbody tr th:only-of-type {\n",
       "        vertical-align: middle;\n",
       "    }\n",
       "\n",
       "    .dataframe tbody tr th {\n",
       "        vertical-align: top;\n",
       "    }\n",
       "\n",
       "    .dataframe thead th {\n",
       "        text-align: right;\n",
       "    }\n",
       "</style>\n",
       "<table border=\"1\" class=\"dataframe\">\n",
       "  <thead>\n",
       "    <tr style=\"text-align: right;\">\n",
       "      <th></th>\n",
       "      <th>Country Name</th>\n",
       "      <th>Year</th>\n",
       "      <th>Urban Population</th>\n",
       "      <th>Water Stress</th>\n",
       "    </tr>\n",
       "  </thead>\n",
       "  <tbody>\n",
       "    <tr>\n",
       "      <th>0</th>\n",
       "      <td>India</td>\n",
       "      <td>1975</td>\n",
       "      <td>130404550.0</td>\n",
       "      <td>39.022387</td>\n",
       "    </tr>\n",
       "    <tr>\n",
       "      <th>1</th>\n",
       "      <td>Pakistan</td>\n",
       "      <td>1975</td>\n",
       "      <td>18296768.0</td>\n",
       "      <td>94.085025</td>\n",
       "    </tr>\n",
       "    <tr>\n",
       "      <th>2</th>\n",
       "      <td>India</td>\n",
       "      <td>1976</td>\n",
       "      <td>135668080.0</td>\n",
       "      <td>40.220785</td>\n",
       "    </tr>\n",
       "    <tr>\n",
       "      <th>3</th>\n",
       "      <td>Pakistan</td>\n",
       "      <td>1976</td>\n",
       "      <td>19109000.0</td>\n",
       "      <td>94.170603</td>\n",
       "    </tr>\n",
       "    <tr>\n",
       "      <th>4</th>\n",
       "      <td>India</td>\n",
       "      <td>1977</td>\n",
       "      <td>141142851.0</td>\n",
       "      <td>41.419183</td>\n",
       "    </tr>\n",
       "    <tr>\n",
       "      <th>...</th>\n",
       "      <td>...</td>\n",
       "      <td>...</td>\n",
       "      <td>...</td>\n",
       "      <td>...</td>\n",
       "    </tr>\n",
       "    <tr>\n",
       "      <th>387</th>\n",
       "      <td>India</td>\n",
       "      <td>2021</td>\n",
       "      <td>500529185.0</td>\n",
       "      <td>66.492093</td>\n",
       "    </tr>\n",
       "    <tr>\n",
       "      <th>388</th>\n",
       "      <td>Japan</td>\n",
       "      <td>2021</td>\n",
       "      <td>115459909.0</td>\n",
       "      <td>36.045977</td>\n",
       "    </tr>\n",
       "    <tr>\n",
       "      <th>389</th>\n",
       "      <td>Nigeria</td>\n",
       "      <td>2021</td>\n",
       "      <td>115265457.0</td>\n",
       "      <td>9.668217</td>\n",
       "    </tr>\n",
       "    <tr>\n",
       "      <th>390</th>\n",
       "      <td>Pakistan</td>\n",
       "      <td>2021</td>\n",
       "      <td>89660489.0</td>\n",
       "      <td>162.069812</td>\n",
       "    </tr>\n",
       "    <tr>\n",
       "      <th>391</th>\n",
       "      <td>United States</td>\n",
       "      <td>2021</td>\n",
       "      <td>275178949.0</td>\n",
       "      <td>28.161984</td>\n",
       "    </tr>\n",
       "  </tbody>\n",
       "</table>\n",
       "<p>392 rows × 4 columns</p>\n",
       "</div>"
      ],
      "text/plain": [
       "      Country Name  Year  Urban Population  Water Stress\n",
       "0            India  1975       130404550.0     39.022387\n",
       "1         Pakistan  1975        18296768.0     94.085025\n",
       "2            India  1976       135668080.0     40.220785\n",
       "3         Pakistan  1976        19109000.0     94.170603\n",
       "4            India  1977       141142851.0     41.419183\n",
       "..             ...   ...               ...           ...\n",
       "387          India  2021       500529185.0     66.492093\n",
       "388          Japan  2021       115459909.0     36.045977\n",
       "389        Nigeria  2021       115265457.0      9.668217\n",
       "390       Pakistan  2021        89660489.0    162.069812\n",
       "391  United States  2021       275178949.0     28.161984\n",
       "\n",
       "[392 rows x 4 columns]"
      ]
     },
     "execution_count": 235,
     "metadata": {},
     "output_type": "execute_result"
    }
   ],
   "source": [
    "merged_df = pd.merge(\n",
    "    urban_aligned,\n",
    "    water_aligned,\n",
    "    on=['Country Name', 'Year'],\n",
    "    how='inner'\n",
    ")\n",
    "\n",
    "merged_df.isnull().sum()\n",
    "merged_df"
   ]
  },
  {
   "cell_type": "code",
   "execution_count": 236,
   "id": "be090913-b2d6-44ed-88f0-8b88fea3fac3",
   "metadata": {},
   "outputs": [
    {
     "name": "stdout",
     "output_type": "stream",
     "text": [
      "<class 'pandas.core.frame.DataFrame'>\n",
      "RangeIndex: 392 entries, 0 to 391\n",
      "Data columns (total 4 columns):\n",
      " #   Column            Non-Null Count  Dtype  \n",
      "---  ------            --------------  -----  \n",
      " 0   Country Name      392 non-null    object \n",
      " 1   Year              392 non-null    int64  \n",
      " 2   Urban Population  392 non-null    float64\n",
      " 3   Water Stress      392 non-null    float64\n",
      "dtypes: float64(2), int64(1), object(1)\n",
      "memory usage: 12.4+ KB\n",
      "None\n",
      "              Year  Urban Population  Water Stress\n",
      "count   392.000000      3.920000e+02    392.000000\n",
      "mean   2001.441327      1.588393e+08     38.738803\n",
      "std      12.062142      1.657237e+08     31.067160\n",
      "min    1975.000000      1.501727e+07      1.464113\n",
      "25%    1992.000000      4.977507e+07      9.668217\n",
      "50%    2002.000000      9.847007e+07     35.825506\n",
      "75%    2012.000000      2.095660e+08     51.226638\n",
      "max    2021.000000      8.828945e+08    162.069812\n",
      "Country Name        0\n",
      "Year                0\n",
      "Urban Population    0\n",
      "Water Stress        0\n",
      "dtype: int64\n"
     ]
    }
   ],
   "source": [
    "#final check \n",
    "print(merged_df.info())          # Check for data types and final NaNs\n",
    "print(merged_df.describe())      # Get a sense of the value ranges\n",
    "print(merged_df.isnull().sum())  # Confirm all NaNs are gone"
   ]
  },
  {
   "cell_type": "markdown",
   "id": "184c7f09-7e46-475e-9438-e54ce3d36d19",
   "metadata": {},
   "source": [
    "## __4. Visualization__\n",
    "### 4.1 line chart (time series) \n",
    "    ... see change in water stress and urban population over time.\n",
    "    there will be two interactive charts: \n",
    "- developed countries\n",
    "- developing countries\n",
    "\n",
    "#### Steps: \n",
    "1. Distinguish developing vs developed\n",
    "2. Normalize variables\n",
    "3. Split the Dataset by Group\n",
    "4. Create Interactive Plot\n",
    "5. Refine Plot\n",
    "\n",
    "### 4.2 Scatter plot (for correlation)\n",
    "    ... Identify correlation between urban population and water stress. Tha graph will be for each year and each dot will represent a country. You can move throgh the years with the slider.\n",
    "\n",
    "1. Distinguish developing vs developed (same as above)\n",
    "2. Create ne Scatter Plot per Year\n",
    "3. Create Interactive Plot\n",
    "4. Add a Slider\n",
    "5. Refine Plot"
   ]
  },
  {
   "cell_type": "markdown",
   "id": "01e05b5e-beaa-4303-9b92-c68744134132",
   "metadata": {},
   "source": [
    "### 4.1 line chart\n",
    "#### 1. Distinguish developing vs developed"
   ]
  },
  {
   "cell_type": "code",
   "execution_count": 254,
   "id": "5a86f1d2-7b6b-4973-9ef5-8f06c97985b5",
   "metadata": {},
   "outputs": [
    {
     "data": {
      "text/html": [
       "<div>\n",
       "<style scoped>\n",
       "    .dataframe tbody tr th:only-of-type {\n",
       "        vertical-align: middle;\n",
       "    }\n",
       "\n",
       "    .dataframe tbody tr th {\n",
       "        vertical-align: top;\n",
       "    }\n",
       "\n",
       "    .dataframe thead th {\n",
       "        text-align: right;\n",
       "    }\n",
       "</style>\n",
       "<table border=\"1\" class=\"dataframe\">\n",
       "  <thead>\n",
       "    <tr style=\"text-align: right;\">\n",
       "      <th></th>\n",
       "      <th>Country Name</th>\n",
       "      <th>Year</th>\n",
       "      <th>Urban Population</th>\n",
       "      <th>Water Stress</th>\n",
       "      <th>Group</th>\n",
       "      <th>Urban_Scaled</th>\n",
       "      <th>Water_Scaled</th>\n",
       "    </tr>\n",
       "  </thead>\n",
       "  <tbody>\n",
       "    <tr>\n",
       "      <th>0</th>\n",
       "      <td>Australia</td>\n",
       "      <td>1993</td>\n",
       "      <td>15017273.0</td>\n",
       "      <td>7.458866</td>\n",
       "      <td>Developed</td>\n",
       "      <td>0.000000</td>\n",
       "      <td>0.732398</td>\n",
       "    </tr>\n",
       "    <tr>\n",
       "      <th>1</th>\n",
       "      <td>Australia</td>\n",
       "      <td>1994</td>\n",
       "      <td>15139633.0</td>\n",
       "      <td>8.488219</td>\n",
       "      <td>Developed</td>\n",
       "      <td>0.017077</td>\n",
       "      <td>0.922166</td>\n",
       "    </tr>\n",
       "    <tr>\n",
       "      <th>2</th>\n",
       "      <td>Australia</td>\n",
       "      <td>1995</td>\n",
       "      <td>15285785.0</td>\n",
       "      <td>7.981584</td>\n",
       "      <td>Developed</td>\n",
       "      <td>0.037475</td>\n",
       "      <td>0.828765</td>\n",
       "    </tr>\n",
       "    <tr>\n",
       "      <th>3</th>\n",
       "      <td>Australia</td>\n",
       "      <td>1996</td>\n",
       "      <td>15448588.0</td>\n",
       "      <td>8.910414</td>\n",
       "      <td>Developed</td>\n",
       "      <td>0.060196</td>\n",
       "      <td>1.000000</td>\n",
       "    </tr>\n",
       "    <tr>\n",
       "      <th>4</th>\n",
       "      <td>Australia</td>\n",
       "      <td>1997</td>\n",
       "      <td>15592522.0</td>\n",
       "      <td>8.817129</td>\n",
       "      <td>Developed</td>\n",
       "      <td>0.080284</td>\n",
       "      <td>0.982802</td>\n",
       "    </tr>\n",
       "    <tr>\n",
       "      <th>...</th>\n",
       "      <td>...</td>\n",
       "      <td>...</td>\n",
       "      <td>...</td>\n",
       "      <td>...</td>\n",
       "      <td>...</td>\n",
       "      <td>...</td>\n",
       "      <td>...</td>\n",
       "    </tr>\n",
       "    <tr>\n",
       "      <th>387</th>\n",
       "      <td>United States</td>\n",
       "      <td>2017</td>\n",
       "      <td>266788716.0</td>\n",
       "      <td>28.161984</td>\n",
       "      <td>Developed</td>\n",
       "      <td>0.922044</td>\n",
       "      <td>0.259819</td>\n",
       "    </tr>\n",
       "    <tr>\n",
       "      <th>388</th>\n",
       "      <td>United States</td>\n",
       "      <td>2018</td>\n",
       "      <td>268844029.0</td>\n",
       "      <td>28.161984</td>\n",
       "      <td>Developed</td>\n",
       "      <td>0.941140</td>\n",
       "      <td>0.259819</td>\n",
       "    </tr>\n",
       "    <tr>\n",
       "      <th>389</th>\n",
       "      <td>United States</td>\n",
       "      <td>2019</td>\n",
       "      <td>270737596.0</td>\n",
       "      <td>28.161984</td>\n",
       "      <td>Developed</td>\n",
       "      <td>0.958734</td>\n",
       "      <td>0.259819</td>\n",
       "    </tr>\n",
       "    <tr>\n",
       "      <th>390</th>\n",
       "      <td>United States</td>\n",
       "      <td>2020</td>\n",
       "      <td>274053424.0</td>\n",
       "      <td>28.161984</td>\n",
       "      <td>Developed</td>\n",
       "      <td>0.989542</td>\n",
       "      <td>0.259819</td>\n",
       "    </tr>\n",
       "    <tr>\n",
       "      <th>391</th>\n",
       "      <td>United States</td>\n",
       "      <td>2021</td>\n",
       "      <td>275178949.0</td>\n",
       "      <td>28.161984</td>\n",
       "      <td>Developed</td>\n",
       "      <td>1.000000</td>\n",
       "      <td>0.259819</td>\n",
       "    </tr>\n",
       "  </tbody>\n",
       "</table>\n",
       "<p>392 rows × 7 columns</p>\n",
       "</div>"
      ],
      "text/plain": [
       "      Country Name  Year  Urban Population  Water Stress      Group  \\\n",
       "0        Australia  1993        15017273.0      7.458866  Developed   \n",
       "1        Australia  1994        15139633.0      8.488219  Developed   \n",
       "2        Australia  1995        15285785.0      7.981584  Developed   \n",
       "3        Australia  1996        15448588.0      8.910414  Developed   \n",
       "4        Australia  1997        15592522.0      8.817129  Developed   \n",
       "..             ...   ...               ...           ...        ...   \n",
       "387  United States  2017       266788716.0     28.161984  Developed   \n",
       "388  United States  2018       268844029.0     28.161984  Developed   \n",
       "389  United States  2019       270737596.0     28.161984  Developed   \n",
       "390  United States  2020       274053424.0     28.161984  Developed   \n",
       "391  United States  2021       275178949.0     28.161984  Developed   \n",
       "\n",
       "     Urban_Scaled  Water_Scaled  \n",
       "0        0.000000      0.732398  \n",
       "1        0.017077      0.922166  \n",
       "2        0.037475      0.828765  \n",
       "3        0.060196      1.000000  \n",
       "4        0.080284      0.982802  \n",
       "..            ...           ...  \n",
       "387      0.922044      0.259819  \n",
       "388      0.941140      0.259819  \n",
       "389      0.958734      0.259819  \n",
       "390      0.989542      0.259819  \n",
       "391      1.000000      0.259819  \n",
       "\n",
       "[392 rows x 7 columns]"
      ]
     },
     "execution_count": 254,
     "metadata": {},
     "output_type": "execute_result"
    }
   ],
   "source": [
    "developed = ['Japan', 'United States', 'Germany', 'United Kingdom', 'Australia']\n",
    "developing = [ 'Brazil', 'India', 'China', 'Nigeria', 'Pakistan']\n",
    "\n",
    "merged_df['Group'] = merged_df['Country Name'].apply(\n",
    "    lambda x: 'Developed' if x in developed else 'Developing'\n",
    ")\n",
    "\n",
    "merged_df"
   ]
  },
  {
   "cell_type": "markdown",
   "id": "2484107e-56f8-4bbf-a889-77590f535226",
   "metadata": {},
   "source": [
    "#### 2. Normalize values"
   ]
  },
  {
   "cell_type": "code",
   "execution_count": 255,
   "id": "ada99543-513e-415e-bb10-ff8093e0f404",
   "metadata": {},
   "outputs": [
    {
     "name": "stderr",
     "output_type": "stream",
     "text": [
      "/var/folders/4w/_l888jr17kggwhk1765hn59h0000gn/T/ipykernel_43337/4144589928.py:15: DeprecationWarning:\n",
      "\n",
      "DataFrameGroupBy.apply operated on the grouping columns. This behavior is deprecated, and in a future version of pandas the grouping columns will be excluded from the operation. Either pass `include_groups=False` to exclude the groupings or explicitly select the grouping columns after groupby to silence this warning.\n",
      "\n"
     ]
    }
   ],
   "source": [
    "def normalize(group):\n",
    "    # Normalize Urban Population\n",
    "    group['Urban_Scaled'] = (group['Urban Population'] - group['Urban Population'].min()) / (group['Urban Population'].max() - group['Urban Population'].min())\n",
    "\n",
    "    # Normalize Water Stress\n",
    "    group['Water_Scaled'] = (group['Water Stress'] - group['Water Stress'].min()) / (group['Water Stress'].max() - group['Water Stress'].min())\n",
    "\n",
    "    return group\n",
    "\n",
    "# This function:\n",
    "# Takes one country’s data at a time (group)\n",
    "# Applies min-max normalization to both variables\n",
    "# Adds two new columns: 'Urban_Scaled' and 'Water_Scaled'\n",
    "\n",
    "merged_df = merged_df.groupby('Country Name').apply(normalize).reset_index(drop=True)\n",
    "\n",
    "# What this does:\n",
    "# Breaks your data into chunks per country\n",
    "# Applies the normalize() function to each chunk\n",
    "# Resets the index to keep it clean"
   ]
  },
  {
   "cell_type": "code",
   "execution_count": 256,
   "id": "5788d5e1-5fd1-4a0d-bd9c-3477d6e9133b",
   "metadata": {},
   "outputs": [
    {
     "name": "stdout",
     "output_type": "stream",
     "text": [
      "  Country Name  Year  Urban Population  Urban_Scaled  Water Stress  \\\n",
      "0    Australia  1993        15017273.0      0.000000      7.458866   \n",
      "1    Australia  1994        15139633.0      0.017077      8.488219   \n",
      "2    Australia  1995        15285785.0      0.037475      7.981584   \n",
      "3    Australia  1996        15448588.0      0.060196      8.910414   \n",
      "4    Australia  1997        15592522.0      0.080284      8.817129   \n",
      "\n",
      "   Water_Scaled      Group  \n",
      "0      0.732398  Developed  \n",
      "1      0.922166  Developed  \n",
      "2      0.828765  Developed  \n",
      "3      1.000000  Developed  \n",
      "4      0.982802  Developed  \n"
     ]
    }
   ],
   "source": [
    "print(merged_df[['Country Name', 'Year', 'Urban Population', 'Urban_Scaled', 'Water Stress', 'Water_Scaled', 'Group']].head())\n"
   ]
  },
  {
   "cell_type": "code",
   "execution_count": 257,
   "id": "759ca9bf-c78b-4a68-a240-202702ebe7c9",
   "metadata": {},
   "outputs": [],
   "source": [
    "#Yay"
   ]
  },
  {
   "cell_type": "code",
   "execution_count": 258,
   "id": "4e41e412-2be2-4d6e-8d7c-e9aee102c5c7",
   "metadata": {},
   "outputs": [
    {
     "data": {
      "text/html": [
       "<div>\n",
       "<style scoped>\n",
       "    .dataframe tbody tr th:only-of-type {\n",
       "        vertical-align: middle;\n",
       "    }\n",
       "\n",
       "    .dataframe tbody tr th {\n",
       "        vertical-align: top;\n",
       "    }\n",
       "\n",
       "    .dataframe thead th {\n",
       "        text-align: right;\n",
       "    }\n",
       "</style>\n",
       "<table border=\"1\" class=\"dataframe\">\n",
       "  <thead>\n",
       "    <tr style=\"text-align: right;\">\n",
       "      <th></th>\n",
       "      <th>Country Name</th>\n",
       "      <th>Year</th>\n",
       "      <th>Urban Population</th>\n",
       "      <th>Water Stress</th>\n",
       "      <th>Group</th>\n",
       "      <th>Urban_Scaled</th>\n",
       "      <th>Water_Scaled</th>\n",
       "    </tr>\n",
       "  </thead>\n",
       "  <tbody>\n",
       "    <tr>\n",
       "      <th>298</th>\n",
       "      <td>Pakistan</td>\n",
       "      <td>2012</td>\n",
       "      <td>73530776.0</td>\n",
       "      <td>115.256733</td>\n",
       "      <td>Developing</td>\n",
       "      <td>0.773979</td>\n",
       "      <td>0.311418</td>\n",
       "    </tr>\n",
       "    <tr>\n",
       "      <th>299</th>\n",
       "      <td>Pakistan</td>\n",
       "      <td>2013</td>\n",
       "      <td>75169776.0</td>\n",
       "      <td>112.569781</td>\n",
       "      <td>Developing</td>\n",
       "      <td>0.796946</td>\n",
       "      <td>0.271895</td>\n",
       "    </tr>\n",
       "    <tr>\n",
       "      <th>300</th>\n",
       "      <td>Pakistan</td>\n",
       "      <td>2014</td>\n",
       "      <td>76747454.0</td>\n",
       "      <td>119.544813</td>\n",
       "      <td>Developing</td>\n",
       "      <td>0.819053</td>\n",
       "      <td>0.374492</td>\n",
       "    </tr>\n",
       "    <tr>\n",
       "      <th>301</th>\n",
       "      <td>Pakistan</td>\n",
       "      <td>2015</td>\n",
       "      <td>78281214.0</td>\n",
       "      <td>120.790136</td>\n",
       "      <td>Developing</td>\n",
       "      <td>0.840545</td>\n",
       "      <td>0.392810</td>\n",
       "    </tr>\n",
       "    <tr>\n",
       "      <th>302</th>\n",
       "      <td>Pakistan</td>\n",
       "      <td>2016</td>\n",
       "      <td>79765118.0</td>\n",
       "      <td>122.550764</td>\n",
       "      <td>Developing</td>\n",
       "      <td>0.861339</td>\n",
       "      <td>0.418707</td>\n",
       "    </tr>\n",
       "    <tr>\n",
       "      <th>303</th>\n",
       "      <td>Pakistan</td>\n",
       "      <td>2017</td>\n",
       "      <td>81365499.0</td>\n",
       "      <td>122.673456</td>\n",
       "      <td>Developing</td>\n",
       "      <td>0.883765</td>\n",
       "      <td>0.420512</td>\n",
       "    </tr>\n",
       "    <tr>\n",
       "      <th>304</th>\n",
       "      <td>Pakistan</td>\n",
       "      <td>2018</td>\n",
       "      <td>83205748.0</td>\n",
       "      <td>118.238145</td>\n",
       "      <td>Developing</td>\n",
       "      <td>0.909552</td>\n",
       "      <td>0.355272</td>\n",
       "    </tr>\n",
       "    <tr>\n",
       "      <th>305</th>\n",
       "      <td>Pakistan</td>\n",
       "      <td>2019</td>\n",
       "      <td>85181688.0</td>\n",
       "      <td>108.649776</td>\n",
       "      <td>Developing</td>\n",
       "      <td>0.937240</td>\n",
       "      <td>0.214235</td>\n",
       "    </tr>\n",
       "    <tr>\n",
       "      <th>306</th>\n",
       "      <td>Pakistan</td>\n",
       "      <td>2020</td>\n",
       "      <td>87338399.0</td>\n",
       "      <td>116.305748</td>\n",
       "      <td>Developing</td>\n",
       "      <td>0.967461</td>\n",
       "      <td>0.326848</td>\n",
       "    </tr>\n",
       "    <tr>\n",
       "      <th>307</th>\n",
       "      <td>Pakistan</td>\n",
       "      <td>2021</td>\n",
       "      <td>89660489.0</td>\n",
       "      <td>162.069812</td>\n",
       "      <td>Developing</td>\n",
       "      <td>1.000000</td>\n",
       "      <td>1.000000</td>\n",
       "    </tr>\n",
       "  </tbody>\n",
       "</table>\n",
       "</div>"
      ],
      "text/plain": [
       "    Country Name  Year  Urban Population  Water Stress       Group  \\\n",
       "298     Pakistan  2012        73530776.0    115.256733  Developing   \n",
       "299     Pakistan  2013        75169776.0    112.569781  Developing   \n",
       "300     Pakistan  2014        76747454.0    119.544813  Developing   \n",
       "301     Pakistan  2015        78281214.0    120.790136  Developing   \n",
       "302     Pakistan  2016        79765118.0    122.550764  Developing   \n",
       "303     Pakistan  2017        81365499.0    122.673456  Developing   \n",
       "304     Pakistan  2018        83205748.0    118.238145  Developing   \n",
       "305     Pakistan  2019        85181688.0    108.649776  Developing   \n",
       "306     Pakistan  2020        87338399.0    116.305748  Developing   \n",
       "307     Pakistan  2021        89660489.0    162.069812  Developing   \n",
       "\n",
       "     Urban_Scaled  Water_Scaled  \n",
       "298      0.773979      0.311418  \n",
       "299      0.796946      0.271895  \n",
       "300      0.819053      0.374492  \n",
       "301      0.840545      0.392810  \n",
       "302      0.861339      0.418707  \n",
       "303      0.883765      0.420512  \n",
       "304      0.909552      0.355272  \n",
       "305      0.937240      0.214235  \n",
       "306      0.967461      0.326848  \n",
       "307      1.000000      1.000000  "
      ]
     },
     "execution_count": 258,
     "metadata": {},
     "output_type": "execute_result"
    }
   ],
   "source": [
    "# Split the dataframe into two based on group\n",
    "dev_df = merged_df[merged_df['Group'] == 'Developed']\n",
    "deving_df = merged_df[merged_df['Group'] == 'Developing']\n",
    "\n",
    "deving_df.tail(10)"
   ]
  },
  {
   "cell_type": "markdown",
   "id": "a03929b5-fe3e-430d-a414-7f6ce9e4ffce",
   "metadata": {},
   "source": [
    "## Developed countries\n",
    "#### 4. Create interactive plot"
   ]
  },
  {
   "cell_type": "code",
   "execution_count": 259,
   "id": "bd8e75fb-caf1-4740-b562-311530032ad9",
   "metadata": {
    "scrolled": true
   },
   "outputs": [
    {
     "data": {
      "application/vnd.plotly.v1+json": {
       "config": {
        "plotlyServerURL": "https://plot.ly"
       },
       "data": [
        {
         "mode": "lines",
         "name": "Australia - Urban",
         "type": "scatter",
         "visible": true,
         "x": [
          1993,
          1994,
          1995,
          1996,
          1997,
          1998,
          1999,
          2000,
          2001,
          2002,
          2003,
          2004,
          2005,
          2006,
          2007,
          2008,
          2009,
          2010,
          2011,
          2012,
          2013,
          2014,
          2015,
          2016,
          2017,
          2018,
          2019,
          2020,
          2021
         ],
         "y": [
          0,
          0.017077071379953256,
          0.03747465340286048,
          0.0601961183576703,
          0.08028414705987846,
          0.09862915889003503,
          0.11927628164216222,
          0.14118841399700188,
          0.16646529883549055,
          0.1956665884642122,
          0.2255061050251055,
          0.2537977154183373,
          0.28592580517707694,
          0.3216528360904002,
          0.36972403837847095,
          0.42321912285875424,
          0.4793049369567727,
          0.5233393853007949,
          0.5636671489539038,
          0.6137419344123783,
          0.664010016241082,
          0.7087604287578664,
          0.7527076494979946,
          0.800892457017377,
          0.8525617630750341,
          0.9007644348076939,
          0.9493284381667242,
          0.9913096184971647,
          1
         ]
        },
        {
         "mode": "lines",
         "name": "Australia - Water",
         "type": "scatter",
         "visible": true,
         "x": [
          1993,
          1994,
          1995,
          1996,
          1997,
          1998,
          1999,
          2000,
          2001,
          2002,
          2003,
          2004,
          2005,
          2006,
          2007,
          2008,
          2009,
          2010,
          2011,
          2012,
          2013,
          2014,
          2015,
          2016,
          2017,
          2018,
          2019,
          2020,
          2021
         ],
         "y": [
          0.7323983335975651,
          0.9221657202940179,
          0.8287645846542134,
          1,
          0.9828023305859919,
          0.97494477472859,
          0.9670872188711878,
          0.9628648945171597,
          0.9535811181418407,
          0.9016767727745026,
          0.8497724273887294,
          0.7978680820213914,
          0.7459637366356181,
          0.6587485730323378,
          0.5715334094290576,
          0.484318245844213,
          0.3971030822409328,
          0.3339461238566245,
          0.3369112392734685,
          0.5335725193062486,
          0.7767119835058937,
          0.7259343820039623,
          0.040770336986214226,
          0.1447717602472276,
          0.25119281923568065,
          0.2713080606688813,
          0.14010170345970668,
          0,
          0.2053342426302751
         ]
        },
        {
         "mode": "lines",
         "name": "Germany - Urban",
         "type": "scatter",
         "visible": false,
         "x": [
          1991,
          1992,
          1993,
          1994,
          1995,
          1996,
          1997,
          1998,
          1999,
          2000,
          2001,
          2002,
          2003,
          2004,
          2005,
          2006,
          2007,
          2008,
          2009,
          2010,
          2011,
          2012,
          2013,
          2014,
          2015,
          2016,
          2017,
          2018,
          2019,
          2020,
          2021
         ],
         "y": [
          0,
          0.08845236886198908,
          0.17358673791894483,
          0.23824400248225855,
          0.29765839598137694,
          0.356738221245049,
          0.40095676325442164,
          0.4316478793298989,
          0.4672269184431334,
          0.5102549409954101,
          0.5565479758961419,
          0.6028167248792752,
          0.6371186304236992,
          0.6631271498556601,
          0.6852511112930196,
          0.7010947004731168,
          0.7146562625569233,
          0.7218566125458673,
          0.722096584584794,
          0.7328319791528325,
          0.5629570804998347,
          0.5840893952738585,
          0.6142633741529224,
          0.6597976015023982,
          0.7534889353019758,
          0.843647771996333,
          0.8892798223425686,
          0.9291039719193653,
          0.9627122852437067,
          0.9825110823605097,
          1
         ]
        },
        {
         "mode": "lines",
         "name": "Germany - Water",
         "type": "scatter",
         "visible": false,
         "x": [
          1991,
          1992,
          1993,
          1994,
          1995,
          1996,
          1997,
          1998,
          1999,
          2000,
          2001,
          2002,
          2003,
          2004,
          2005,
          2006,
          2007,
          2008,
          2009,
          2010,
          2011,
          2012,
          2013,
          2014,
          2015,
          2016,
          2017,
          2018,
          2019,
          2020,
          2021
         ],
         "y": [
          0.8558550457496445,
          1,
          0.983966261252872,
          0.9706508536283809,
          0.9561819330547318,
          0.9143975727929307,
          0.8994042172259512,
          0.8376133150760021,
          0.8205137821453818,
          0.8015639238545813,
          0.7952345611537037,
          0.7847205099264561,
          0.7254471864163831,
          0.6705974992289084,
          0.6231813888934218,
          0.5994503778816944,
          0.30628703181271233,
          0.5656134239013048,
          0.5977129478332298,
          0.33514356732303907,
          0.4696950840063751,
          0.3608690511094743,
          0.03462000116386988,
          0.26916137375699556,
          0.21134295285772842,
          0,
          0.12959579878487132,
          0.09716081762717889,
          0.05291288828095583,
          0.05291288828095583,
          0.05291288828095583
         ]
        },
        {
         "mode": "lines",
         "name": "Japan - Urban",
         "type": "scatter",
         "visible": false,
         "x": [
          1980,
          1981,
          1982,
          1983,
          1984,
          1985,
          1986,
          1987,
          1988,
          1989,
          1990,
          1991,
          1992,
          1993,
          1994,
          1995,
          1996,
          1997,
          1998,
          1999,
          2000,
          2001,
          2002,
          2003,
          2004,
          2005,
          2006,
          2007,
          2008,
          2009,
          2010,
          2011,
          2012,
          2013,
          2014,
          2015,
          2016,
          2017,
          2018,
          2019,
          2020,
          2021
         ],
         "y": [
          0,
          0.027911253030094244,
          0.05542744077546796,
          0.08323238334102993,
          0.1096797445545772,
          0.13553024376001854,
          0.15900878411624716,
          0.18109632292986247,
          0.20100211006409496,
          0.22040324138674766,
          0.23758285938558674,
          0.2573353947188737,
          0.2765643227693581,
          0.29417865836193763,
          0.31022632685172363,
          0.32474453872355935,
          0.33876031793717026,
          0.35313890848928603,
          0.3687278420400705,
          0.38109688418497173,
          0.39298860437101835,
          0.4639011465020522,
          0.5494937898033285,
          0.6297185746613071,
          0.6982588663820326,
          0.7609357551321222,
          0.8165939665148642,
          0.8692175735680624,
          0.9158751481449261,
          0.9567024483806569,
          0.9958705108656984,
          1,
          0.9969038398341192,
          0.9944144547535994,
          0.9924137260695308,
          0.9914894045057779,
          0.9928444346982049,
          0.9929874089705258,
          0.9913599878244086,
          0.989201050800767,
          0.980634366240753,
          0.9651465679450515
         ]
        },
        {
         "mode": "lines",
         "name": "Japan - Water",
         "type": "scatter",
         "visible": false,
         "x": [
          1980,
          1981,
          1982,
          1983,
          1984,
          1985,
          1986,
          1987,
          1988,
          1989,
          1990,
          1991,
          1992,
          1993,
          1994,
          1995,
          1996,
          1997,
          1998,
          1999,
          2000,
          2001,
          2002,
          2003,
          2004,
          2005,
          2006,
          2007,
          2008,
          2009,
          2010,
          2011,
          2012,
          2013,
          2014,
          2015,
          2016,
          2017,
          2018,
          2019,
          2020,
          2021
         ],
         "y": [
          0.7538461538466692,
          0.7753589743632049,
          0.7968717948797418,
          0.8183846153962786,
          0.8398974358960845,
          0.86141025641262,
          0.882923076929157,
          0.9044358974456939,
          0.9259487179622294,
          0.9474615384620353,
          0.9689743589785722,
          0.9844871794892861,
          1,
          0.9353846153926978,
          0.8707692307686644,
          0.8030769230840269,
          0.8165384615431854,
          0.8300000000023429,
          0.8610256410405017,
          0.8920512820619296,
          0.9230769230833586,
          0.6942307692442182,
          0.46538461538834797,
          0.43923076923100085,
          0.41307692307365373,
          0.38692307693303774,
          0.36076923077569184,
          0.3346153846183447,
          0.2758461538512865,
          0.21707692308422838,
          0.20035164835504193,
          0.18362637362585546,
          0.16690109889666901,
          0.15017582418421363,
          0.13345054945502718,
          0.11672527472584071,
          0.09999999999665427,
          0.0692307692233053,
          0.05384615385336069,
          0,
          0,
          0
         ]
        },
        {
         "mode": "lines",
         "name": "United Kingdom - Urban",
         "type": "scatter",
         "visible": false,
         "x": [
          1980,
          1981,
          1982,
          1983,
          1984,
          1985,
          1986,
          1987,
          1988,
          1989,
          1990,
          1991,
          1992,
          1993,
          1994,
          1995,
          1996,
          1997,
          1998,
          1999,
          2000,
          2001,
          2002,
          2003,
          2004,
          2005,
          2006,
          2007,
          2008,
          2009,
          2010,
          2011,
          2012,
          2013,
          2014,
          2015,
          2016,
          2017,
          2018,
          2019,
          2020,
          2021
         ],
         "y": [
          0,
          0.006198391956752967,
          0.002638514646742035,
          0.0015669226872040108,
          0.0050387430214846735,
          0.01095961215612215,
          0.01705815159807028,
          0.022474188043009484,
          0.028240732208088055,
          0.03541282953275331,
          0.04401243282583846,
          0.054044538808757044,
          0.0668243500883232,
          0.07851127190724447,
          0.09083122098983414,
          0.10351330950470614,
          0.11586586014668245,
          0.12831908243812154,
          0.14213313313682294,
          0.15753409340838245,
          0.1739506987423416,
          0.1934283283796165,
          0.22400244757435797,
          0.2562114776329138,
          0.2925792543499122,
          0.3336879367267625,
          0.37701336131497326,
          0.4223249417083299,
          0.4683414693883235,
          0.5133618474107767,
          0.5598252949601511,
          0.6065078610305288,
          0.6499329743066128,
          0.6925484548867731,
          0.7383452906515029,
          0.7869399627539471,
          0.8344414177418833,
          0.8787149906966781,
          0.9199404816757529,
          0.9595313894448766,
          0.990105099072289,
          1
         ]
        },
        {
         "mode": "lines",
         "name": "United Kingdom - Water",
         "type": "scatter",
         "visible": false,
         "x": [
          1980,
          1981,
          1982,
          1983,
          1984,
          1985,
          1986,
          1987,
          1988,
          1989,
          1990,
          1991,
          1992,
          1993,
          1994,
          1995,
          1996,
          1997,
          1998,
          1999,
          2000,
          2001,
          2002,
          2003,
          2004,
          2005,
          2006,
          2007,
          2008,
          2009,
          2010,
          2011,
          2012,
          2013,
          2014,
          2015,
          2016,
          2017,
          2018,
          2019,
          2020,
          2021
         ],
         "y": [
          1,
          0.9360774818452828,
          0.8721549636810982,
          0.8082324455263807,
          0.744309927362196,
          0.680387409207479,
          0.697175141244382,
          0.7139628732907528,
          0.7307506053276559,
          0.7475383373740268,
          0.7643260694109297,
          0.7665859564229981,
          0.768845843425599,
          0.7711057304281999,
          0.7733656174402682,
          0.775625504442869,
          0.7883439724189553,
          0.8010624403855738,
          0.81378090836166,
          0.8264993763282786,
          0.8392178443043647,
          0.8519363122804505,
          0.8646547802470692,
          0.8773732482231553,
          0.8900917161992414,
          0.9028101841658601,
          0.9155286521419462,
          0.1982243744972802,
          0.1714285714312764,
          0.1607748184054901,
          0.15803066989354078,
          0.06456820016087036,
          0.11815980629287791,
          0.059079903146439045,
          0,
          0.14124293785663758,
          0.18305084745682482,
          0.18305084745682482,
          0.18305084745682482,
          0.18305084745682482,
          0.18305084745682482,
          0.18305084745682482
         ]
        },
        {
         "mode": "lines",
         "name": "United States - Urban",
         "type": "scatter",
         "visible": false,
         "x": [
          1980,
          1981,
          1982,
          1983,
          1984,
          1985,
          1986,
          1987,
          1988,
          1989,
          1990,
          1991,
          1992,
          1993,
          1994,
          1995,
          1996,
          1997,
          1998,
          1999,
          2000,
          2001,
          2002,
          2003,
          2004,
          2005,
          2006,
          2007,
          2008,
          2009,
          2010,
          2011,
          2012,
          2013,
          2014,
          2015,
          2016,
          2017,
          2018,
          2019,
          2020,
          2021
         ],
         "y": [
          0,
          0.018594233172778127,
          0.03695596131325874,
          0.054897212502147914,
          0.07219852666660088,
          0.09001332351207697,
          0.10864951611283845,
          0.12695645356536117,
          0.14569909638011852,
          0.16522452038357607,
          0.18968103197299122,
          0.2226003030555922,
          0.2568880312664264,
          0.2904052706541986,
          0.32265779936476996,
          0.3546224191304962,
          0.38647601737164916,
          0.41943727575607853,
          0.4520665566467423,
          0.4847308656692699,
          0.5158330593798935,
          0.5411347524056476,
          0.5653663034834743,
          0.5883743600095507,
          0.613053174803999,
          0.6378403166513389,
          0.6638449322999124,
          0.6898229098439624,
          0.7159483771931071,
          0.7407482480963232,
          0.7646589990922232,
          0.7865716785493797,
          0.8089291781160808,
          0.830662926071,
          0.8536788801864886,
          0.8770930214688628,
          0.9005280123872854,
          0.9220439819913405,
          0.9411404739768947,
          0.9587341383188269,
          0.9895424302079339,
          1
         ]
        },
        {
         "mode": "lines",
         "name": "United States - Water",
         "type": "scatter",
         "visible": false,
         "x": [
          1980,
          1981,
          1982,
          1983,
          1984,
          1985,
          1986,
          1987,
          1988,
          1989,
          1990,
          1991,
          1992,
          1993,
          1994,
          1995,
          1996,
          1997,
          1998,
          1999,
          2000,
          2001,
          2002,
          2003,
          2004,
          2005,
          2006,
          2007,
          2008,
          2009,
          2010,
          2011,
          2012,
          2013,
          2014,
          2015,
          2016,
          2017,
          2018,
          2019,
          2020,
          2021
         ],
         "y": [
          1,
          0.9469160768404671,
          0.8938321536968888,
          0.8407482305373547,
          0.7876643073778212,
          0.7345803842182878,
          0.6814964610747101,
          0.6284125379151766,
          0.5753286147556426,
          0.5222446916120649,
          0.46916076845253135,
          0.4777553083879352,
          0.48634984832333955,
          0.4949443882746998,
          0.5035389282101036,
          0.512133468145508,
          0.5207280080809125,
          0.5293225480322721,
          0.5379170879676765,
          0.5465116279030808,
          0.5540950454950203,
          0.5652173913050416,
          0.5753286147556426,
          0.5854398382221994,
          0.5955510616728004,
          0.6056622851393572,
          0.4847320525674144,
          0.3638018200114269,
          0.2428715874554394,
          0.12194135489945192,
          0,
          0.05277272349789345,
          0.10453432466827828,
          0.15629592582270677,
          0.2080575269930916,
          0.2598191281475206,
          0.2598191281475206,
          0.2598191281475206,
          0.2598191281475206,
          0.2598191281475206,
          0.2598191281475206,
          0.2598191281475206
         ]
        }
       ],
       "layout": {
        "autosize": true,
        "legend": {
         "title": {
          "text": "Variable"
         }
        },
        "template": {
         "data": {
          "bar": [
           {
            "error_x": {
             "color": "#2a3f5f"
            },
            "error_y": {
             "color": "#2a3f5f"
            },
            "marker": {
             "line": {
              "color": "#E5ECF6",
              "width": 0.5
             },
             "pattern": {
              "fillmode": "overlay",
              "size": 10,
              "solidity": 0.2
             }
            },
            "type": "bar"
           }
          ],
          "barpolar": [
           {
            "marker": {
             "line": {
              "color": "#E5ECF6",
              "width": 0.5
             },
             "pattern": {
              "fillmode": "overlay",
              "size": 10,
              "solidity": 0.2
             }
            },
            "type": "barpolar"
           }
          ],
          "carpet": [
           {
            "aaxis": {
             "endlinecolor": "#2a3f5f",
             "gridcolor": "white",
             "linecolor": "white",
             "minorgridcolor": "white",
             "startlinecolor": "#2a3f5f"
            },
            "baxis": {
             "endlinecolor": "#2a3f5f",
             "gridcolor": "white",
             "linecolor": "white",
             "minorgridcolor": "white",
             "startlinecolor": "#2a3f5f"
            },
            "type": "carpet"
           }
          ],
          "choropleth": [
           {
            "colorbar": {
             "outlinewidth": 0,
             "ticks": ""
            },
            "type": "choropleth"
           }
          ],
          "contour": [
           {
            "colorbar": {
             "outlinewidth": 0,
             "ticks": ""
            },
            "colorscale": [
             [
              0,
              "#0d0887"
             ],
             [
              0.1111111111111111,
              "#46039f"
             ],
             [
              0.2222222222222222,
              "#7201a8"
             ],
             [
              0.3333333333333333,
              "#9c179e"
             ],
             [
              0.4444444444444444,
              "#bd3786"
             ],
             [
              0.5555555555555556,
              "#d8576b"
             ],
             [
              0.6666666666666666,
              "#ed7953"
             ],
             [
              0.7777777777777778,
              "#fb9f3a"
             ],
             [
              0.8888888888888888,
              "#fdca26"
             ],
             [
              1,
              "#f0f921"
             ]
            ],
            "type": "contour"
           }
          ],
          "contourcarpet": [
           {
            "colorbar": {
             "outlinewidth": 0,
             "ticks": ""
            },
            "type": "contourcarpet"
           }
          ],
          "heatmap": [
           {
            "colorbar": {
             "outlinewidth": 0,
             "ticks": ""
            },
            "colorscale": [
             [
              0,
              "#0d0887"
             ],
             [
              0.1111111111111111,
              "#46039f"
             ],
             [
              0.2222222222222222,
              "#7201a8"
             ],
             [
              0.3333333333333333,
              "#9c179e"
             ],
             [
              0.4444444444444444,
              "#bd3786"
             ],
             [
              0.5555555555555556,
              "#d8576b"
             ],
             [
              0.6666666666666666,
              "#ed7953"
             ],
             [
              0.7777777777777778,
              "#fb9f3a"
             ],
             [
              0.8888888888888888,
              "#fdca26"
             ],
             [
              1,
              "#f0f921"
             ]
            ],
            "type": "heatmap"
           }
          ],
          "heatmapgl": [
           {
            "colorbar": {
             "outlinewidth": 0,
             "ticks": ""
            },
            "colorscale": [
             [
              0,
              "#0d0887"
             ],
             [
              0.1111111111111111,
              "#46039f"
             ],
             [
              0.2222222222222222,
              "#7201a8"
             ],
             [
              0.3333333333333333,
              "#9c179e"
             ],
             [
              0.4444444444444444,
              "#bd3786"
             ],
             [
              0.5555555555555556,
              "#d8576b"
             ],
             [
              0.6666666666666666,
              "#ed7953"
             ],
             [
              0.7777777777777778,
              "#fb9f3a"
             ],
             [
              0.8888888888888888,
              "#fdca26"
             ],
             [
              1,
              "#f0f921"
             ]
            ],
            "type": "heatmapgl"
           }
          ],
          "histogram": [
           {
            "marker": {
             "pattern": {
              "fillmode": "overlay",
              "size": 10,
              "solidity": 0.2
             }
            },
            "type": "histogram"
           }
          ],
          "histogram2d": [
           {
            "colorbar": {
             "outlinewidth": 0,
             "ticks": ""
            },
            "colorscale": [
             [
              0,
              "#0d0887"
             ],
             [
              0.1111111111111111,
              "#46039f"
             ],
             [
              0.2222222222222222,
              "#7201a8"
             ],
             [
              0.3333333333333333,
              "#9c179e"
             ],
             [
              0.4444444444444444,
              "#bd3786"
             ],
             [
              0.5555555555555556,
              "#d8576b"
             ],
             [
              0.6666666666666666,
              "#ed7953"
             ],
             [
              0.7777777777777778,
              "#fb9f3a"
             ],
             [
              0.8888888888888888,
              "#fdca26"
             ],
             [
              1,
              "#f0f921"
             ]
            ],
            "type": "histogram2d"
           }
          ],
          "histogram2dcontour": [
           {
            "colorbar": {
             "outlinewidth": 0,
             "ticks": ""
            },
            "colorscale": [
             [
              0,
              "#0d0887"
             ],
             [
              0.1111111111111111,
              "#46039f"
             ],
             [
              0.2222222222222222,
              "#7201a8"
             ],
             [
              0.3333333333333333,
              "#9c179e"
             ],
             [
              0.4444444444444444,
              "#bd3786"
             ],
             [
              0.5555555555555556,
              "#d8576b"
             ],
             [
              0.6666666666666666,
              "#ed7953"
             ],
             [
              0.7777777777777778,
              "#fb9f3a"
             ],
             [
              0.8888888888888888,
              "#fdca26"
             ],
             [
              1,
              "#f0f921"
             ]
            ],
            "type": "histogram2dcontour"
           }
          ],
          "mesh3d": [
           {
            "colorbar": {
             "outlinewidth": 0,
             "ticks": ""
            },
            "type": "mesh3d"
           }
          ],
          "parcoords": [
           {
            "line": {
             "colorbar": {
              "outlinewidth": 0,
              "ticks": ""
             }
            },
            "type": "parcoords"
           }
          ],
          "pie": [
           {
            "automargin": true,
            "type": "pie"
           }
          ],
          "scatter": [
           {
            "fillpattern": {
             "fillmode": "overlay",
             "size": 10,
             "solidity": 0.2
            },
            "type": "scatter"
           }
          ],
          "scatter3d": [
           {
            "line": {
             "colorbar": {
              "outlinewidth": 0,
              "ticks": ""
             }
            },
            "marker": {
             "colorbar": {
              "outlinewidth": 0,
              "ticks": ""
             }
            },
            "type": "scatter3d"
           }
          ],
          "scattercarpet": [
           {
            "marker": {
             "colorbar": {
              "outlinewidth": 0,
              "ticks": ""
             }
            },
            "type": "scattercarpet"
           }
          ],
          "scattergeo": [
           {
            "marker": {
             "colorbar": {
              "outlinewidth": 0,
              "ticks": ""
             }
            },
            "type": "scattergeo"
           }
          ],
          "scattergl": [
           {
            "marker": {
             "colorbar": {
              "outlinewidth": 0,
              "ticks": ""
             }
            },
            "type": "scattergl"
           }
          ],
          "scattermapbox": [
           {
            "marker": {
             "colorbar": {
              "outlinewidth": 0,
              "ticks": ""
             }
            },
            "type": "scattermapbox"
           }
          ],
          "scatterpolar": [
           {
            "marker": {
             "colorbar": {
              "outlinewidth": 0,
              "ticks": ""
             }
            },
            "type": "scatterpolar"
           }
          ],
          "scatterpolargl": [
           {
            "marker": {
             "colorbar": {
              "outlinewidth": 0,
              "ticks": ""
             }
            },
            "type": "scatterpolargl"
           }
          ],
          "scatterternary": [
           {
            "marker": {
             "colorbar": {
              "outlinewidth": 0,
              "ticks": ""
             }
            },
            "type": "scatterternary"
           }
          ],
          "surface": [
           {
            "colorbar": {
             "outlinewidth": 0,
             "ticks": ""
            },
            "colorscale": [
             [
              0,
              "#0d0887"
             ],
             [
              0.1111111111111111,
              "#46039f"
             ],
             [
              0.2222222222222222,
              "#7201a8"
             ],
             [
              0.3333333333333333,
              "#9c179e"
             ],
             [
              0.4444444444444444,
              "#bd3786"
             ],
             [
              0.5555555555555556,
              "#d8576b"
             ],
             [
              0.6666666666666666,
              "#ed7953"
             ],
             [
              0.7777777777777778,
              "#fb9f3a"
             ],
             [
              0.8888888888888888,
              "#fdca26"
             ],
             [
              1,
              "#f0f921"
             ]
            ],
            "type": "surface"
           }
          ],
          "table": [
           {
            "cells": {
             "fill": {
              "color": "#EBF0F8"
             },
             "line": {
              "color": "white"
             }
            },
            "header": {
             "fill": {
              "color": "#C8D4E3"
             },
             "line": {
              "color": "white"
             }
            },
            "type": "table"
           }
          ]
         },
         "layout": {
          "annotationdefaults": {
           "arrowcolor": "#2a3f5f",
           "arrowhead": 0,
           "arrowwidth": 1
          },
          "autotypenumbers": "strict",
          "coloraxis": {
           "colorbar": {
            "outlinewidth": 0,
            "ticks": ""
           }
          },
          "colorscale": {
           "diverging": [
            [
             0,
             "#8e0152"
            ],
            [
             0.1,
             "#c51b7d"
            ],
            [
             0.2,
             "#de77ae"
            ],
            [
             0.3,
             "#f1b6da"
            ],
            [
             0.4,
             "#fde0ef"
            ],
            [
             0.5,
             "#f7f7f7"
            ],
            [
             0.6,
             "#e6f5d0"
            ],
            [
             0.7,
             "#b8e186"
            ],
            [
             0.8,
             "#7fbc41"
            ],
            [
             0.9,
             "#4d9221"
            ],
            [
             1,
             "#276419"
            ]
           ],
           "sequential": [
            [
             0,
             "#0d0887"
            ],
            [
             0.1111111111111111,
             "#46039f"
            ],
            [
             0.2222222222222222,
             "#7201a8"
            ],
            [
             0.3333333333333333,
             "#9c179e"
            ],
            [
             0.4444444444444444,
             "#bd3786"
            ],
            [
             0.5555555555555556,
             "#d8576b"
            ],
            [
             0.6666666666666666,
             "#ed7953"
            ],
            [
             0.7777777777777778,
             "#fb9f3a"
            ],
            [
             0.8888888888888888,
             "#fdca26"
            ],
            [
             1,
             "#f0f921"
            ]
           ],
           "sequentialminus": [
            [
             0,
             "#0d0887"
            ],
            [
             0.1111111111111111,
             "#46039f"
            ],
            [
             0.2222222222222222,
             "#7201a8"
            ],
            [
             0.3333333333333333,
             "#9c179e"
            ],
            [
             0.4444444444444444,
             "#bd3786"
            ],
            [
             0.5555555555555556,
             "#d8576b"
            ],
            [
             0.6666666666666666,
             "#ed7953"
            ],
            [
             0.7777777777777778,
             "#fb9f3a"
            ],
            [
             0.8888888888888888,
             "#fdca26"
            ],
            [
             1,
             "#f0f921"
            ]
           ]
          },
          "colorway": [
           "#636efa",
           "#EF553B",
           "#00cc96",
           "#ab63fa",
           "#FFA15A",
           "#19d3f3",
           "#FF6692",
           "#B6E880",
           "#FF97FF",
           "#FECB52"
          ],
          "font": {
           "color": "#2a3f5f"
          },
          "geo": {
           "bgcolor": "white",
           "lakecolor": "white",
           "landcolor": "#E5ECF6",
           "showlakes": true,
           "showland": true,
           "subunitcolor": "white"
          },
          "hoverlabel": {
           "align": "left"
          },
          "hovermode": "closest",
          "mapbox": {
           "style": "light"
          },
          "paper_bgcolor": "white",
          "plot_bgcolor": "#E5ECF6",
          "polar": {
           "angularaxis": {
            "gridcolor": "white",
            "linecolor": "white",
            "ticks": ""
           },
           "bgcolor": "#E5ECF6",
           "radialaxis": {
            "gridcolor": "white",
            "linecolor": "white",
            "ticks": ""
           }
          },
          "scene": {
           "xaxis": {
            "backgroundcolor": "#E5ECF6",
            "gridcolor": "white",
            "gridwidth": 2,
            "linecolor": "white",
            "showbackground": true,
            "ticks": "",
            "zerolinecolor": "white"
           },
           "yaxis": {
            "backgroundcolor": "#E5ECF6",
            "gridcolor": "white",
            "gridwidth": 2,
            "linecolor": "white",
            "showbackground": true,
            "ticks": "",
            "zerolinecolor": "white"
           },
           "zaxis": {
            "backgroundcolor": "#E5ECF6",
            "gridcolor": "white",
            "gridwidth": 2,
            "linecolor": "white",
            "showbackground": true,
            "ticks": "",
            "zerolinecolor": "white"
           }
          },
          "shapedefaults": {
           "line": {
            "color": "#2a3f5f"
           }
          },
          "ternary": {
           "aaxis": {
            "gridcolor": "white",
            "linecolor": "white",
            "ticks": ""
           },
           "baxis": {
            "gridcolor": "white",
            "linecolor": "white",
            "ticks": ""
           },
           "bgcolor": "#E5ECF6",
           "caxis": {
            "gridcolor": "white",
            "linecolor": "white",
            "ticks": ""
           }
          },
          "title": {
           "x": 0.05
          },
          "xaxis": {
           "automargin": true,
           "gridcolor": "white",
           "linecolor": "white",
           "ticks": "",
           "title": {
            "standoff": 15
           },
           "zerolinecolor": "white",
           "zerolinewidth": 2
          },
          "yaxis": {
           "automargin": true,
           "gridcolor": "white",
           "linecolor": "white",
           "ticks": "",
           "title": {
            "standoff": 15
           },
           "zerolinecolor": "white",
           "zerolinewidth": 2
          }
         }
        },
        "title": {
         "text": "Australia: Urban Population vs Water Stress (Scaled)"
        },
        "updatemenus": [
         {
          "active": 0,
          "buttons": [
           {
            "args": [
             {
              "visible": [
               true,
               true,
               false,
               false,
               false,
               false,
               false,
               false,
               false,
               false
              ]
             },
             {
              "title": "Australia: Urban Population vs Water Stress (Scaled)"
             }
            ],
            "label": "Australia",
            "method": "update"
           },
           {
            "args": [
             {
              "visible": [
               false,
               false,
               true,
               true,
               false,
               false,
               false,
               false,
               false,
               false
              ]
             },
             {
              "title": "Germany: Urban Population vs Water Stress (Scaled)"
             }
            ],
            "label": "Germany",
            "method": "update"
           },
           {
            "args": [
             {
              "visible": [
               false,
               false,
               false,
               false,
               true,
               true,
               false,
               false,
               false,
               false
              ]
             },
             {
              "title": "Japan: Urban Population vs Water Stress (Scaled)"
             }
            ],
            "label": "Japan",
            "method": "update"
           },
           {
            "args": [
             {
              "visible": [
               false,
               false,
               false,
               false,
               false,
               false,
               true,
               true,
               false,
               false
              ]
             },
             {
              "title": "United Kingdom: Urban Population vs Water Stress (Scaled)"
             }
            ],
            "label": "United Kingdom",
            "method": "update"
           },
           {
            "args": [
             {
              "visible": [
               false,
               false,
               false,
               false,
               false,
               false,
               false,
               false,
               true,
               true
              ]
             },
             {
              "title": "United States: Urban Population vs Water Stress (Scaled)"
             }
            ],
            "label": "United States",
            "method": "update"
           }
          ],
          "x": 0.5,
          "xanchor": "center",
          "y": 1.15,
          "yanchor": "top"
         }
        ],
        "xaxis": {
         "autorange": true,
         "range": [
          1993,
          2021
         ],
         "title": {
          "text": "Year"
         },
         "type": "linear"
        },
        "yaxis": {
         "autorange": true,
         "range": [
          -0.05555555555555555,
          1.0555555555555556
         ],
         "title": {
          "text": "Scaled Values (0–1)"
         },
         "type": "linear"
        }
       }
      },
      "image/png": "[encoded data removed]",
      "text/html": [
       "<div>                            <div id=\"e489ba7d-d23b-4506-b6c0-af7364c7f3f2\" class=\"plotly-graph-div\" style=\"height:500px; width:100%;\"></div>            <script type=\"text/javascript\">                require([\"plotly\"], function(Plotly) {                    window.PLOTLYENV=window.PLOTLYENV || {};                                    if (document.getElementById(\"e489ba7d-d23b-4506-b6c0-af7364c7f3f2\")) {                    Plotly.newPlot(                        \"e489ba7d-d23b-4506-b6c0-af7364c7f3f2\",                        [{\"mode\":\"lines\",\"name\":\"Australia - Urban\",\"visible\":true,\"x\":[1993,1994,1995,1996,1997,1998,1999,2000,2001,2002,2003,2004,2005,2006,2007,2008,2009,2010,2011,2012,2013,2014,2015,2016,2017,2018,2019,2020,2021],\"y\":[0.0,0.017077071379953256,0.03747465340286048,0.0601961183576703,0.08028414705987846,0.09862915889003503,0.11927628164216222,0.14118841399700188,0.16646529883549055,0.1956665884642122,0.2255061050251055,0.2537977154183373,0.28592580517707694,0.3216528360904002,0.36972403837847095,0.42321912285875424,0.4793049369567727,0.5233393853007949,0.5636671489539038,0.6137419344123783,0.664010016241082,0.7087604287578664,0.7527076494979946,0.800892457017377,0.8525617630750341,0.9007644348076939,0.9493284381667242,0.9913096184971647,1.0],\"type\":\"scatter\"},{\"mode\":\"lines\",\"name\":\"Australia - Water\",\"visible\":true,\"x\":[1993,1994,1995,1996,1997,1998,1999,2000,2001,2002,2003,2004,2005,2006,2007,2008,2009,2010,2011,2012,2013,2014,2015,2016,2017,2018,2019,2020,2021],\"y\":[0.7323983335975651,0.9221657202940179,0.8287645846542134,1.0,0.9828023305859919,0.97494477472859,0.9670872188711878,0.9628648945171597,0.9535811181418407,0.9016767727745026,0.8497724273887294,0.7978680820213914,0.7459637366356181,0.6587485730323378,0.5715334094290576,0.484318245844213,0.3971030822409328,0.3339461238566245,0.3369112392734685,0.5335725193062486,0.7767119835058937,0.7259343820039623,0.040770336986214226,0.1447717602472276,0.25119281923568065,0.2713080606688813,0.14010170345970668,0.0,0.2053342426302751],\"type\":\"scatter\"},{\"mode\":\"lines\",\"name\":\"Germany - Urban\",\"visible\":false,\"x\":[1991,1992,1993,1994,1995,1996,1997,1998,1999,2000,2001,2002,2003,2004,2005,2006,2007,2008,2009,2010,2011,2012,2013,2014,2015,2016,2017,2018,2019,2020,2021],\"y\":[0.0,0.08845236886198908,0.17358673791894483,0.23824400248225855,0.29765839598137694,0.356738221245049,0.40095676325442164,0.4316478793298989,0.4672269184431334,0.5102549409954101,0.5565479758961419,0.6028167248792752,0.6371186304236992,0.6631271498556601,0.6852511112930196,0.7010947004731168,0.7146562625569233,0.7218566125458673,0.722096584584794,0.7328319791528325,0.5629570804998347,0.5840893952738585,0.6142633741529224,0.6597976015023982,0.7534889353019758,0.843647771996333,0.8892798223425686,0.9291039719193653,0.9627122852437067,0.9825110823605097,1.0],\"type\":\"scatter\"},{\"mode\":\"lines\",\"name\":\"Germany - Water\",\"visible\":false,\"x\":[1991,1992,1993,1994,1995,1996,1997,1998,1999,2000,2001,2002,2003,2004,2005,2006,2007,2008,2009,2010,2011,2012,2013,2014,2015,2016,2017,2018,2019,2020,2021],\"y\":[0.8558550457496445,1.0,0.983966261252872,0.9706508536283809,0.9561819330547318,0.9143975727929307,0.8994042172259512,0.8376133150760021,0.8205137821453818,0.8015639238545813,0.7952345611537037,0.7847205099264561,0.7254471864163831,0.6705974992289084,0.6231813888934218,0.5994503778816944,0.30628703181271233,0.5656134239013048,0.5977129478332298,0.33514356732303907,0.4696950840063751,0.3608690511094743,0.03462000116386988,0.26916137375699556,0.21134295285772842,0.0,0.12959579878487132,0.09716081762717889,0.05291288828095583,0.05291288828095583,0.05291288828095583],\"type\":\"scatter\"},{\"mode\":\"lines\",\"name\":\"Japan - Urban\",\"visible\":false,\"x\":[1980,1981,1982,1983,1984,1985,1986,1987,1988,1989,1990,1991,1992,1993,1994,1995,1996,1997,1998,1999,2000,2001,2002,2003,2004,2005,2006,2007,2008,2009,2010,2011,2012,2013,2014,2015,2016,2017,2018,2019,2020,2021],\"y\":[0.0,0.027911253030094244,0.05542744077546796,0.08323238334102993,0.1096797445545772,0.13553024376001854,0.15900878411624716,0.18109632292986247,0.20100211006409496,0.22040324138674766,0.23758285938558674,0.2573353947188737,0.2765643227693581,0.29417865836193763,0.31022632685172363,0.32474453872355935,0.33876031793717026,0.35313890848928603,0.3687278420400705,0.38109688418497173,0.39298860437101835,0.4639011465020522,0.5494937898033285,0.6297185746613071,0.6982588663820326,0.7609357551321222,0.8165939665148642,0.8692175735680624,0.9158751481449261,0.9567024483806569,0.9958705108656984,1.0,0.9969038398341192,0.9944144547535994,0.9924137260695308,0.9914894045057779,0.9928444346982049,0.9929874089705258,0.9913599878244086,0.989201050800767,0.980634366240753,0.9651465679450515],\"type\":\"scatter\"},{\"mode\":\"lines\",\"name\":\"Japan - Water\",\"visible\":false,\"x\":[1980,1981,1982,1983,1984,1985,1986,1987,1988,1989,1990,1991,1992,1993,1994,1995,1996,1997,1998,1999,2000,2001,2002,2003,2004,2005,2006,2007,2008,2009,2010,2011,2012,2013,2014,2015,2016,2017,2018,2019,2020,2021],\"y\":[0.7538461538466692,0.7753589743632049,0.7968717948797418,0.8183846153962786,0.8398974358960845,0.86141025641262,0.882923076929157,0.9044358974456939,0.9259487179622294,0.9474615384620353,0.9689743589785722,0.9844871794892861,1.0,0.9353846153926978,0.8707692307686644,0.8030769230840269,0.8165384615431854,0.8300000000023429,0.8610256410405017,0.8920512820619296,0.9230769230833586,0.6942307692442182,0.46538461538834797,0.43923076923100085,0.41307692307365373,0.38692307693303774,0.36076923077569184,0.3346153846183447,0.2758461538512865,0.21707692308422838,0.20035164835504193,0.18362637362585546,0.16690109889666901,0.15017582418421363,0.13345054945502718,0.11672527472584071,0.09999999999665427,0.0692307692233053,0.05384615385336069,0.0,0.0,0.0],\"type\":\"scatter\"},{\"mode\":\"lines\",\"name\":\"United Kingdom - Urban\",\"visible\":false,\"x\":[1980,1981,1982,1983,1984,1985,1986,1987,1988,1989,1990,1991,1992,1993,1994,1995,1996,1997,1998,1999,2000,2001,2002,2003,2004,2005,2006,2007,2008,2009,2010,2011,2012,2013,2014,2015,2016,2017,2018,2019,2020,2021],\"y\":[0.0,0.006198391956752967,0.002638514646742035,0.0015669226872040108,0.0050387430214846735,0.01095961215612215,0.01705815159807028,0.022474188043009484,0.028240732208088055,0.03541282953275331,0.04401243282583846,0.054044538808757044,0.0668243500883232,0.07851127190724447,0.09083122098983414,0.10351330950470614,0.11586586014668245,0.12831908243812154,0.14213313313682294,0.15753409340838245,0.1739506987423416,0.1934283283796165,0.22400244757435797,0.2562114776329138,0.2925792543499122,0.3336879367267625,0.37701336131497326,0.4223249417083299,0.4683414693883235,0.5133618474107767,0.5598252949601511,0.6065078610305288,0.6499329743066128,0.6925484548867731,0.7383452906515029,0.7869399627539471,0.8344414177418833,0.8787149906966781,0.9199404816757529,0.9595313894448766,0.990105099072289,1.0],\"type\":\"scatter\"},{\"mode\":\"lines\",\"name\":\"United Kingdom - Water\",\"visible\":false,\"x\":[1980,1981,1982,1983,1984,1985,1986,1987,1988,1989,1990,1991,1992,1993,1994,1995,1996,1997,1998,1999,2000,2001,2002,2003,2004,2005,2006,2007,2008,2009,2010,2011,2012,2013,2014,2015,2016,2017,2018,2019,2020,2021],\"y\":[1.0,0.9360774818452828,0.8721549636810982,0.8082324455263807,0.744309927362196,0.680387409207479,0.697175141244382,0.7139628732907528,0.7307506053276559,0.7475383373740268,0.7643260694109297,0.7665859564229981,0.768845843425599,0.7711057304281999,0.7733656174402682,0.775625504442869,0.7883439724189553,0.8010624403855738,0.81378090836166,0.8264993763282786,0.8392178443043647,0.8519363122804505,0.8646547802470692,0.8773732482231553,0.8900917161992414,0.9028101841658601,0.9155286521419462,0.1982243744972802,0.1714285714312764,0.1607748184054901,0.15803066989354078,0.06456820016087036,0.11815980629287791,0.059079903146439045,0.0,0.14124293785663758,0.18305084745682482,0.18305084745682482,0.18305084745682482,0.18305084745682482,0.18305084745682482,0.18305084745682482],\"type\":\"scatter\"},{\"mode\":\"lines\",\"name\":\"United States - Urban\",\"visible\":false,\"x\":[1980,1981,1982,1983,1984,1985,1986,1987,1988,1989,1990,1991,1992,1993,1994,1995,1996,1997,1998,1999,2000,2001,2002,2003,2004,2005,2006,2007,2008,2009,2010,2011,2012,2013,2014,2015,2016,2017,2018,2019,2020,2021],\"y\":[0.0,0.018594233172778127,0.03695596131325874,0.054897212502147914,0.07219852666660088,0.09001332351207697,0.10864951611283845,0.12695645356536117,0.14569909638011852,0.16522452038357607,0.18968103197299122,0.2226003030555922,0.2568880312664264,0.2904052706541986,0.32265779936476996,0.3546224191304962,0.38647601737164916,0.41943727575607853,0.4520665566467423,0.4847308656692699,0.5158330593798935,0.5411347524056476,0.5653663034834743,0.5883743600095507,0.613053174803999,0.6378403166513389,0.6638449322999124,0.6898229098439624,0.7159483771931071,0.7407482480963232,0.7646589990922232,0.7865716785493797,0.8089291781160808,0.830662926071,0.8536788801864886,0.8770930214688628,0.9005280123872854,0.9220439819913405,0.9411404739768947,0.9587341383188269,0.9895424302079339,1.0],\"type\":\"scatter\"},{\"mode\":\"lines\",\"name\":\"United States - Water\",\"visible\":false,\"x\":[1980,1981,1982,1983,1984,1985,1986,1987,1988,1989,1990,1991,1992,1993,1994,1995,1996,1997,1998,1999,2000,2001,2002,2003,2004,2005,2006,2007,2008,2009,2010,2011,2012,2013,2014,2015,2016,2017,2018,2019,2020,2021],\"y\":[1.0,0.9469160768404671,0.8938321536968888,0.8407482305373547,0.7876643073778212,0.7345803842182878,0.6814964610747101,0.6284125379151766,0.5753286147556426,0.5222446916120649,0.46916076845253135,0.4777553083879352,0.48634984832333955,0.4949443882746998,0.5035389282101036,0.512133468145508,0.5207280080809125,0.5293225480322721,0.5379170879676765,0.5465116279030808,0.5540950454950203,0.5652173913050416,0.5753286147556426,0.5854398382221994,0.5955510616728004,0.6056622851393572,0.4847320525674144,0.3638018200114269,0.2428715874554394,0.12194135489945192,0.0,0.05277272349789345,0.10453432466827828,0.15629592582270677,0.2080575269930916,0.2598191281475206,0.2598191281475206,0.2598191281475206,0.2598191281475206,0.2598191281475206,0.2598191281475206,0.2598191281475206],\"type\":\"scatter\"}],                        {\"template\":{\"data\":{\"histogram2dcontour\":[{\"type\":\"histogram2dcontour\",\"colorbar\":{\"outlinewidth\":0,\"ticks\":\"\"},\"colorscale\":[[0.0,\"#0d0887\"],[0.1111111111111111,\"#46039f\"],[0.2222222222222222,\"#7201a8\"],[0.3333333333333333,\"#9c179e\"],[0.4444444444444444,\"#bd3786\"],[0.5555555555555556,\"#d8576b\"],[0.6666666666666666,\"#ed7953\"],[0.7777777777777778,\"#fb9f3a\"],[0.8888888888888888,\"#fdca26\"],[1.0,\"#f0f921\"]]}],\"choropleth\":[{\"type\":\"choropleth\",\"colorbar\":{\"outlinewidth\":0,\"ticks\":\"\"}}],\"histogram2d\":[{\"type\":\"histogram2d\",\"colorbar\":{\"outlinewidth\":0,\"ticks\":\"\"},\"colorscale\":[[0.0,\"#0d0887\"],[0.1111111111111111,\"#46039f\"],[0.2222222222222222,\"#7201a8\"],[0.3333333333333333,\"#9c179e\"],[0.4444444444444444,\"#bd3786\"],[0.5555555555555556,\"#d8576b\"],[0.6666666666666666,\"#ed7953\"],[0.7777777777777778,\"#fb9f3a\"],[0.8888888888888888,\"#fdca26\"],[1.0,\"#f0f921\"]]}],\"heatmap\":[{\"type\":\"heatmap\",\"colorbar\":{\"outlinewidth\":0,\"ticks\":\"\"},\"colorscale\":[[0.0,\"#0d0887\"],[0.1111111111111111,\"#46039f\"],[0.2222222222222222,\"#7201a8\"],[0.3333333333333333,\"#9c179e\"],[0.4444444444444444,\"#bd3786\"],[0.5555555555555556,\"#d8576b\"],[0.6666666666666666,\"#ed7953\"],[0.7777777777777778,\"#fb9f3a\"],[0.8888888888888888,\"#fdca26\"],[1.0,\"#f0f921\"]]}],\"heatmapgl\":[{\"type\":\"heatmapgl\",\"colorbar\":{\"outlinewidth\":0,\"ticks\":\"\"},\"colorscale\":[[0.0,\"#0d0887\"],[0.1111111111111111,\"#46039f\"],[0.2222222222222222,\"#7201a8\"],[0.3333333333333333,\"#9c179e\"],[0.4444444444444444,\"#bd3786\"],[0.5555555555555556,\"#d8576b\"],[0.6666666666666666,\"#ed7953\"],[0.7777777777777778,\"#fb9f3a\"],[0.8888888888888888,\"#fdca26\"],[1.0,\"#f0f921\"]]}],\"contourcarpet\":[{\"type\":\"contourcarpet\",\"colorbar\":{\"outlinewidth\":0,\"ticks\":\"\"}}],\"contour\":[{\"type\":\"contour\",\"colorbar\":{\"outlinewidth\":0,\"ticks\":\"\"},\"colorscale\":[[0.0,\"#0d0887\"],[0.1111111111111111,\"#46039f\"],[0.2222222222222222,\"#7201a8\"],[0.3333333333333333,\"#9c179e\"],[0.4444444444444444,\"#bd3786\"],[0.5555555555555556,\"#d8576b\"],[0.6666666666666666,\"#ed7953\"],[0.7777777777777778,\"#fb9f3a\"],[0.8888888888888888,\"#fdca26\"],[1.0,\"#f0f921\"]]}],\"surface\":[{\"type\":\"surface\",\"colorbar\":{\"outlinewidth\":0,\"ticks\":\"\"},\"colorscale\":[[0.0,\"#0d0887\"],[0.1111111111111111,\"#46039f\"],[0.2222222222222222,\"#7201a8\"],[0.3333333333333333,\"#9c179e\"],[0.4444444444444444,\"#bd3786\"],[0.5555555555555556,\"#d8576b\"],[0.6666666666666666,\"#ed7953\"],[0.7777777777777778,\"#fb9f3a\"],[0.8888888888888888,\"#fdca26\"],[1.0,\"#f0f921\"]]}],\"mesh3d\":[{\"type\":\"mesh3d\",\"colorbar\":{\"outlinewidth\":0,\"ticks\":\"\"}}],\"scatter\":[{\"fillpattern\":{\"fillmode\":\"overlay\",\"size\":10,\"solidity\":0.2},\"type\":\"scatter\"}],\"parcoords\":[{\"type\":\"parcoords\",\"line\":{\"colorbar\":{\"outlinewidth\":0,\"ticks\":\"\"}}}],\"scatterpolargl\":[{\"type\":\"scatterpolargl\",\"marker\":{\"colorbar\":{\"outlinewidth\":0,\"ticks\":\"\"}}}],\"bar\":[{\"error_x\":{\"color\":\"#2a3f5f\"},\"error_y\":{\"color\":\"#2a3f5f\"},\"marker\":{\"line\":{\"color\":\"#E5ECF6\",\"width\":0.5},\"pattern\":{\"fillmode\":\"overlay\",\"size\":10,\"solidity\":0.2}},\"type\":\"bar\"}],\"scattergeo\":[{\"type\":\"scattergeo\",\"marker\":{\"colorbar\":{\"outlinewidth\":0,\"ticks\":\"\"}}}],\"scatterpolar\":[{\"type\":\"scatterpolar\",\"marker\":{\"colorbar\":{\"outlinewidth\":0,\"ticks\":\"\"}}}],\"histogram\":[{\"marker\":{\"pattern\":{\"fillmode\":\"overlay\",\"size\":10,\"solidity\":0.2}},\"type\":\"histogram\"}],\"scattergl\":[{\"type\":\"scattergl\",\"marker\":{\"colorbar\":{\"outlinewidth\":0,\"ticks\":\"\"}}}],\"scatter3d\":[{\"type\":\"scatter3d\",\"line\":{\"colorbar\":{\"outlinewidth\":0,\"ticks\":\"\"}},\"marker\":{\"colorbar\":{\"outlinewidth\":0,\"ticks\":\"\"}}}],\"scattermapbox\":[{\"type\":\"scattermapbox\",\"marker\":{\"colorbar\":{\"outlinewidth\":0,\"ticks\":\"\"}}}],\"scatterternary\":[{\"type\":\"scatterternary\",\"marker\":{\"colorbar\":{\"outlinewidth\":0,\"ticks\":\"\"}}}],\"scattercarpet\":[{\"type\":\"scattercarpet\",\"marker\":{\"colorbar\":{\"outlinewidth\":0,\"ticks\":\"\"}}}],\"carpet\":[{\"aaxis\":{\"endlinecolor\":\"#2a3f5f\",\"gridcolor\":\"white\",\"linecolor\":\"white\",\"minorgridcolor\":\"white\",\"startlinecolor\":\"#2a3f5f\"},\"baxis\":{\"endlinecolor\":\"#2a3f5f\",\"gridcolor\":\"white\",\"linecolor\":\"white\",\"minorgridcolor\":\"white\",\"startlinecolor\":\"#2a3f5f\"},\"type\":\"carpet\"}],\"table\":[{\"cells\":{\"fill\":{\"color\":\"#EBF0F8\"},\"line\":{\"color\":\"white\"}},\"header\":{\"fill\":{\"color\":\"#C8D4E3\"},\"line\":{\"color\":\"white\"}},\"type\":\"table\"}],\"barpolar\":[{\"marker\":{\"line\":{\"color\":\"#E5ECF6\",\"width\":0.5},\"pattern\":{\"fillmode\":\"overlay\",\"size\":10,\"solidity\":0.2}},\"type\":\"barpolar\"}],\"pie\":[{\"automargin\":true,\"type\":\"pie\"}]},\"layout\":{\"autotypenumbers\":\"strict\",\"colorway\":[\"#636efa\",\"#EF553B\",\"#00cc96\",\"#ab63fa\",\"#FFA15A\",\"#19d3f3\",\"#FF6692\",\"#B6E880\",\"#FF97FF\",\"#FECB52\"],\"font\":{\"color\":\"#2a3f5f\"},\"hovermode\":\"closest\",\"hoverlabel\":{\"align\":\"left\"},\"paper_bgcolor\":\"white\",\"plot_bgcolor\":\"#E5ECF6\",\"polar\":{\"bgcolor\":\"#E5ECF6\",\"angularaxis\":{\"gridcolor\":\"white\",\"linecolor\":\"white\",\"ticks\":\"\"},\"radialaxis\":{\"gridcolor\":\"white\",\"linecolor\":\"white\",\"ticks\":\"\"}},\"ternary\":{\"bgcolor\":\"#E5ECF6\",\"aaxis\":{\"gridcolor\":\"white\",\"linecolor\":\"white\",\"ticks\":\"\"},\"baxis\":{\"gridcolor\":\"white\",\"linecolor\":\"white\",\"ticks\":\"\"},\"caxis\":{\"gridcolor\":\"white\",\"linecolor\":\"white\",\"ticks\":\"\"}},\"coloraxis\":{\"colorbar\":{\"outlinewidth\":0,\"ticks\":\"\"}},\"colorscale\":{\"sequential\":[[0.0,\"#0d0887\"],[0.1111111111111111,\"#46039f\"],[0.2222222222222222,\"#7201a8\"],[0.3333333333333333,\"#9c179e\"],[0.4444444444444444,\"#bd3786\"],[0.5555555555555556,\"#d8576b\"],[0.6666666666666666,\"#ed7953\"],[0.7777777777777778,\"#fb9f3a\"],[0.8888888888888888,\"#fdca26\"],[1.0,\"#f0f921\"]],\"sequentialminus\":[[0.0,\"#0d0887\"],[0.1111111111111111,\"#46039f\"],[0.2222222222222222,\"#7201a8\"],[0.3333333333333333,\"#9c179e\"],[0.4444444444444444,\"#bd3786\"],[0.5555555555555556,\"#d8576b\"],[0.6666666666666666,\"#ed7953\"],[0.7777777777777778,\"#fb9f3a\"],[0.8888888888888888,\"#fdca26\"],[1.0,\"#f0f921\"]],\"diverging\":[[0,\"#8e0152\"],[0.1,\"#c51b7d\"],[0.2,\"#de77ae\"],[0.3,\"#f1b6da\"],[0.4,\"#fde0ef\"],[0.5,\"#f7f7f7\"],[0.6,\"#e6f5d0\"],[0.7,\"#b8e186\"],[0.8,\"#7fbc41\"],[0.9,\"#4d9221\"],[1,\"#276419\"]]},\"xaxis\":{\"gridcolor\":\"white\",\"linecolor\":\"white\",\"ticks\":\"\",\"title\":{\"standoff\":15},\"zerolinecolor\":\"white\",\"automargin\":true,\"zerolinewidth\":2},\"yaxis\":{\"gridcolor\":\"white\",\"linecolor\":\"white\",\"ticks\":\"\",\"title\":{\"standoff\":15},\"zerolinecolor\":\"white\",\"automargin\":true,\"zerolinewidth\":2},\"scene\":{\"xaxis\":{\"backgroundcolor\":\"#E5ECF6\",\"gridcolor\":\"white\",\"linecolor\":\"white\",\"showbackground\":true,\"ticks\":\"\",\"zerolinecolor\":\"white\",\"gridwidth\":2},\"yaxis\":{\"backgroundcolor\":\"#E5ECF6\",\"gridcolor\":\"white\",\"linecolor\":\"white\",\"showbackground\":true,\"ticks\":\"\",\"zerolinecolor\":\"white\",\"gridwidth\":2},\"zaxis\":{\"backgroundcolor\":\"#E5ECF6\",\"gridcolor\":\"white\",\"linecolor\":\"white\",\"showbackground\":true,\"ticks\":\"\",\"zerolinecolor\":\"white\",\"gridwidth\":2}},\"shapedefaults\":{\"line\":{\"color\":\"#2a3f5f\"}},\"annotationdefaults\":{\"arrowcolor\":\"#2a3f5f\",\"arrowhead\":0,\"arrowwidth\":1},\"geo\":{\"bgcolor\":\"white\",\"landcolor\":\"#E5ECF6\",\"subunitcolor\":\"white\",\"showland\":true,\"showlakes\":true,\"lakecolor\":\"white\"},\"title\":{\"x\":0.05},\"mapbox\":{\"style\":\"light\"}}},\"updatemenus\":[{\"active\":0,\"buttons\":[{\"args\":[{\"visible\":[true,true,false,false,false,false,false,false,false,false]},{\"title\":\"Australia: Urban Population vs Water Stress (Scaled)\"}],\"label\":\"Australia\",\"method\":\"update\"},{\"args\":[{\"visible\":[false,false,true,true,false,false,false,false,false,false]},{\"title\":\"Germany: Urban Population vs Water Stress (Scaled)\"}],\"label\":\"Germany\",\"method\":\"update\"},{\"args\":[{\"visible\":[false,false,false,false,true,true,false,false,false,false]},{\"title\":\"Japan: Urban Population vs Water Stress (Scaled)\"}],\"label\":\"Japan\",\"method\":\"update\"},{\"args\":[{\"visible\":[false,false,false,false,false,false,true,true,false,false]},{\"title\":\"United Kingdom: Urban Population vs Water Stress (Scaled)\"}],\"label\":\"United Kingdom\",\"method\":\"update\"},{\"args\":[{\"visible\":[false,false,false,false,false,false,false,false,true,true]},{\"title\":\"United States: Urban Population vs Water Stress (Scaled)\"}],\"label\":\"United States\",\"method\":\"update\"}],\"x\":0.5,\"xanchor\":\"center\",\"y\":1.15,\"yanchor\":\"top\"}],\"title\":{\"text\":\"Australia: Urban Population vs Water Stress (Scaled)\"},\"xaxis\":{\"title\":{\"text\":\"Year\"}},\"yaxis\":{\"title\":{\"text\":\"Scaled Values (0\\u20131)\"}},\"legend\":{\"title\":{\"text\":\"Variable\"}},\"height\":500},                        {\"responsive\": true}                    ).then(function(){\n",
       "                            \n",
       "var gd = document.getElementById('e489ba7d-d23b-4506-b6c0-af7364c7f3f2');\n",
       "var x = new MutationObserver(function (mutations, observer) {{\n",
       "        var display = window.getComputedStyle(gd).display;\n",
       "        if (!display || display === 'none') {{\n",
       "            console.log([gd, 'removed!']);\n",
       "            Plotly.purge(gd);\n",
       "            observer.disconnect();\n",
       "        }}\n",
       "}});\n",
       "\n",
       "// Listen for the removal of the full notebook cells\n",
       "var notebookContainer = gd.closest('#notebook-container');\n",
       "if (notebookContainer) {{\n",
       "    x.observe(notebookContainer, {childList: true});\n",
       "}}\n",
       "\n",
       "// Listen for the clearing of the current output cell\n",
       "var outputEl = gd.closest('.output');\n",
       "if (outputEl) {{\n",
       "    x.observe(outputEl, {childList: true});\n",
       "}}\n",
       "\n",
       "                        })                };                });            </script>        </div>"
      ]
     },
     "metadata": {},
     "output_type": "display_data"
    }
   ],
   "source": [
    "import plotly.graph_objects as go\n",
    "\n",
    "# Start with the developed dataset\n",
    "data = dev_df\n",
    "\n",
    "# Get the list of unique countries in the dataset\n",
    "countries = data['Country Name'].unique()\n",
    "\n",
    "# Create an empty figure\n",
    "fig = go.Figure()\n",
    "\n",
    "# Step 1: Add one trace per country for both variables (urban + water)\n",
    "for country in countries:\n",
    "    country_data = data[data['Country Name'] == country]\n",
    "\n",
    "    # Urban Population Line (normalized)\n",
    "    fig.add_trace(go.Scatter(\n",
    "        x=country_data['Year'],\n",
    "        y=country_data['Urban_Scaled'],\n",
    "        mode='lines',\n",
    "        name=f\"{country} - Urban\",\n",
    "        visible=(country == countries[0])  # only first country visible by default\n",
    "    ))\n",
    "\n",
    "    # Water Stress Line (normalized)\n",
    "    fig.add_trace(go.Scatter(\n",
    "        x=country_data['Year'],\n",
    "        y=country_data['Water_Scaled'],\n",
    "        mode='lines',\n",
    "        name=f\"{country} - Water\",\n",
    "        visible=(country == countries[0])  # only first country visible by default\n",
    "    ))\n",
    "\n",
    "# Step 2: Create dropdown buttons\n",
    "dropdown_buttons = []\n",
    "\n",
    "for i, country in enumerate(countries):\n",
    "    # Each country has two traces: Urban + Water\n",
    "    visibility = [False] * len(countries) * 2\n",
    "    visibility[i * 2] = True     # Urban line for this country\n",
    "    visibility[i * 2 + 1] = True # Water line for this country\n",
    "\n",
    "    dropdown_buttons.append(\n",
    "        dict(\n",
    "            label=country,\n",
    "            method='update',\n",
    "            args=[{'visible': visibility},\n",
    "                  {'title': f\"{country}: Urban Population vs Water Stress (Scaled)\"}]\n",
    "        )\n",
    "    )\n",
    "\n",
    "# Step 3: Add the dropdown menu to the figure\n",
    "fig.update_layout(\n",
    "    updatemenus=[dict(\n",
    "        active=0,\n",
    "        buttons=dropdown_buttons,\n",
    "        x=0.5,\n",
    "        xanchor='center',\n",
    "        y=1.15,\n",
    "        yanchor='top'\n",
    "    )],\n",
    "    title=f\"{countries[0]}: Urban Population vs Water Stress (Scaled)\",\n",
    "    xaxis_title=\"Year\",\n",
    "    yaxis_title=\"Scaled Values (0–1)\",\n",
    "    legend_title=\"Variable\",\n",
    "    height=500\n",
    ")\n",
    "\n",
    "\n",
    "legend=dict(\n",
    "    title=\"\",\n",
    "    orientation=\"h\",\n",
    "    yanchor=\"bottom\",\n",
    "    y=1.02,\n",
    "    xanchor=\"center\",\n",
    "    x=0.5\n",
    "),\n",
    "\n",
    "\n",
    "# Show the figure\n",
    "fig.show()\n"
   ]
  },
  {
   "cell_type": "markdown",
   "id": "c49b47be-4abb-488e-bc6b-33e30175452f",
   "metadata": {},
   "source": [
    "## Developing countries\n",
    "#### 4. Create interactive plot"
   ]
  },
  {
   "cell_type": "code",
   "execution_count": 260,
   "id": "0f482994-ea51-4378-b2cf-ed269d1344a2",
   "metadata": {},
   "outputs": [
    {
     "data": {
      "application/vnd.plotly.v1+json": {
       "config": {
        "plotlyServerURL": "https://plot.ly"
       },
       "data": [
        {
         "mode": "lines",
         "name": "Brazil - Urban",
         "type": "scatter",
         "visible": true,
         "x": [
          1987,
          1988,
          1989,
          1990,
          1991,
          1992,
          1993,
          1994,
          1995,
          1996,
          1997,
          1998,
          1999,
          2000,
          2001,
          2002,
          2003,
          2004,
          2005,
          2006,
          2007,
          2008,
          2009,
          2010,
          2011,
          2012,
          2013,
          2014,
          2015,
          2016,
          2017,
          2018,
          2019,
          2020,
          2021
         ],
         "y": [
          0,
          0.03797939045300841,
          0.07581297767029906,
          0.11358437728446044,
          0.1510431324414942,
          0.18844399047683766,
          0.2256978751451618,
          0.26265319349857985,
          0.2997441861386368,
          0.33693595633703805,
          0.37556038167001504,
          0.41474217954628767,
          0.45383568126476564,
          0.49191794576136694,
          0.5222681776393393,
          0.5512744283954301,
          0.5795357199339485,
          0.6071811323640949,
          0.6344742865170098,
          0.6613440359717865,
          0.6876006610022967,
          0.7130457999751957,
          0.7374352611144952,
          0.7609213565112779,
          0.7842374537699102,
          0.8076605205316906,
          0.8311639972538482,
          0.854754368414012,
          0.8781609802043646,
          0.9010251751921194,
          0.9232645688203278,
          0.9445646029796296,
          0.9652385437594064,
          0.984327858601821,
          1
         ]
        },
        {
         "mode": "lines",
         "name": "Brazil - Water",
         "type": "scatter",
         "visible": true,
         "x": [
          1987,
          1988,
          1989,
          1990,
          1991,
          1992,
          1993,
          1994,
          1995,
          1996,
          1997,
          1998,
          1999,
          2000,
          2001,
          2002,
          2003,
          2004,
          2005,
          2006,
          2007,
          2008,
          2009,
          2010,
          2011,
          2012,
          2013,
          2014,
          2015,
          2016,
          2017,
          2018,
          2019,
          2020,
          2021
         ],
         "y": [
          0.09300394085496233,
          0.14320142155357532,
          0.1933989022521884,
          0.24359638295080135,
          0.29379386369769683,
          0.34449864587556334,
          0.3947975868603708,
          0.44509652784517806,
          0.4953954688782677,
          0.5447812672390442,
          0.5521777226916509,
          0.5595741781925399,
          0.5669706336451467,
          0.574001832028828,
          0.5813069732624857,
          0.588612114447861,
          0.5959172556815189,
          0.6032223968668942,
          0.6105275380522697,
          0.6178326792859273,
          0.7134843719173126,
          0.8089306075077805,
          0.9044653037297491,
          1,
          0.9439530162391709,
          0.8879060324783418,
          0.8318590487175126,
          0.7774500145919511,
          0.7509232206130674,
          0.8068532079644799,
          0.7924712111893838,
          0,
          0.009992398167027631,
          0.007334845446080708,
          0.00861047078303599
         ]
        },
        {
         "mode": "lines",
         "name": "China - Urban",
         "type": "scatter",
         "visible": false,
         "x": [
          1980,
          1981,
          1982,
          1983,
          1984,
          1985,
          1986,
          1987,
          1988,
          1989,
          1990,
          1991,
          1992,
          1993,
          1994,
          1995,
          1996,
          1997,
          1998,
          1999,
          2000,
          2001,
          2002,
          2003,
          2004,
          2005,
          2006,
          2007,
          2008,
          2009,
          2010,
          2011,
          2012,
          2013,
          2014,
          2015,
          2016,
          2017,
          2018,
          2019,
          2020,
          2021
         ],
         "y": [
          0,
          0.014434455776252053,
          0.03012693847938838,
          0.04405050959365418,
          0.05809792567515971,
          0.07283012716129585,
          0.08857471630168455,
          0.1053884045032869,
          0.12291503322046217,
          0.1407853188058772,
          0.1590571069523567,
          0.17945609238011984,
          0.19997787218974256,
          0.22081619424026033,
          0.2422826941924962,
          0.2642159975141072,
          0.28666807643294956,
          0.3096024476399647,
          0.3328662235432224,
          0.35618681187126616,
          0.37961297392822874,
          0.4066975470268714,
          0.4358864729472273,
          0.46544181216557434,
          0.49543416892603614,
          0.5258992977662194,
          0.5558444965197425,
          0.5855041770495433,
          0.6155358369594932,
          0.6457345356155457,
          0.6761717474582314,
          0.7063211898228086,
          0.7375008105237345,
          0.7688134024308341,
          0.8000756715868486,
          0.831051752915272,
          0.8621569220360532,
          0.8937173149972396,
          0.9233218599981494,
          0.9510617299551902,
          0.9767890261138755,
          1
         ]
        },
        {
         "mode": "lines",
         "name": "China - Water",
         "type": "scatter",
         "visible": false,
         "x": [
          1980,
          1981,
          1982,
          1983,
          1984,
          1985,
          1986,
          1987,
          1988,
          1989,
          1990,
          1991,
          1992,
          1993,
          1994,
          1995,
          1996,
          1997,
          1998,
          1999,
          2000,
          2001,
          2002,
          2003,
          2004,
          2005,
          2006,
          2007,
          2008,
          2009,
          2010,
          2011,
          2012,
          2013,
          2014,
          2015,
          2016,
          2017,
          2018,
          2019,
          2020,
          2021
         ],
         "y": [
          0,
          0.05228605289292011,
          0.10457210578583961,
          0.1568581586787597,
          0.20914421158021992,
          0.23303393213231513,
          0.2566616766498526,
          0.2802894211588494,
          0.3039171656678462,
          0.3275449101768436,
          0.35117265469438114,
          0.40398369927120453,
          0.45679474384802793,
          0.5096057884248514,
          0.5323282007412,
          0.5550506130575494,
          0.5777730253738981,
          0.6004954376987875,
          0.6232178500151369,
          0.6459402623314856,
          0.6686626746478349,
          0.6726546906187117,
          0.6766467065895879,
          0.680638722551924,
          0.6846307385228009,
          0.6886227544936777,
          0.7753243512946978,
          0.7796906187593746,
          0.8258483033932777,
          0.8701347305410989,
          0.8927769461081667,
          0.9437375249480897,
          0.9674401197575547,
          0.9923902195605877,
          0.9337574850251681,
          0.9237774451107876,
          1,
          0.9513473053875021,
          0.9307010978016029,
          0.9881487025909975,
          0.7783183632707206,
          0.7783183632707206
         ]
        },
        {
         "mode": "lines",
         "name": "India - Urban",
         "type": "scatter",
         "visible": false,
         "x": [
          1975,
          1976,
          1977,
          1978,
          1979,
          1980,
          1981,
          1982,
          1983,
          1984,
          1985,
          1986,
          1987,
          1988,
          1989,
          1990,
          1991,
          1992,
          1993,
          1994,
          1995,
          1996,
          1997,
          1998,
          1999,
          2000,
          2001,
          2002,
          2003,
          2004,
          2005,
          2006,
          2007,
          2008,
          2009,
          2010,
          2011,
          2012,
          2013,
          2014,
          2015,
          2016,
          2017,
          2018,
          2019,
          2020,
          2021
         ],
         "y": [
          0,
          0.014220966405005708,
          0.029012662180673277,
          0.044149641647063025,
          0.05995121346083867,
          0.07662414310790201,
          0.09288763229715849,
          0.10787711280012474,
          0.12339808724161254,
          0.13946266235426344,
          0.1559467529093274,
          0.17287847105880969,
          0.1901966320074858,
          0.20790948973174941,
          0.22610154819875744,
          0.24470109372752236,
          0.26330132551160773,
          0.281580324962698,
          0.3001893591870749,
          0.31895545942247266,
          0.3380016815146606,
          0.3574899087708658,
          0.3772818931655279,
          0.39737916391325856,
          0.4177500506011982,
          0.43847644186126655,
          0.46071824967824687,
          0.4852465467476922,
          0.5097969363752294,
          0.5347687191910369,
          0.5597170612542448,
          0.5846787501728978,
          0.6097379089613962,
          0.6347760369962945,
          0.6604443014175482,
          0.6868072912790579,
          0.7134249980415381,
          0.7405379595983931,
          0.7681190094250279,
          0.7958489334275196,
          0.8237280396102248,
          0.8525318667318645,
          0.8819740842162532,
          0.9115630171442114,
          0.9413639246142046,
          0.9712233988423926,
          1
         ]
        },
        {
         "mode": "lines",
         "name": "India - Water",
         "type": "scatter",
         "visible": false,
         "x": [
          1975,
          1976,
          1977,
          1978,
          1979,
          1980,
          1981,
          1982,
          1983,
          1984,
          1985,
          1986,
          1987,
          1988,
          1989,
          1990,
          1991,
          1992,
          1993,
          1994,
          1995,
          1996,
          1997,
          1998,
          1999,
          2000,
          2001,
          2002,
          2003,
          2004,
          2005,
          2006,
          2007,
          2008,
          2009,
          2010,
          2011,
          2012,
          2013,
          2014,
          2015,
          2016,
          2017,
          2018,
          2019,
          2020,
          2021
         ],
         "y": [
          0,
          0.04234713130319449,
          0.08469426260285526,
          0.12704139390251604,
          0.16938852520571052,
          0.21173565650537154,
          0.254082787808566,
          0.2964299191082268,
          0.3387770504078876,
          0.3811241817110821,
          0.4234713130107431,
          0.4258662664530723,
          0.4282612198954012,
          0.430656173334197,
          0.43305112677652613,
          0.4354460802188551,
          0.4755069381603295,
          0.5155677961053377,
          0.5556286540503454,
          0.5956895119953536,
          0.6357503699403614,
          0.6758112278818358,
          0.7158720858268437,
          0.7559329437718518,
          0.7959938017168596,
          0.836054659658334,
          0.8907031064400672,
          0.9453515532182668,
          1,
          0.8899055506564891,
          0.9033682734051445,
          0.9168309961537998,
          0.9302937189059889,
          0.9437564416546442,
          0.9572191644032996,
          0.9706818871519549,
          0.9706818871519549,
          0.9706818871519549,
          0.9706818871519549,
          0.9706818871519549,
          0.9706818871519549,
          0.9706818871519549,
          0.9706818871519549,
          0.9706818871519549,
          0.9706818871519549,
          0.9706818871519549,
          0.9706818871519549
         ]
        },
        {
         "mode": "lines",
         "name": "Nigeria - Urban",
         "type": "scatter",
         "visible": false,
         "x": [
          1987,
          1988,
          1989,
          1990,
          1991,
          1992,
          1993,
          1994,
          1995,
          1996,
          1997,
          1998,
          1999,
          2000,
          2001,
          2002,
          2003,
          2004,
          2005,
          2006,
          2007,
          2008,
          2009,
          2010,
          2011,
          2012,
          2013,
          2014,
          2015,
          2016,
          2017,
          2018,
          2019,
          2020,
          2021
         ],
         "y": [
          0,
          0.015470602110739112,
          0.031771089674356524,
          0.04894440544242108,
          0.06287428368096112,
          0.07732429403266182,
          0.092444686616771,
          0.10814242430613871,
          0.12446452077677155,
          0.14137375457631046,
          0.15888109519574034,
          0.1771255371983636,
          0.19620912875758567,
          0.21625026775955364,
          0.24143529485106066,
          0.2679212243553903,
          0.29570766018259725,
          0.3248345524046637,
          0.35523800951291423,
          0.3869463189309418,
          0.42013208785490636,
          0.4548791883307237,
          0.4911142997085207,
          0.5289926122293629,
          0.5683589466546832,
          0.6089522577055365,
          0.6504608005899803,
          0.692729176019478,
          0.7353696229400861,
          0.7786561255689626,
          0.8228444589882804,
          0.8669678006490747,
          0.9108919970873746,
          0.9551392818935502,
          1
         ]
        },
        {
         "mode": "lines",
         "name": "Nigeria - Water",
         "type": "scatter",
         "visible": false,
         "x": [
          1987,
          1988,
          1989,
          1990,
          1991,
          1992,
          1993,
          1994,
          1995,
          1996,
          1997,
          1998,
          1999,
          2000,
          2001,
          2002,
          2003,
          2004,
          2005,
          2006,
          2007,
          2008,
          2009,
          2010,
          2011,
          2012,
          2013,
          2014,
          2015,
          2016,
          2017,
          2018,
          2019,
          2020,
          2021
         ],
         "y": [
          0,
          0.05267923010088045,
          0.1054255247937391,
          0.15770236738023927,
          0.21041512977710883,
          0.2631278921552338,
          0.31584065455210336,
          0.36855341694897276,
          0.42126617932709776,
          0.4739789417239673,
          0.5267923009900595,
          0.5794044664989617,
          0.6321507611730758,
          0.684829991273956,
          0.7216797442547296,
          0.7585294972355033,
          0.7953792502162768,
          0.8322290031970502,
          0.8690787561778238,
          0.8952630049272636,
          0.9214472536954476,
          0.9476315024636318,
          0.9738157512318161,
          1,
          1,
          1,
          1,
          1,
          1,
          1,
          1,
          1,
          1,
          1,
          1
         ]
        },
        {
         "mode": "lines",
         "name": "Pakistan - Urban",
         "type": "scatter",
         "visible": false,
         "x": [
          1975,
          1976,
          1977,
          1978,
          1979,
          1980,
          1981,
          1982,
          1983,
          1984,
          1985,
          1986,
          1987,
          1988,
          1989,
          1990,
          1991,
          1992,
          1993,
          1994,
          1995,
          1996,
          1997,
          1998,
          1999,
          2000,
          2001,
          2002,
          2003,
          2004,
          2005,
          2006,
          2007,
          2008,
          2009,
          2010,
          2011,
          2012,
          2013,
          2014,
          2015,
          2016,
          2017,
          2018,
          2019,
          2020,
          2021
         ],
         "y": [
          0,
          0.011381581406048039,
          0.0234534154966499,
          0.036251402866170616,
          0.050407419198334684,
          0.06724743234731272,
          0.0848309745507805,
          0.1008871580561221,
          0.11657501715752742,
          0.13168007312847377,
          0.1475207970167363,
          0.16488267196717504,
          0.1831025459000379,
          0.20189015928695758,
          0.2210025034989417,
          0.2412845176612918,
          0.2622208138502195,
          0.2816260940205178,
          0.3012365905079417,
          0.32223784967714897,
          0.3439960480760245,
          0.3666985638262893,
          0.38968567796513864,
          0.41264022653751475,
          0.4352783117909449,
          0.4594136283896968,
          0.4841300105413506,
          0.5070772444727203,
          0.5299450823199088,
          0.5544183437407924,
          0.579086157797181,
          0.6043121406183403,
          0.6326032102502054,
          0.6621147879887037,
          0.6912848476609004,
          0.7206872102423022,
          0.7486426051130377,
          0.7739788120072943,
          0.7969456637497924,
          0.8190532273394209,
          0.8405453801939504,
          0.861338914768752,
          0.8837646091912724,
          0.9095515072707602,
          0.9372398056429821,
          0.9674611978262737,
          1
         ]
        },
        {
         "mode": "lines",
         "name": "Pakistan - Water",
         "type": "scatter",
         "visible": false,
         "x": [
          1975,
          1976,
          1977,
          1978,
          1979,
          1980,
          1981,
          1982,
          1983,
          1984,
          1985,
          1986,
          1987,
          1988,
          1989,
          1990,
          1991,
          1992,
          1993,
          1994,
          1995,
          1996,
          1997,
          1998,
          1999,
          2000,
          2001,
          2002,
          2003,
          2004,
          2005,
          2006,
          2007,
          2008,
          2009,
          2010,
          2011,
          2012,
          2013,
          2014,
          2015,
          2016,
          2017,
          2018,
          2019,
          2020,
          2021
         ],
         "y": [
          0,
          0.001258775333004888,
          0.002517550666009567,
          0.0037763259990144546,
          0.005035101333490286,
          0.006293876666495174,
          0.007552651999499852,
          0.008811427333975684,
          0.010070202666980572,
          0.011328977999985251,
          0.012587753332990139,
          0.01384652866746597,
          0.015105304000470858,
          0.016364079333475536,
          0.017622854667951368,
          0.018881630000956256,
          0.020140405333960935,
          0.037144650379893875,
          0.054148895425826814,
          0.07115314047028902,
          0.08815738551622196,
          0.1051616305621549,
          0.12216587560808784,
          0.1391701206540208,
          0.15617436569848278,
          0.17317861074441573,
          0.18469031419655926,
          0.19620201765017395,
          0.20771372110231767,
          0.2192254245544612,
          0.23073712800660495,
          0.24430618469170848,
          0.2578752413782832,
          0.2718954720172994,
          0.26819584559021475,
          0.2879572648018888,
          0.23562108606565216,
          0.3114183104435896,
          0.2718954720172994,
          0.37449242930000953,
          0.392810091858575,
          0.4187074768540516,
          0.420512172672644,
          0.3552724188336191,
          0.21423544061665648,
          0.32684845969152476,
          1
         ]
        }
       ],
       "layout": {
        "autosize": true,
        "legend": {
         "title": {
          "text": "Variable"
         }
        },
        "template": {
         "data": {
          "bar": [
           {
            "error_x": {
             "color": "#2a3f5f"
            },
            "error_y": {
             "color": "#2a3f5f"
            },
            "marker": {
             "line": {
              "color": "#E5ECF6",
              "width": 0.5
             },
             "pattern": {
              "fillmode": "overlay",
              "size": 10,
              "solidity": 0.2
             }
            },
            "type": "bar"
           }
          ],
          "barpolar": [
           {
            "marker": {
             "line": {
              "color": "#E5ECF6",
              "width": 0.5
             },
             "pattern": {
              "fillmode": "overlay",
              "size": 10,
              "solidity": 0.2
             }
            },
            "type": "barpolar"
           }
          ],
          "carpet": [
           {
            "aaxis": {
             "endlinecolor": "#2a3f5f",
             "gridcolor": "white",
             "linecolor": "white",
             "minorgridcolor": "white",
             "startlinecolor": "#2a3f5f"
            },
            "baxis": {
             "endlinecolor": "#2a3f5f",
             "gridcolor": "white",
             "linecolor": "white",
             "minorgridcolor": "white",
             "startlinecolor": "#2a3f5f"
            },
            "type": "carpet"
           }
          ],
          "choropleth": [
           {
            "colorbar": {
             "outlinewidth": 0,
             "ticks": ""
            },
            "type": "choropleth"
           }
          ],
          "contour": [
           {
            "colorbar": {
             "outlinewidth": 0,
             "ticks": ""
            },
            "colorscale": [
             [
              0,
              "#0d0887"
             ],
             [
              0.1111111111111111,
              "#46039f"
             ],
             [
              0.2222222222222222,
              "#7201a8"
             ],
             [
              0.3333333333333333,
              "#9c179e"
             ],
             [
              0.4444444444444444,
              "#bd3786"
             ],
             [
              0.5555555555555556,
              "#d8576b"
             ],
             [
              0.6666666666666666,
              "#ed7953"
             ],
             [
              0.7777777777777778,
              "#fb9f3a"
             ],
             [
              0.8888888888888888,
              "#fdca26"
             ],
             [
              1,
              "#f0f921"
             ]
            ],
            "type": "contour"
           }
          ],
          "contourcarpet": [
           {
            "colorbar": {
             "outlinewidth": 0,
             "ticks": ""
            },
            "type": "contourcarpet"
           }
          ],
          "heatmap": [
           {
            "colorbar": {
             "outlinewidth": 0,
             "ticks": ""
            },
            "colorscale": [
             [
              0,
              "#0d0887"
             ],
             [
              0.1111111111111111,
              "#46039f"
             ],
             [
              0.2222222222222222,
              "#7201a8"
             ],
             [
              0.3333333333333333,
              "#9c179e"
             ],
             [
              0.4444444444444444,
              "#bd3786"
             ],
             [
              0.5555555555555556,
              "#d8576b"
             ],
             [
              0.6666666666666666,
              "#ed7953"
             ],
             [
              0.7777777777777778,
              "#fb9f3a"
             ],
             [
              0.8888888888888888,
              "#fdca26"
             ],
             [
              1,
              "#f0f921"
             ]
            ],
            "type": "heatmap"
           }
          ],
          "heatmapgl": [
           {
            "colorbar": {
             "outlinewidth": 0,
             "ticks": ""
            },
            "colorscale": [
             [
              0,
              "#0d0887"
             ],
             [
              0.1111111111111111,
              "#46039f"
             ],
             [
              0.2222222222222222,
              "#7201a8"
             ],
             [
              0.3333333333333333,
              "#9c179e"
             ],
             [
              0.4444444444444444,
              "#bd3786"
             ],
             [
              0.5555555555555556,
              "#d8576b"
             ],
             [
              0.6666666666666666,
              "#ed7953"
             ],
             [
              0.7777777777777778,
              "#fb9f3a"
             ],
             [
              0.8888888888888888,
              "#fdca26"
             ],
             [
              1,
              "#f0f921"
             ]
            ],
            "type": "heatmapgl"
           }
          ],
          "histogram": [
           {
            "marker": {
             "pattern": {
              "fillmode": "overlay",
              "size": 10,
              "solidity": 0.2
             }
            },
            "type": "histogram"
           }
          ],
          "histogram2d": [
           {
            "colorbar": {
             "outlinewidth": 0,
             "ticks": ""
            },
            "colorscale": [
             [
              0,
              "#0d0887"
             ],
             [
              0.1111111111111111,
              "#46039f"
             ],
             [
              0.2222222222222222,
              "#7201a8"
             ],
             [
              0.3333333333333333,
              "#9c179e"
             ],
             [
              0.4444444444444444,
              "#bd3786"
             ],
             [
              0.5555555555555556,
              "#d8576b"
             ],
             [
              0.6666666666666666,
              "#ed7953"
             ],
             [
              0.7777777777777778,
              "#fb9f3a"
             ],
             [
              0.8888888888888888,
              "#fdca26"
             ],
             [
              1,
              "#f0f921"
             ]
            ],
            "type": "histogram2d"
           }
          ],
          "histogram2dcontour": [
           {
            "colorbar": {
             "outlinewidth": 0,
             "ticks": ""
            },
            "colorscale": [
             [
              0,
              "#0d0887"
             ],
             [
              0.1111111111111111,
              "#46039f"
             ],
             [
              0.2222222222222222,
              "#7201a8"
             ],
             [
              0.3333333333333333,
              "#9c179e"
             ],
             [
              0.4444444444444444,
              "#bd3786"
             ],
             [
              0.5555555555555556,
              "#d8576b"
             ],
             [
              0.6666666666666666,
              "#ed7953"
             ],
             [
              0.7777777777777778,
              "#fb9f3a"
             ],
             [
              0.8888888888888888,
              "#fdca26"
             ],
             [
              1,
              "#f0f921"
             ]
            ],
            "type": "histogram2dcontour"
           }
          ],
          "mesh3d": [
           {
            "colorbar": {
             "outlinewidth": 0,
             "ticks": ""
            },
            "type": "mesh3d"
           }
          ],
          "parcoords": [
           {
            "line": {
             "colorbar": {
              "outlinewidth": 0,
              "ticks": ""
             }
            },
            "type": "parcoords"
           }
          ],
          "pie": [
           {
            "automargin": true,
            "type": "pie"
           }
          ],
          "scatter": [
           {
            "fillpattern": {
             "fillmode": "overlay",
             "size": 10,
             "solidity": 0.2
            },
            "type": "scatter"
           }
          ],
          "scatter3d": [
           {
            "line": {
             "colorbar": {
              "outlinewidth": 0,
              "ticks": ""
             }
            },
            "marker": {
             "colorbar": {
              "outlinewidth": 0,
              "ticks": ""
             }
            },
            "type": "scatter3d"
           }
          ],
          "scattercarpet": [
           {
            "marker": {
             "colorbar": {
              "outlinewidth": 0,
              "ticks": ""
             }
            },
            "type": "scattercarpet"
           }
          ],
          "scattergeo": [
           {
            "marker": {
             "colorbar": {
              "outlinewidth": 0,
              "ticks": ""
             }
            },
            "type": "scattergeo"
           }
          ],
          "scattergl": [
           {
            "marker": {
             "colorbar": {
              "outlinewidth": 0,
              "ticks": ""
             }
            },
            "type": "scattergl"
           }
          ],
          "scattermapbox": [
           {
            "marker": {
             "colorbar": {
              "outlinewidth": 0,
              "ticks": ""
             }
            },
            "type": "scattermapbox"
           }
          ],
          "scatterpolar": [
           {
            "marker": {
             "colorbar": {
              "outlinewidth": 0,
              "ticks": ""
             }
            },
            "type": "scatterpolar"
           }
          ],
          "scatterpolargl": [
           {
            "marker": {
             "colorbar": {
              "outlinewidth": 0,
              "ticks": ""
             }
            },
            "type": "scatterpolargl"
           }
          ],
          "scatterternary": [
           {
            "marker": {
             "colorbar": {
              "outlinewidth": 0,
              "ticks": ""
             }
            },
            "type": "scatterternary"
           }
          ],
          "surface": [
           {
            "colorbar": {
             "outlinewidth": 0,
             "ticks": ""
            },
            "colorscale": [
             [
              0,
              "#0d0887"
             ],
             [
              0.1111111111111111,
              "#46039f"
             ],
             [
              0.2222222222222222,
              "#7201a8"
             ],
             [
              0.3333333333333333,
              "#9c179e"
             ],
             [
              0.4444444444444444,
              "#bd3786"
             ],
             [
              0.5555555555555556,
              "#d8576b"
             ],
             [
              0.6666666666666666,
              "#ed7953"
             ],
             [
              0.7777777777777778,
              "#fb9f3a"
             ],
             [
              0.8888888888888888,
              "#fdca26"
             ],
             [
              1,
              "#f0f921"
             ]
            ],
            "type": "surface"
           }
          ],
          "table": [
           {
            "cells": {
             "fill": {
              "color": "#EBF0F8"
             },
             "line": {
              "color": "white"
             }
            },
            "header": {
             "fill": {
              "color": "#C8D4E3"
             },
             "line": {
              "color": "white"
             }
            },
            "type": "table"
           }
          ]
         },
         "layout": {
          "annotationdefaults": {
           "arrowcolor": "#2a3f5f",
           "arrowhead": 0,
           "arrowwidth": 1
          },
          "autotypenumbers": "strict",
          "coloraxis": {
           "colorbar": {
            "outlinewidth": 0,
            "ticks": ""
           }
          },
          "colorscale": {
           "diverging": [
            [
             0,
             "#8e0152"
            ],
            [
             0.1,
             "#c51b7d"
            ],
            [
             0.2,
             "#de77ae"
            ],
            [
             0.3,
             "#f1b6da"
            ],
            [
             0.4,
             "#fde0ef"
            ],
            [
             0.5,
             "#f7f7f7"
            ],
            [
             0.6,
             "#e6f5d0"
            ],
            [
             0.7,
             "#b8e186"
            ],
            [
             0.8,
             "#7fbc41"
            ],
            [
             0.9,
             "#4d9221"
            ],
            [
             1,
             "#276419"
            ]
           ],
           "sequential": [
            [
             0,
             "#0d0887"
            ],
            [
             0.1111111111111111,
             "#46039f"
            ],
            [
             0.2222222222222222,
             "#7201a8"
            ],
            [
             0.3333333333333333,
             "#9c179e"
            ],
            [
             0.4444444444444444,
             "#bd3786"
            ],
            [
             0.5555555555555556,
             "#d8576b"
            ],
            [
             0.6666666666666666,
             "#ed7953"
            ],
            [
             0.7777777777777778,
             "#fb9f3a"
            ],
            [
             0.8888888888888888,
             "#fdca26"
            ],
            [
             1,
             "#f0f921"
            ]
           ],
           "sequentialminus": [
            [
             0,
             "#0d0887"
            ],
            [
             0.1111111111111111,
             "#46039f"
            ],
            [
             0.2222222222222222,
             "#7201a8"
            ],
            [
             0.3333333333333333,
             "#9c179e"
            ],
            [
             0.4444444444444444,
             "#bd3786"
            ],
            [
             0.5555555555555556,
             "#d8576b"
            ],
            [
             0.6666666666666666,
             "#ed7953"
            ],
            [
             0.7777777777777778,
             "#fb9f3a"
            ],
            [
             0.8888888888888888,
             "#fdca26"
            ],
            [
             1,
             "#f0f921"
            ]
           ]
          },
          "colorway": [
           "#636efa",
           "#EF553B",
           "#00cc96",
           "#ab63fa",
           "#FFA15A",
           "#19d3f3",
           "#FF6692",
           "#B6E880",
           "#FF97FF",
           "#FECB52"
          ],
          "font": {
           "color": "#2a3f5f"
          },
          "geo": {
           "bgcolor": "white",
           "lakecolor": "white",
           "landcolor": "#E5ECF6",
           "showlakes": true,
           "showland": true,
           "subunitcolor": "white"
          },
          "hoverlabel": {
           "align": "left"
          },
          "hovermode": "closest",
          "mapbox": {
           "style": "light"
          },
          "paper_bgcolor": "white",
          "plot_bgcolor": "#E5ECF6",
          "polar": {
           "angularaxis": {
            "gridcolor": "white",
            "linecolor": "white",
            "ticks": ""
           },
           "bgcolor": "#E5ECF6",
           "radialaxis": {
            "gridcolor": "white",
            "linecolor": "white",
            "ticks": ""
           }
          },
          "scene": {
           "xaxis": {
            "backgroundcolor": "#E5ECF6",
            "gridcolor": "white",
            "gridwidth": 2,
            "linecolor": "white",
            "showbackground": true,
            "ticks": "",
            "zerolinecolor": "white"
           },
           "yaxis": {
            "backgroundcolor": "#E5ECF6",
            "gridcolor": "white",
            "gridwidth": 2,
            "linecolor": "white",
            "showbackground": true,
            "ticks": "",
            "zerolinecolor": "white"
           },
           "zaxis": {
            "backgroundcolor": "#E5ECF6",
            "gridcolor": "white",
            "gridwidth": 2,
            "linecolor": "white",
            "showbackground": true,
            "ticks": "",
            "zerolinecolor": "white"
           }
          },
          "shapedefaults": {
           "line": {
            "color": "#2a3f5f"
           }
          },
          "ternary": {
           "aaxis": {
            "gridcolor": "white",
            "linecolor": "white",
            "ticks": ""
           },
           "baxis": {
            "gridcolor": "white",
            "linecolor": "white",
            "ticks": ""
           },
           "bgcolor": "#E5ECF6",
           "caxis": {
            "gridcolor": "white",
            "linecolor": "white",
            "ticks": ""
           }
          },
          "title": {
           "x": 0.05
          },
          "xaxis": {
           "automargin": true,
           "gridcolor": "white",
           "linecolor": "white",
           "ticks": "",
           "title": {
            "standoff": 15
           },
           "zerolinecolor": "white",
           "zerolinewidth": 2
          },
          "yaxis": {
           "automargin": true,
           "gridcolor": "white",
           "linecolor": "white",
           "ticks": "",
           "title": {
            "standoff": 15
           },
           "zerolinecolor": "white",
           "zerolinewidth": 2
          }
         }
        },
        "title": {
         "text": "Brazil: Urban Population vs Water Stress (Scaled)"
        },
        "updatemenus": [
         {
          "active": 0,
          "buttons": [
           {
            "args": [
             {
              "visible": [
               true,
               true,
               false,
               false,
               false,
               false,
               false,
               false,
               false,
               false
              ]
             },
             {
              "title": "Brazil: Urban Population vs Water Stress (Scaled)"
             }
            ],
            "label": "Brazil",
            "method": "update"
           },
           {
            "args": [
             {
              "visible": [
               false,
               false,
               true,
               true,
               false,
               false,
               false,
               false,
               false,
               false
              ]
             },
             {
              "title": "China: Urban Population vs Water Stress (Scaled)"
             }
            ],
            "label": "China",
            "method": "update"
           },
           {
            "args": [
             {
              "visible": [
               false,
               false,
               false,
               false,
               true,
               true,
               false,
               false,
               false,
               false
              ]
             },
             {
              "title": "India: Urban Population vs Water Stress (Scaled)"
             }
            ],
            "label": "India",
            "method": "update"
           },
           {
            "args": [
             {
              "visible": [
               false,
               false,
               false,
               false,
               false,
               false,
               true,
               true,
               false,
               false
              ]
             },
             {
              "title": "Nigeria: Urban Population vs Water Stress (Scaled)"
             }
            ],
            "label": "Nigeria",
            "method": "update"
           },
           {
            "args": [
             {
              "visible": [
               false,
               false,
               false,
               false,
               false,
               false,
               false,
               false,
               true,
               true
              ]
             },
             {
              "title": "Pakistan: Urban Population vs Water Stress (Scaled)"
             }
            ],
            "label": "Pakistan",
            "method": "update"
           }
          ],
          "x": 0.5,
          "xanchor": "center",
          "y": 1.15,
          "yanchor": "top"
         }
        ],
        "xaxis": {
         "autorange": true,
         "range": [
          1987,
          2021
         ],
         "title": {
          "text": "Year"
         },
         "type": "linear"
        },
        "yaxis": {
         "autorange": true,
         "range": [
          -0.05555555555555555,
          1.0555555555555556
         ],
         "title": {
          "text": "Scaled Values (0–1)"
         },
         "type": "linear"
        }
       }
      },
      "image/png": "[encoded data removed]",
      "text/html": [
       "<div>                            <div id=\"717cfb36-e2d6-42a6-becf-e5cf66f436db\" class=\"plotly-graph-div\" style=\"height:500px; width:100%;\"></div>            <script type=\"text/javascript\">                require([\"plotly\"], function(Plotly) {                    window.PLOTLYENV=window.PLOTLYENV || {};                                    if (document.getElementById(\"717cfb36-e2d6-42a6-becf-e5cf66f436db\")) {                    Plotly.newPlot(                        \"717cfb36-e2d6-42a6-becf-e5cf66f436db\",                        [{\"mode\":\"lines\",\"name\":\"Brazil - Urban\",\"visible\":true,\"x\":[1987,1988,1989,1990,1991,1992,1993,1994,1995,1996,1997,1998,1999,2000,2001,2002,2003,2004,2005,2006,2007,2008,2009,2010,2011,2012,2013,2014,2015,2016,2017,2018,2019,2020,2021],\"y\":[0.0,0.03797939045300841,0.07581297767029906,0.11358437728446044,0.1510431324414942,0.18844399047683766,0.2256978751451618,0.26265319349857985,0.2997441861386368,0.33693595633703805,0.37556038167001504,0.41474217954628767,0.45383568126476564,0.49191794576136694,0.5222681776393393,0.5512744283954301,0.5795357199339485,0.6071811323640949,0.6344742865170098,0.6613440359717865,0.6876006610022967,0.7130457999751957,0.7374352611144952,0.7609213565112779,0.7842374537699102,0.8076605205316906,0.8311639972538482,0.854754368414012,0.8781609802043646,0.9010251751921194,0.9232645688203278,0.9445646029796296,0.9652385437594064,0.984327858601821,1.0],\"type\":\"scatter\"},{\"mode\":\"lines\",\"name\":\"Brazil - Water\",\"visible\":true,\"x\":[1987,1988,1989,1990,1991,1992,1993,1994,1995,1996,1997,1998,1999,2000,2001,2002,2003,2004,2005,2006,2007,2008,2009,2010,2011,2012,2013,2014,2015,2016,2017,2018,2019,2020,2021],\"y\":[0.09300394085496233,0.14320142155357532,0.1933989022521884,0.24359638295080135,0.29379386369769683,0.34449864587556334,0.3947975868603708,0.44509652784517806,0.4953954688782677,0.5447812672390442,0.5521777226916509,0.5595741781925399,0.5669706336451467,0.574001832028828,0.5813069732624857,0.588612114447861,0.5959172556815189,0.6032223968668942,0.6105275380522697,0.6178326792859273,0.7134843719173126,0.8089306075077805,0.9044653037297491,1.0,0.9439530162391709,0.8879060324783418,0.8318590487175126,0.7774500145919511,0.7509232206130674,0.8068532079644799,0.7924712111893838,0.0,0.009992398167027631,0.007334845446080708,0.00861047078303599],\"type\":\"scatter\"},{\"mode\":\"lines\",\"name\":\"China - Urban\",\"visible\":false,\"x\":[1980,1981,1982,1983,1984,1985,1986,1987,1988,1989,1990,1991,1992,1993,1994,1995,1996,1997,1998,1999,2000,2001,2002,2003,2004,2005,2006,2007,2008,2009,2010,2011,2012,2013,2014,2015,2016,2017,2018,2019,2020,2021],\"y\":[0.0,0.014434455776252053,0.03012693847938838,0.04405050959365418,0.05809792567515971,0.07283012716129585,0.08857471630168455,0.1053884045032869,0.12291503322046217,0.1407853188058772,0.1590571069523567,0.17945609238011984,0.19997787218974256,0.22081619424026033,0.2422826941924962,0.2642159975141072,0.28666807643294956,0.3096024476399647,0.3328662235432224,0.35618681187126616,0.37961297392822874,0.4066975470268714,0.4358864729472273,0.46544181216557434,0.49543416892603614,0.5258992977662194,0.5558444965197425,0.5855041770495433,0.6155358369594932,0.6457345356155457,0.6761717474582314,0.7063211898228086,0.7375008105237345,0.7688134024308341,0.8000756715868486,0.831051752915272,0.8621569220360532,0.8937173149972396,0.9233218599981494,0.9510617299551902,0.9767890261138755,1.0],\"type\":\"scatter\"},{\"mode\":\"lines\",\"name\":\"China - Water\",\"visible\":false,\"x\":[1980,1981,1982,1983,1984,1985,1986,1987,1988,1989,1990,1991,1992,1993,1994,1995,1996,1997,1998,1999,2000,2001,2002,2003,2004,2005,2006,2007,2008,2009,2010,2011,2012,2013,2014,2015,2016,2017,2018,2019,2020,2021],\"y\":[0.0,0.05228605289292011,0.10457210578583961,0.1568581586787597,0.20914421158021992,0.23303393213231513,0.2566616766498526,0.2802894211588494,0.3039171656678462,0.3275449101768436,0.35117265469438114,0.40398369927120453,0.45679474384802793,0.5096057884248514,0.5323282007412,0.5550506130575494,0.5777730253738981,0.6004954376987875,0.6232178500151369,0.6459402623314856,0.6686626746478349,0.6726546906187117,0.6766467065895879,0.680638722551924,0.6846307385228009,0.6886227544936777,0.7753243512946978,0.7796906187593746,0.8258483033932777,0.8701347305410989,0.8927769461081667,0.9437375249480897,0.9674401197575547,0.9923902195605877,0.9337574850251681,0.9237774451107876,1.0,0.9513473053875021,0.9307010978016029,0.9881487025909975,0.7783183632707206,0.7783183632707206],\"type\":\"scatter\"},{\"mode\":\"lines\",\"name\":\"India - Urban\",\"visible\":false,\"x\":[1975,1976,1977,1978,1979,1980,1981,1982,1983,1984,1985,1986,1987,1988,1989,1990,1991,1992,1993,1994,1995,1996,1997,1998,1999,2000,2001,2002,2003,2004,2005,2006,2007,2008,2009,2010,2011,2012,2013,2014,2015,2016,2017,2018,2019,2020,2021],\"y\":[0.0,0.014220966405005708,0.029012662180673277,0.044149641647063025,0.05995121346083867,0.07662414310790201,0.09288763229715849,0.10787711280012474,0.12339808724161254,0.13946266235426344,0.1559467529093274,0.17287847105880969,0.1901966320074858,0.20790948973174941,0.22610154819875744,0.24470109372752236,0.26330132551160773,0.281580324962698,0.3001893591870749,0.31895545942247266,0.3380016815146606,0.3574899087708658,0.3772818931655279,0.39737916391325856,0.4177500506011982,0.43847644186126655,0.46071824967824687,0.4852465467476922,0.5097969363752294,0.5347687191910369,0.5597170612542448,0.5846787501728978,0.6097379089613962,0.6347760369962945,0.6604443014175482,0.6868072912790579,0.7134249980415381,0.7405379595983931,0.7681190094250279,0.7958489334275196,0.8237280396102248,0.8525318667318645,0.8819740842162532,0.9115630171442114,0.9413639246142046,0.9712233988423926,1.0],\"type\":\"scatter\"},{\"mode\":\"lines\",\"name\":\"India - Water\",\"visible\":false,\"x\":[1975,1976,1977,1978,1979,1980,1981,1982,1983,1984,1985,1986,1987,1988,1989,1990,1991,1992,1993,1994,1995,1996,1997,1998,1999,2000,2001,2002,2003,2004,2005,2006,2007,2008,2009,2010,2011,2012,2013,2014,2015,2016,2017,2018,2019,2020,2021],\"y\":[0.0,0.04234713130319449,0.08469426260285526,0.12704139390251604,0.16938852520571052,0.21173565650537154,0.254082787808566,0.2964299191082268,0.3387770504078876,0.3811241817110821,0.4234713130107431,0.4258662664530723,0.4282612198954012,0.430656173334197,0.43305112677652613,0.4354460802188551,0.4755069381603295,0.5155677961053377,0.5556286540503454,0.5956895119953536,0.6357503699403614,0.6758112278818358,0.7158720858268437,0.7559329437718518,0.7959938017168596,0.836054659658334,0.8907031064400672,0.9453515532182668,1.0,0.8899055506564891,0.9033682734051445,0.9168309961537998,0.9302937189059889,0.9437564416546442,0.9572191644032996,0.9706818871519549,0.9706818871519549,0.9706818871519549,0.9706818871519549,0.9706818871519549,0.9706818871519549,0.9706818871519549,0.9706818871519549,0.9706818871519549,0.9706818871519549,0.9706818871519549,0.9706818871519549],\"type\":\"scatter\"},{\"mode\":\"lines\",\"name\":\"Nigeria - Urban\",\"visible\":false,\"x\":[1987,1988,1989,1990,1991,1992,1993,1994,1995,1996,1997,1998,1999,2000,2001,2002,2003,2004,2005,2006,2007,2008,2009,2010,2011,2012,2013,2014,2015,2016,2017,2018,2019,2020,2021],\"y\":[0.0,0.015470602110739112,0.031771089674356524,0.04894440544242108,0.06287428368096112,0.07732429403266182,0.092444686616771,0.10814242430613871,0.12446452077677155,0.14137375457631046,0.15888109519574034,0.1771255371983636,0.19620912875758567,0.21625026775955364,0.24143529485106066,0.2679212243553903,0.29570766018259725,0.3248345524046637,0.35523800951291423,0.3869463189309418,0.42013208785490636,0.4548791883307237,0.4911142997085207,0.5289926122293629,0.5683589466546832,0.6089522577055365,0.6504608005899803,0.692729176019478,0.7353696229400861,0.7786561255689626,0.8228444589882804,0.8669678006490747,0.9108919970873746,0.9551392818935502,1.0],\"type\":\"scatter\"},{\"mode\":\"lines\",\"name\":\"Nigeria - Water\",\"visible\":false,\"x\":[1987,1988,1989,1990,1991,1992,1993,1994,1995,1996,1997,1998,1999,2000,2001,2002,2003,2004,2005,2006,2007,2008,2009,2010,2011,2012,2013,2014,2015,2016,2017,2018,2019,2020,2021],\"y\":[0.0,0.05267923010088045,0.1054255247937391,0.15770236738023927,0.21041512977710883,0.2631278921552338,0.31584065455210336,0.36855341694897276,0.42126617932709776,0.4739789417239673,0.5267923009900595,0.5794044664989617,0.6321507611730758,0.684829991273956,0.7216797442547296,0.7585294972355033,0.7953792502162768,0.8322290031970502,0.8690787561778238,0.8952630049272636,0.9214472536954476,0.9476315024636318,0.9738157512318161,1.0,1.0,1.0,1.0,1.0,1.0,1.0,1.0,1.0,1.0,1.0,1.0],\"type\":\"scatter\"},{\"mode\":\"lines\",\"name\":\"Pakistan - Urban\",\"visible\":false,\"x\":[1975,1976,1977,1978,1979,1980,1981,1982,1983,1984,1985,1986,1987,1988,1989,1990,1991,1992,1993,1994,1995,1996,1997,1998,1999,2000,2001,2002,2003,2004,2005,2006,2007,2008,2009,2010,2011,2012,2013,2014,2015,2016,2017,2018,2019,2020,2021],\"y\":[0.0,0.011381581406048039,0.0234534154966499,0.036251402866170616,0.050407419198334684,0.06724743234731272,0.0848309745507805,0.1008871580561221,0.11657501715752742,0.13168007312847377,0.1475207970167363,0.16488267196717504,0.1831025459000379,0.20189015928695758,0.2210025034989417,0.2412845176612918,0.2622208138502195,0.2816260940205178,0.3012365905079417,0.32223784967714897,0.3439960480760245,0.3666985638262893,0.38968567796513864,0.41264022653751475,0.4352783117909449,0.4594136283896968,0.4841300105413506,0.5070772444727203,0.5299450823199088,0.5544183437407924,0.579086157797181,0.6043121406183403,0.6326032102502054,0.6621147879887037,0.6912848476609004,0.7206872102423022,0.7486426051130377,0.7739788120072943,0.7969456637497924,0.8190532273394209,0.8405453801939504,0.861338914768752,0.8837646091912724,0.9095515072707602,0.9372398056429821,0.9674611978262737,1.0],\"type\":\"scatter\"},{\"mode\":\"lines\",\"name\":\"Pakistan - Water\",\"visible\":false,\"x\":[1975,1976,1977,1978,1979,1980,1981,1982,1983,1984,1985,1986,1987,1988,1989,1990,1991,1992,1993,1994,1995,1996,1997,1998,1999,2000,2001,2002,2003,2004,2005,2006,2007,2008,2009,2010,2011,2012,2013,2014,2015,2016,2017,2018,2019,2020,2021],\"y\":[0.0,0.001258775333004888,0.002517550666009567,0.0037763259990144546,0.005035101333490286,0.006293876666495174,0.007552651999499852,0.008811427333975684,0.010070202666980572,0.011328977999985251,0.012587753332990139,0.01384652866746597,0.015105304000470858,0.016364079333475536,0.017622854667951368,0.018881630000956256,0.020140405333960935,0.037144650379893875,0.054148895425826814,0.07115314047028902,0.08815738551622196,0.1051616305621549,0.12216587560808784,0.1391701206540208,0.15617436569848278,0.17317861074441573,0.18469031419655926,0.19620201765017395,0.20771372110231767,0.2192254245544612,0.23073712800660495,0.24430618469170848,0.2578752413782832,0.2718954720172994,0.26819584559021475,0.2879572648018888,0.23562108606565216,0.3114183104435896,0.2718954720172994,0.37449242930000953,0.392810091858575,0.4187074768540516,0.420512172672644,0.3552724188336191,0.21423544061665648,0.32684845969152476,1.0],\"type\":\"scatter\"}],                        {\"template\":{\"data\":{\"histogram2dcontour\":[{\"type\":\"histogram2dcontour\",\"colorbar\":{\"outlinewidth\":0,\"ticks\":\"\"},\"colorscale\":[[0.0,\"#0d0887\"],[0.1111111111111111,\"#46039f\"],[0.2222222222222222,\"#7201a8\"],[0.3333333333333333,\"#9c179e\"],[0.4444444444444444,\"#bd3786\"],[0.5555555555555556,\"#d8576b\"],[0.6666666666666666,\"#ed7953\"],[0.7777777777777778,\"#fb9f3a\"],[0.8888888888888888,\"#fdca26\"],[1.0,\"#f0f921\"]]}],\"choropleth\":[{\"type\":\"choropleth\",\"colorbar\":{\"outlinewidth\":0,\"ticks\":\"\"}}],\"histogram2d\":[{\"type\":\"histogram2d\",\"colorbar\":{\"outlinewidth\":0,\"ticks\":\"\"},\"colorscale\":[[0.0,\"#0d0887\"],[0.1111111111111111,\"#46039f\"],[0.2222222222222222,\"#7201a8\"],[0.3333333333333333,\"#9c179e\"],[0.4444444444444444,\"#bd3786\"],[0.5555555555555556,\"#d8576b\"],[0.6666666666666666,\"#ed7953\"],[0.7777777777777778,\"#fb9f3a\"],[0.8888888888888888,\"#fdca26\"],[1.0,\"#f0f921\"]]}],\"heatmap\":[{\"type\":\"heatmap\",\"colorbar\":{\"outlinewidth\":0,\"ticks\":\"\"},\"colorscale\":[[0.0,\"#0d0887\"],[0.1111111111111111,\"#46039f\"],[0.2222222222222222,\"#7201a8\"],[0.3333333333333333,\"#9c179e\"],[0.4444444444444444,\"#bd3786\"],[0.5555555555555556,\"#d8576b\"],[0.6666666666666666,\"#ed7953\"],[0.7777777777777778,\"#fb9f3a\"],[0.8888888888888888,\"#fdca26\"],[1.0,\"#f0f921\"]]}],\"heatmapgl\":[{\"type\":\"heatmapgl\",\"colorbar\":{\"outlinewidth\":0,\"ticks\":\"\"},\"colorscale\":[[0.0,\"#0d0887\"],[0.1111111111111111,\"#46039f\"],[0.2222222222222222,\"#7201a8\"],[0.3333333333333333,\"#9c179e\"],[0.4444444444444444,\"#bd3786\"],[0.5555555555555556,\"#d8576b\"],[0.6666666666666666,\"#ed7953\"],[0.7777777777777778,\"#fb9f3a\"],[0.8888888888888888,\"#fdca26\"],[1.0,\"#f0f921\"]]}],\"contourcarpet\":[{\"type\":\"contourcarpet\",\"colorbar\":{\"outlinewidth\":0,\"ticks\":\"\"}}],\"contour\":[{\"type\":\"contour\",\"colorbar\":{\"outlinewidth\":0,\"ticks\":\"\"},\"colorscale\":[[0.0,\"#0d0887\"],[0.1111111111111111,\"#46039f\"],[0.2222222222222222,\"#7201a8\"],[0.3333333333333333,\"#9c179e\"],[0.4444444444444444,\"#bd3786\"],[0.5555555555555556,\"#d8576b\"],[0.6666666666666666,\"#ed7953\"],[0.7777777777777778,\"#fb9f3a\"],[0.8888888888888888,\"#fdca26\"],[1.0,\"#f0f921\"]]}],\"surface\":[{\"type\":\"surface\",\"colorbar\":{\"outlinewidth\":0,\"ticks\":\"\"},\"colorscale\":[[0.0,\"#0d0887\"],[0.1111111111111111,\"#46039f\"],[0.2222222222222222,\"#7201a8\"],[0.3333333333333333,\"#9c179e\"],[0.4444444444444444,\"#bd3786\"],[0.5555555555555556,\"#d8576b\"],[0.6666666666666666,\"#ed7953\"],[0.7777777777777778,\"#fb9f3a\"],[0.8888888888888888,\"#fdca26\"],[1.0,\"#f0f921\"]]}],\"mesh3d\":[{\"type\":\"mesh3d\",\"colorbar\":{\"outlinewidth\":0,\"ticks\":\"\"}}],\"scatter\":[{\"fillpattern\":{\"fillmode\":\"overlay\",\"size\":10,\"solidity\":0.2},\"type\":\"scatter\"}],\"parcoords\":[{\"type\":\"parcoords\",\"line\":{\"colorbar\":{\"outlinewidth\":0,\"ticks\":\"\"}}}],\"scatterpolargl\":[{\"type\":\"scatterpolargl\",\"marker\":{\"colorbar\":{\"outlinewidth\":0,\"ticks\":\"\"}}}],\"bar\":[{\"error_x\":{\"color\":\"#2a3f5f\"},\"error_y\":{\"color\":\"#2a3f5f\"},\"marker\":{\"line\":{\"color\":\"#E5ECF6\",\"width\":0.5},\"pattern\":{\"fillmode\":\"overlay\",\"size\":10,\"solidity\":0.2}},\"type\":\"bar\"}],\"scattergeo\":[{\"type\":\"scattergeo\",\"marker\":{\"colorbar\":{\"outlinewidth\":0,\"ticks\":\"\"}}}],\"scatterpolar\":[{\"type\":\"scatterpolar\",\"marker\":{\"colorbar\":{\"outlinewidth\":0,\"ticks\":\"\"}}}],\"histogram\":[{\"marker\":{\"pattern\":{\"fillmode\":\"overlay\",\"size\":10,\"solidity\":0.2}},\"type\":\"histogram\"}],\"scattergl\":[{\"type\":\"scattergl\",\"marker\":{\"colorbar\":{\"outlinewidth\":0,\"ticks\":\"\"}}}],\"scatter3d\":[{\"type\":\"scatter3d\",\"line\":{\"colorbar\":{\"outlinewidth\":0,\"ticks\":\"\"}},\"marker\":{\"colorbar\":{\"outlinewidth\":0,\"ticks\":\"\"}}}],\"scattermapbox\":[{\"type\":\"scattermapbox\",\"marker\":{\"colorbar\":{\"outlinewidth\":0,\"ticks\":\"\"}}}],\"scatterternary\":[{\"type\":\"scatterternary\",\"marker\":{\"colorbar\":{\"outlinewidth\":0,\"ticks\":\"\"}}}],\"scattercarpet\":[{\"type\":\"scattercarpet\",\"marker\":{\"colorbar\":{\"outlinewidth\":0,\"ticks\":\"\"}}}],\"carpet\":[{\"aaxis\":{\"endlinecolor\":\"#2a3f5f\",\"gridcolor\":\"white\",\"linecolor\":\"white\",\"minorgridcolor\":\"white\",\"startlinecolor\":\"#2a3f5f\"},\"baxis\":{\"endlinecolor\":\"#2a3f5f\",\"gridcolor\":\"white\",\"linecolor\":\"white\",\"minorgridcolor\":\"white\",\"startlinecolor\":\"#2a3f5f\"},\"type\":\"carpet\"}],\"table\":[{\"cells\":{\"fill\":{\"color\":\"#EBF0F8\"},\"line\":{\"color\":\"white\"}},\"header\":{\"fill\":{\"color\":\"#C8D4E3\"},\"line\":{\"color\":\"white\"}},\"type\":\"table\"}],\"barpolar\":[{\"marker\":{\"line\":{\"color\":\"#E5ECF6\",\"width\":0.5},\"pattern\":{\"fillmode\":\"overlay\",\"size\":10,\"solidity\":0.2}},\"type\":\"barpolar\"}],\"pie\":[{\"automargin\":true,\"type\":\"pie\"}]},\"layout\":{\"autotypenumbers\":\"strict\",\"colorway\":[\"#636efa\",\"#EF553B\",\"#00cc96\",\"#ab63fa\",\"#FFA15A\",\"#19d3f3\",\"#FF6692\",\"#B6E880\",\"#FF97FF\",\"#FECB52\"],\"font\":{\"color\":\"#2a3f5f\"},\"hovermode\":\"closest\",\"hoverlabel\":{\"align\":\"left\"},\"paper_bgcolor\":\"white\",\"plot_bgcolor\":\"#E5ECF6\",\"polar\":{\"bgcolor\":\"#E5ECF6\",\"angularaxis\":{\"gridcolor\":\"white\",\"linecolor\":\"white\",\"ticks\":\"\"},\"radialaxis\":{\"gridcolor\":\"white\",\"linecolor\":\"white\",\"ticks\":\"\"}},\"ternary\":{\"bgcolor\":\"#E5ECF6\",\"aaxis\":{\"gridcolor\":\"white\",\"linecolor\":\"white\",\"ticks\":\"\"},\"baxis\":{\"gridcolor\":\"white\",\"linecolor\":\"white\",\"ticks\":\"\"},\"caxis\":{\"gridcolor\":\"white\",\"linecolor\":\"white\",\"ticks\":\"\"}},\"coloraxis\":{\"colorbar\":{\"outlinewidth\":0,\"ticks\":\"\"}},\"colorscale\":{\"sequential\":[[0.0,\"#0d0887\"],[0.1111111111111111,\"#46039f\"],[0.2222222222222222,\"#7201a8\"],[0.3333333333333333,\"#9c179e\"],[0.4444444444444444,\"#bd3786\"],[0.5555555555555556,\"#d8576b\"],[0.6666666666666666,\"#ed7953\"],[0.7777777777777778,\"#fb9f3a\"],[0.8888888888888888,\"#fdca26\"],[1.0,\"#f0f921\"]],\"sequentialminus\":[[0.0,\"#0d0887\"],[0.1111111111111111,\"#46039f\"],[0.2222222222222222,\"#7201a8\"],[0.3333333333333333,\"#9c179e\"],[0.4444444444444444,\"#bd3786\"],[0.5555555555555556,\"#d8576b\"],[0.6666666666666666,\"#ed7953\"],[0.7777777777777778,\"#fb9f3a\"],[0.8888888888888888,\"#fdca26\"],[1.0,\"#f0f921\"]],\"diverging\":[[0,\"#8e0152\"],[0.1,\"#c51b7d\"],[0.2,\"#de77ae\"],[0.3,\"#f1b6da\"],[0.4,\"#fde0ef\"],[0.5,\"#f7f7f7\"],[0.6,\"#e6f5d0\"],[0.7,\"#b8e186\"],[0.8,\"#7fbc41\"],[0.9,\"#4d9221\"],[1,\"#276419\"]]},\"xaxis\":{\"gridcolor\":\"white\",\"linecolor\":\"white\",\"ticks\":\"\",\"title\":{\"standoff\":15},\"zerolinecolor\":\"white\",\"automargin\":true,\"zerolinewidth\":2},\"yaxis\":{\"gridcolor\":\"white\",\"linecolor\":\"white\",\"ticks\":\"\",\"title\":{\"standoff\":15},\"zerolinecolor\":\"white\",\"automargin\":true,\"zerolinewidth\":2},\"scene\":{\"xaxis\":{\"backgroundcolor\":\"#E5ECF6\",\"gridcolor\":\"white\",\"linecolor\":\"white\",\"showbackground\":true,\"ticks\":\"\",\"zerolinecolor\":\"white\",\"gridwidth\":2},\"yaxis\":{\"backgroundcolor\":\"#E5ECF6\",\"gridcolor\":\"white\",\"linecolor\":\"white\",\"showbackground\":true,\"ticks\":\"\",\"zerolinecolor\":\"white\",\"gridwidth\":2},\"zaxis\":{\"backgroundcolor\":\"#E5ECF6\",\"gridcolor\":\"white\",\"linecolor\":\"white\",\"showbackground\":true,\"ticks\":\"\",\"zerolinecolor\":\"white\",\"gridwidth\":2}},\"shapedefaults\":{\"line\":{\"color\":\"#2a3f5f\"}},\"annotationdefaults\":{\"arrowcolor\":\"#2a3f5f\",\"arrowhead\":0,\"arrowwidth\":1},\"geo\":{\"bgcolor\":\"white\",\"landcolor\":\"#E5ECF6\",\"subunitcolor\":\"white\",\"showland\":true,\"showlakes\":true,\"lakecolor\":\"white\"},\"title\":{\"x\":0.05},\"mapbox\":{\"style\":\"light\"}}},\"updatemenus\":[{\"active\":0,\"buttons\":[{\"args\":[{\"visible\":[true,true,false,false,false,false,false,false,false,false]},{\"title\":\"Brazil: Urban Population vs Water Stress (Scaled)\"}],\"label\":\"Brazil\",\"method\":\"update\"},{\"args\":[{\"visible\":[false,false,true,true,false,false,false,false,false,false]},{\"title\":\"China: Urban Population vs Water Stress (Scaled)\"}],\"label\":\"China\",\"method\":\"update\"},{\"args\":[{\"visible\":[false,false,false,false,true,true,false,false,false,false]},{\"title\":\"India: Urban Population vs Water Stress (Scaled)\"}],\"label\":\"India\",\"method\":\"update\"},{\"args\":[{\"visible\":[false,false,false,false,false,false,true,true,false,false]},{\"title\":\"Nigeria: Urban Population vs Water Stress (Scaled)\"}],\"label\":\"Nigeria\",\"method\":\"update\"},{\"args\":[{\"visible\":[false,false,false,false,false,false,false,false,true,true]},{\"title\":\"Pakistan: Urban Population vs Water Stress (Scaled)\"}],\"label\":\"Pakistan\",\"method\":\"update\"}],\"x\":0.5,\"xanchor\":\"center\",\"y\":1.15,\"yanchor\":\"top\"}],\"title\":{\"text\":\"Brazil: Urban Population vs Water Stress (Scaled)\"},\"xaxis\":{\"title\":{\"text\":\"Year\"}},\"yaxis\":{\"title\":{\"text\":\"Scaled Values (0\\u20131)\"}},\"legend\":{\"title\":{\"text\":\"Variable\"}},\"height\":500},                        {\"responsive\": true}                    ).then(function(){\n",
       "                            \n",
       "var gd = document.getElementById('717cfb36-e2d6-42a6-becf-e5cf66f436db');\n",
       "var x = new MutationObserver(function (mutations, observer) {{\n",
       "        var display = window.getComputedStyle(gd).display;\n",
       "        if (!display || display === 'none') {{\n",
       "            console.log([gd, 'removed!']);\n",
       "            Plotly.purge(gd);\n",
       "            observer.disconnect();\n",
       "        }}\n",
       "}});\n",
       "\n",
       "// Listen for the removal of the full notebook cells\n",
       "var notebookContainer = gd.closest('#notebook-container');\n",
       "if (notebookContainer) {{\n",
       "    x.observe(notebookContainer, {childList: true});\n",
       "}}\n",
       "\n",
       "// Listen for the clearing of the current output cell\n",
       "var outputEl = gd.closest('.output');\n",
       "if (outputEl) {{\n",
       "    x.observe(outputEl, {childList: true});\n",
       "}}\n",
       "\n",
       "                        })                };                });            </script>        </div>"
      ]
     },
     "metadata": {},
     "output_type": "display_data"
    }
   ],
   "source": [
    "# Start with the developing dataset\n",
    "data = deving_df\n",
    "\n",
    "# Get the list of unique countries in the dataset\n",
    "countries = data['Country Name'].unique()\n",
    "\n",
    "# Create an empty figure\n",
    "fig = go.Figure()\n",
    "\n",
    "# Step 1: Add one trace per country for both variables (urban + water)\n",
    "for country in countries:\n",
    "    country_data = data[data['Country Name'] == country]\n",
    "\n",
    "    # Urban Population Line (normalized)\n",
    "    fig.add_trace(go.Scatter(\n",
    "        x=country_data['Year'],\n",
    "        y=country_data['Urban_Scaled'],\n",
    "        mode='lines',\n",
    "        name=f\"{country} - Urban\",\n",
    "        visible=(country == countries[0])  # only first country visible by default\n",
    "    ))\n",
    "\n",
    "    # Water Stress Line (normalized)\n",
    "    fig.add_trace(go.Scatter(\n",
    "        x=country_data['Year'],\n",
    "        y=country_data['Water_Scaled'],\n",
    "        mode='lines',\n",
    "        name=f\"{country} - Water\",\n",
    "        visible=(country == countries[0])  # only first country visible by default\n",
    "    ))\n",
    "\n",
    "# Step 2: Create dropdown buttons\n",
    "dropdown_buttons = []\n",
    "\n",
    "for i, country in enumerate(countries):\n",
    "    # Each country has two traces: Urban + Water\n",
    "    visibility = [False] * len(countries) * 2\n",
    "    visibility[i * 2] = True     # Urban line for this country\n",
    "    visibility[i * 2 + 1] = True # Water line for this country\n",
    "\n",
    "    dropdown_buttons.append(\n",
    "        dict(\n",
    "            label=country,\n",
    "            method='update',\n",
    "            args=[{'visible': visibility},\n",
    "                  {'title': f\"{country}: Urban Population vs Water Stress (Scaled)\"}]\n",
    "        )\n",
    "    )\n",
    "\n",
    "# Step 3: Add the dropdown menu to the figure\n",
    "fig.update_layout(\n",
    "    updatemenus=[dict(\n",
    "        active=0,\n",
    "        buttons=dropdown_buttons,\n",
    "        x=0.5,\n",
    "        xanchor='center',\n",
    "        y=1.15,\n",
    "        yanchor='top'\n",
    "    )],\n",
    " \n",
    "    \n",
    "    title=f\"{countries[0]}: Urban Population vs Water Stress (Scaled)\",\n",
    "    xaxis_title=\"Year\",\n",
    "    yaxis_title=\"Scaled Values (0–1)\",\n",
    "    legend_title=\"Variable\",\n",
    "    height=500\n",
    ")\n",
    "\n",
    "legend=dict(\n",
    "    title=\"\",\n",
    "    orientation=\"h\",\n",
    "    yanchor=\"bottom\",\n",
    "    y=1.02,\n",
    "    xanchor=\"center\",\n",
    "    x=0.5\n",
    "),\n",
    "\n",
    "\n",
    "# Show the figure\n",
    "fig.show()\n"
   ]
  },
  {
   "cell_type": "markdown",
   "id": "c156e01d-0c64-4618-95bb-fbe42ab6aa67",
   "metadata": {},
   "source": [
    "### 4.2 Scatter Plot\n",
    "#### 1. Distinguish developing vs developed"
   ]
  },
  {
   "cell_type": "code",
   "execution_count": 266,
   "id": "4e8593b9-8321-4354-8f16-f03b880315b3",
   "metadata": {},
   "outputs": [
    {
     "data": {
      "application/vnd.plotly.v1+json": {
       "config": {
        "plotlyServerURL": "https://plot.ly"
       },
       "data": [
        {
         "hovertemplate": "Country Name: %{text}<br>Urban Pop: %{x}<br>Water Stress: %{y}",
         "marker": {
          "color": [
           "red",
           "red"
          ],
          "opacity": 0.7,
          "size": 10
         },
         "mode": "markers+text",
         "name": "1975",
         "text": [
          "India",
          "Pakistan"
         ],
         "textposition": "top center",
         "type": "scatter",
         "visible": true,
         "x": [
          130404550,
          18296768
         ],
         "y": [
          39.022386527,
          94.0850254586
         ]
        },
        {
         "hovertemplate": "Country Name: %{text}<br>Urban Pop: %{x}<br>Water Stress: %{y}",
         "marker": {
          "color": [
           "red",
           "red"
          ],
          "opacity": 0.7,
          "size": 10
         },
         "mode": "markers+text",
         "name": "1976",
         "text": [
          "India",
          "Pakistan"
         ],
         "textposition": "top center",
         "type": "scatter",
         "visible": false,
         "x": [
          135668080,
          19109000
         ],
         "y": [
          40.2207845554,
          94.1706030305
         ]
        },
        {
         "hovertemplate": "Country Name: %{text}<br>Urban Pop: %{x}<br>Water Stress: %{y}",
         "marker": {
          "color": [
           "red",
           "red"
          ],
          "opacity": 0.7,
          "size": 10
         },
         "mode": "markers+text",
         "name": "1977",
         "text": [
          "India",
          "Pakistan"
         ],
         "textposition": "top center",
         "type": "scatter",
         "visible": false,
         "x": [
          141142851,
          19970491
         ],
         "y": [
          41.4191825837,
          94.2561806024
         ]
        },
        {
         "hovertemplate": "Country Name: %{text}<br>Urban Pop: %{x}<br>Water Stress: %{y}",
         "marker": {
          "color": [
           "red",
           "red"
          ],
          "opacity": 0.7,
          "size": 10
         },
         "mode": "markers+text",
         "name": "1978",
         "text": [
          "India",
          "Pakistan"
         ],
         "textposition": "top center",
         "type": "scatter",
         "visible": false,
         "x": [
          146745420,
          20883803
         ],
         "y": [
          42.617580612,
          94.3417581743
         ]
        },
        {
         "hovertemplate": "Country Name: %{text}<br>Urban Pop: %{x}<br>Water Stress: %{y}",
         "marker": {
          "color": [
           "red",
           "red"
          ],
          "opacity": 0.7,
          "size": 10
         },
         "mode": "markers+text",
         "name": "1979",
         "text": [
          "India",
          "Pakistan"
         ],
         "textposition": "top center",
         "type": "scatter",
         "visible": false,
         "x": [
          152593971,
          21894029
         ],
         "y": [
          43.8159786404,
          94.4273357463
         ]
        },
        {
         "hovertemplate": "Country Name: %{text}<br>Urban Pop: %{x}<br>Water Stress: %{y}",
         "marker": {
          "color": [
           "red",
           "red",
           "blue",
           "red",
           "blue",
           "blue"
          ],
          "opacity": 0.7,
          "size": 10
         },
         "mode": "markers+text",
         "name": "1980",
         "text": [
          "China",
          "India",
          "Japan",
          "Pakistan",
          "United Kingdom",
          "United States"
         ],
         "textposition": "top center",
         "type": "scatter",
         "visible": false,
         "x": [
          189947471,
          158765033,
          88977732,
          23095795,
          44195960,
          167551171
         ],
         "y": [
          32.405311053,
          45.0143766687,
          40.5517241379,
          94.5129133182,
          22.9838022165,
          32.8010139417
         ]
        },
        {
         "hovertemplate": "Country Name: %{text}<br>Urban Pop: %{x}<br>Water Stress: %{y}",
         "marker": {
          "color": [
           "red",
           "red",
           "blue",
           "red",
           "blue",
           "blue"
          ],
          "opacity": 0.7,
          "size": 10
         },
         "mode": "markers+text",
         "name": "1981",
         "text": [
          "China",
          "India",
          "Japan",
          "Pakistan",
          "United Kingdom",
          "United States"
         ],
         "textposition": "top center",
         "type": "scatter",
         "visible": false,
         "x": [
          199949784,
          164784551,
          89743575,
          24350622,
          44271630,
          169552427
         ],
         "y": [
          33.0175209243,
          46.2127746971,
          40.6803065134,
          94.5984908901,
          22.3086104007,
          32.4683143219
         ]
        },
        {
         "hovertemplate": "Country Name: %{text}<br>Urban Pop: %{x}<br>Water Stress: %{y}",
         "marker": {
          "color": [
           "red",
           "red",
           "blue",
           "red",
           "blue",
           "blue"
          ],
          "opacity": 0.7,
          "size": 10
         },
         "mode": "markers+text",
         "name": "1982",
         "text": [
          "China",
          "India",
          "Japan",
          "Pakistan",
          "United Kingdom",
          "United States"
         ],
         "textposition": "top center",
         "type": "scatter",
         "visible": false,
         "x": [
          210823843,
          170332527,
          90498578,
          25496451,
          44228171,
          171528659
         ],
         "y": [
          33.6297307956,
          47.4111727254,
          40.8088888889,
          94.6840684621,
          21.6334185848,
          32.1356147022
         ]
        },
        {
         "hovertemplate": "Country Name: %{text}<br>Urban Pop: %{x}<br>Water Stress: %{y}",
         "marker": {
          "color": [
           "red",
           "red",
           "blue",
           "red",
           "blue",
           "blue"
          ],
          "opacity": 0.7,
          "size": 10
         },
         "mode": "markers+text",
         "name": "1983",
         "text": [
          "China",
          "India",
          "Japan",
          "Pakistan",
          "United Kingdom",
          "United States"
         ],
         "textposition": "top center",
         "type": "scatter",
         "visible": false,
         "x": [
          220472140,
          176077222,
          91261504,
          26615995,
          44215089,
          173459636
         ],
         "y": [
          34.2419406669,
          48.6095707537,
          40.9374712644,
          94.769646034,
          20.958226769,
          31.8029150824
         ]
        },
        {
         "hovertemplate": "Country Name: %{text}<br>Urban Pop: %{x}<br>Water Stress: %{y}",
         "marker": {
          "color": [
           "red",
           "red",
           "blue",
           "red",
           "blue",
           "blue"
          ],
          "opacity": 0.7,
          "size": 10
         },
         "mode": "markers+text",
         "name": "1984",
         "text": [
          "China",
          "India",
          "Japan",
          "Pakistan",
          "United Kingdom",
          "United States"
         ],
         "textposition": "top center",
         "type": "scatter",
         "visible": false,
         "x": [
          230206255,
          182023117,
          91987180,
          27693948,
          44257473,
          175321738
         ],
         "y": [
          34.8541505383,
          49.8079687821,
          41.0660536398,
          94.8552236059,
          20.2830349531,
          31.4702154626
         ]
        },
        {
         "hovertemplate": "Country Name: %{text}<br>Urban Pop: %{x}<br>Water Stress: %{y}",
         "marker": {
          "color": [
           "red",
           "red",
           "blue",
           "red",
           "blue",
           "blue"
          ],
          "opacity": 0.7,
          "size": 10
         },
         "mode": "markers+text",
         "name": "1985",
         "text": [
          "China",
          "India",
          "Japan",
          "Pakistan",
          "United Kingdom",
          "United States"
         ],
         "textposition": "top center",
         "type": "scatter",
         "visible": false,
         "x": [
          240414890,
          188124285,
          92696479,
          28824401,
          44329755,
          177239105
         ],
         "y": [
          35.1338718394,
          51.0063668104,
          41.1946360153,
          94.9408011778,
          19.6078431373,
          31.1375158428
         ]
        },
        {
         "hovertemplate": "Country Name: %{text}<br>Urban Pop: %{x}<br>Water Stress: %{y}",
         "marker": {
          "color": [
           "red",
           "red",
           "blue",
           "red",
           "blue",
           "blue"
          ],
          "opacity": 0.7,
          "size": 10
         },
         "mode": "markers+text",
         "name": "1986",
         "text": [
          "China",
          "India",
          "Japan",
          "Pakistan",
          "United Kingdom",
          "United States"
         ],
         "textposition": "top center",
         "type": "scatter",
         "visible": false,
         "x": [
          251325056,
          194391131,
          93340695,
          30063409,
          44404206,
          179244877
         ],
         "y": [
          35.4105257008,
          51.0741425344,
          41.3232183908,
          95.0263787498,
          19.7851662404,
          30.8048162231
         ]
        },
        {
         "hovertemplate": "Country Name: %{text}<br>Urban Pop: %{x}<br>Water Stress: %{y}",
         "marker": {
          "color": [
           "red",
           "red",
           "red",
           "blue",
           "red",
           "red",
           "blue",
           "blue"
          ],
          "opacity": 0.7,
          "size": 10
         },
         "mode": "markers+text",
         "name": "1987",
         "text": [
          "Brazil",
          "China",
          "India",
          "Japan",
          "Nigeria",
          "Pakistan",
          "United Kingdom",
          "United States"
         ],
         "textposition": "top center",
         "type": "scatter",
         "visible": false,
         "x": [
          100930955,
          262976051,
          200801009,
          93946744,
          24377010,
          31363647,
          44470325,
          181215212
         ],
         "y": [
          1.6567375887,
          35.6871795621,
          51.1419182584,
          41.4518007663,
          4.3333333333,
          95.1119563217,
          19.9624893436,
          30.4721166033
         ]
        },
        {
         "hovertemplate": "Country Name: %{text}<br>Urban Pop: %{x}<br>Water Stress: %{y}",
         "marker": {
          "color": [
           "red",
           "red",
           "red",
           "blue",
           "red",
           "red",
           "blue",
           "blue"
          ],
          "opacity": 0.7,
          "size": 10
         },
         "mode": "markers+text",
         "name": "1988",
         "text": [
          "Brazil",
          "China",
          "India",
          "Japan",
          "Nigeria",
          "Pakistan",
          "United Kingdom",
          "United States"
         ],
         "textposition": "top center",
         "type": "scatter",
         "visible": false,
         "x": [
          104046863,
          275121076,
          207356974,
          94492929,
          25783109,
          32704401,
          44540723,
          183232441
         ],
         "y": [
          1.7607039664,
          35.9638334234,
          51.2096939823,
          41.5803831418,
          4.6143709004,
          95.1975338936,
          20.1398124467,
          30.1394169835
         ]
        },
        {
         "hovertemplate": "Country Name: %{text}<br>Urban Pop: %{x}<br>Water Stress: %{y}",
         "marker": {
          "color": [
           "red",
           "red",
           "red",
           "blue",
           "red",
           "red",
           "blue",
           "blue"
          ],
          "opacity": 0.7,
          "size": 10
         },
         "mode": "markers+text",
         "name": "1989",
         "text": [
          "Brazil",
          "China",
          "India",
          "Japan",
          "Nigeria",
          "Pakistan",
          "United Kingdom",
          "United States"
         ],
         "textposition": "top center",
         "type": "scatter",
         "visible": false,
         "x": [
          107150809,
          287504237,
          214090303,
          95025267,
          27264635,
          34068329,
          44628280,
          185333919
         ],
         "y": [
          1.8646703441,
          36.2404872847,
          51.2774697063,
          41.7089655172,
          4.8957662493,
          95.2831114656,
          20.3171355499,
          29.8067173638
         ]
        },
        {
         "hovertemplate": "Country Name: %{text}<br>Urban Pop: %{x}<br>Water Stress: %{y}",
         "marker": {
          "color": [
           "red",
           "red",
           "red",
           "blue",
           "red",
           "red",
           "blue",
           "blue"
          ],
          "opacity": 0.7,
          "size": 10
         },
         "mode": "markers+text",
         "name": "1990",
         "text": [
          "Brazil",
          "China",
          "India",
          "Japan",
          "Nigeria",
          "Pakistan",
          "United Kingdom",
          "United States"
         ],
         "textposition": "top center",
         "type": "scatter",
         "visible": false,
         "x": [
          110249653,
          300165618,
          220974453,
          95496650,
          28825491,
          35515729,
          44733264,
          187966119
         ],
         "y": [
          1.9686367218,
          36.5171411461,
          51.3452454303,
          41.8375478927,
          5.1746571258,
          95.3686890375,
          20.494458653,
          29.474017744
         ]
        },
        {
         "hovertemplate": "Country Name: %{text}<br>Urban Pop: %{x}<br>Water Stress: %{y}",
         "marker": {
          "color": [
           "red",
           "red",
           "blue",
           "red",
           "blue",
           "red",
           "red",
           "blue",
           "blue"
          ],
          "opacity": 0.7,
          "size": 10
         },
         "mode": "markers+text",
         "name": "1991",
         "text": [
          "Brazil",
          "China",
          "Germany",
          "India",
          "Japan",
          "Nigeria",
          "Pakistan",
          "United Kingdom",
          "United States"
         ],
         "textposition": "top center",
         "type": "scatter",
         "visible": false,
         "x": [
          113322847,
          314301034,
          58625381,
          227858857,
          96038630,
          30091556,
          37009821,
          44855736,
          191509147
         ],
         "y": [
          2.0726030996,
          37.1354980695,
          63.4210526316,
          52.4789433148,
          41.9302681992,
          5.4558735838,
          95.4542666094,
          20.5183290708,
          29.5278833967
         ]
        },
        {
         "hovertemplate": "Country Name: %{text}<br>Urban Pop: %{x}<br>Water Stress: %{y}",
         "marker": {
          "color": [
           "red",
           "red",
           "blue",
           "red",
           "blue",
           "red",
           "red",
           "blue",
           "blue"
          ],
          "opacity": 0.7,
          "size": 10
         },
         "mode": "markers+text",
         "name": "1992",
         "text": [
          "Brazil",
          "China",
          "Germany",
          "India",
          "Japan",
          "Nigeria",
          "Pakistan",
          "United Kingdom",
          "United States"
         ],
         "textposition": "top center",
         "type": "scatter",
         "visible": false,
         "x": [
          116391291,
          328521540,
          59146205,
          234624365,
          96566243,
          31404895,
          38394654,
          45011752,
          195199459
         ],
         "y": [
          2.1776201734,
          37.7538549929,
          68.4600977248,
          53.6126411994,
          42.0229885057,
          5.7370900417,
          96.6102965735,
          20.5421994885,
          29.5817490494
         ]
        },
        {
         "hovertemplate": "Country Name: %{text}<br>Urban Pop: %{x}<br>Water Stress: %{y}",
         "marker": {
          "color": [
           "blue",
           "red",
           "red",
           "blue",
           "red",
           "blue",
           "red",
           "red",
           "blue",
           "blue"
          ],
          "opacity": 0.7,
          "size": 10
         },
         "mode": "markers+text",
         "name": "1993",
         "text": [
          "Australia",
          "Brazil",
          "China",
          "Germany",
          "India",
          "Japan",
          "Nigeria",
          "Pakistan",
          "United Kingdom",
          "United States"
         ],
         "textposition": "top center",
         "type": "scatter",
         "visible": false,
         "x": [
          15017273,
          119447677,
          342961393,
          59647492,
          241512027,
          97049554,
          32779164,
          39794132,
          45154426,
          198806845
         ],
         "y": [
          7.4588661037,
          2.2817966903,
          38.3722119163,
          67.8995874178,
          54.746339084,
          41.6367816092,
          6.0183064997,
          97.7663265376,
          20.5660699062,
          29.6356147022
         ]
        },
        {
         "hovertemplate": "Country Name: %{text}<br>Urban Pop: %{x}<br>Water Stress: %{y}",
         "marker": {
          "color": [
           "blue",
           "red",
           "red",
           "blue",
           "red",
           "blue",
           "red",
           "red",
           "blue",
           "blue"
          ],
          "opacity": 0.7,
          "size": 10
         },
         "mode": "markers+text",
         "name": "1994",
         "text": [
          "Australia",
          "Brazil",
          "China",
          "Germany",
          "India",
          "Japan",
          "Nigeria",
          "Pakistan",
          "United Kingdom",
          "United States"
         ],
         "textposition": "top center",
         "type": "scatter",
         "visible": false,
         "x": [
          15139633,
          122479568,
          357836540,
          60028206,
          248457823,
          97489878,
          34205907,
          41292860,
          45304828,
          202278113
         ],
         "y": [
          8.4882187374,
          2.3859732072,
          38.6382653732,
          67.4341050164,
          55.8800369686,
          41.2505747126,
          6.2995229577,
          98.9223565016,
          20.589940324,
          29.6894803549
         ]
        },
        {
         "hovertemplate": "Country Name: %{text}<br>Urban Pop: %{x}<br>Water Stress: %{y}",
         "marker": {
          "color": [
           "blue",
           "red",
           "red",
           "blue",
           "red",
           "blue",
           "red",
           "red",
           "blue",
           "blue"
          ],
          "opacity": 0.7,
          "size": 10
         },
         "mode": "markers+text",
         "name": "1995",
         "text": [
          "Australia",
          "Brazil",
          "China",
          "Germany",
          "India",
          "Japan",
          "Nigeria",
          "Pakistan",
          "United Kingdom",
          "United States"
         ],
         "textposition": "top center",
         "type": "scatter",
         "visible": false,
         "x": [
          15285785,
          125522590,
          373035157,
          60378049,
          255507299,
          97888236,
          35689397,
          42845606,
          45459651,
          205718394
         ],
         "y": [
          7.981584238,
          2.4901497242,
          38.9043188301,
          66.928297903,
          57.0137348532,
          40.8459770115,
          6.5807394156,
          100.0783864657,
          20.6138107417,
          29.7433460076
         ]
        },
        {
         "hovertemplate": "Country Name: %{text}<br>Urban Pop: %{x}<br>Water Stress: %{y}",
         "marker": {
          "color": [
           "blue",
           "red",
           "red",
           "blue",
           "red",
           "blue",
           "red",
           "red",
           "blue",
           "blue"
          ],
          "opacity": 0.7,
          "size": 10
         },
         "mode": "markers+text",
         "name": "1996",
         "text": [
          "Australia",
          "Brazil",
          "China",
          "Germany",
          "India",
          "Japan",
          "Nigeria",
          "Pakistan",
          "United Kingdom",
          "United States"
         ],
         "textposition": "top center",
         "type": "scatter",
         "visible": false,
         "x": [
          15448588,
          128573880,
          388593258,
          60725922,
          262720372,
          98272808,
          37226251,
          44465742,
          45610451,
          209146726
         ],
         "y": [
          8.9104141536,
          2.5924349882,
          39.170372287,
          65.4675927632,
          58.1474327377,
          40.9264367816,
          6.8619558736,
          101.2344164298,
          20.7481515927,
          29.7972116603
         ]
        },
        {
         "hovertemplate": "Country Name: %{text}<br>Urban Pop: %{x}<br>Water Stress: %{y}",
         "marker": {
          "color": [
           "blue",
           "red",
           "red",
           "blue",
           "red",
           "blue",
           "red",
           "red",
           "blue",
           "blue"
          ],
          "opacity": 0.7,
          "size": 10
         },
         "mode": "markers+text",
         "name": "1997",
         "text": [
          "Australia",
          "Brazil",
          "China",
          "Germany",
          "India",
          "Japan",
          "Nigeria",
          "Pakistan",
          "United Kingdom",
          "United States"
         ],
         "textposition": "top center",
         "type": "scatter",
         "visible": false,
         "x": [
          15592522,
          131742708,
          404485562,
          60986289,
          270045873,
          98667335,
          38817466,
          46106188,
          45762480,
          212694273
         ],
         "y": [
          8.8171290712,
          2.6077541371,
          39.436425744,
          64.9434523575,
          59.2811306223,
          41.0068965517,
          7.1437090042,
          102.3904463939,
          20.8824924436,
          29.8510773131
         ]
        },
        {
         "hovertemplate": "Country Name: %{text}<br>Urban Pop: %{x}<br>Water Stress: %{y}",
         "marker": {
          "color": [
           "blue",
           "red",
           "red",
           "blue",
           "red",
           "blue",
           "red",
           "red",
           "blue",
           "blue"
          ],
          "opacity": 0.7,
          "size": 10
         },
         "mode": "markers+text",
         "name": "1998",
         "text": [
          "Australia",
          "Brazil",
          "China",
          "Germany",
          "India",
          "Japan",
          "Nigeria",
          "Pakistan",
          "United Kingdom",
          "United States"
         ],
         "textposition": "top center",
         "type": "scatter",
         "visible": false,
         "x": [
          15723967,
          134957264,
          420606126,
          61167004,
          277484368,
          99095072,
          40475675,
          47744310,
          45931122,
          216206090
         ],
         "y": [
          8.7745074387,
          2.6230732861,
          39.7024792009,
          62.7833549479,
          60.4148285069,
          41.1923371648,
          7.4243887895,
          103.546476358,
          21.0168332946,
          29.9049429658
         ]
        },
        {
         "hovertemplate": "Country Name: %{text}<br>Urban Pop: %{x}<br>Water Stress: %{y}",
         "marker": {
          "color": [
           "blue",
           "red",
           "red",
           "blue",
           "red",
           "blue",
           "red",
           "red",
           "blue",
           "blue"
          ],
          "opacity": 0.7,
          "size": 10
         },
         "mode": "markers+text",
         "name": "1999",
         "text": [
          "Australia",
          "Brazil",
          "China",
          "Germany",
          "India",
          "Japan",
          "Nigeria",
          "Pakistan",
          "United Kingdom",
          "United States"
         ],
         "textposition": "top center",
         "type": "scatter",
         "visible": false,
         "x": [
          15871907,
          138164576,
          436766058,
          61376500,
          285024135,
          99434460,
          42210153,
          49359848,
          46119137,
          219721677
         ],
         "y": [
          8.7318858062,
          2.638392435,
          39.9685326578,
          62.1855864172,
          61.5485263915,
          41.3777777778,
          7.7057841383,
          104.702506322,
          21.1511741455,
          29.9588086185
         ]
        },
        {
         "hovertemplate": "Country Name: %{text}<br>Urban Pop: %{x}<br>Water Stress: %{y}",
         "marker": {
          "color": [
           "blue",
           "red",
           "red",
           "blue",
           "red",
           "blue",
           "red",
           "red",
           "blue",
           "blue"
          ],
          "opacity": 0.7,
          "size": 10
         },
         "mode": "markers+text",
         "name": "2000",
         "text": [
          "Australia",
          "Brazil",
          "China",
          "Germany",
          "India",
          "Japan",
          "Nigeria",
          "Pakistan",
          "United Kingdom",
          "United States"
         ],
         "textposition": "top center",
         "type": "scatter",
         "visible": false,
         "x": [
          16028911,
          141288924,
          452999147,
          61629857,
          292695483,
          99760751,
          44031661,
          51082234,
          46319551,
          223069137
         ],
         "y": [
          8.7089827101,
          2.6529550827,
          40.2345861147,
          61.5231338816,
          62.682224276,
          41.5632183908,
          7.9868217054,
          105.8585362861,
          21.2855149965,
          30.0063371356
         ]
        },
        {
         "hovertemplate": "Country Name: %{text}<br>Urban Pop: %{x}<br>Water Stress: %{y}",
         "marker": {
          "color": [
           "blue",
           "red",
           "red",
           "blue",
           "red",
           "blue",
           "red",
           "red",
           "blue",
           "blue"
          ],
          "opacity": 0.7,
          "size": 10
         },
         "mode": "markers+text",
         "name": "2001",
         "text": [
          "Australia",
          "Brazil",
          "China",
          "Germany",
          "India",
          "Japan",
          "Nigeria",
          "Pakistan",
          "United Kingdom",
          "United States"
         ],
         "textposition": "top center",
         "type": "scatter",
         "visible": false,
         "x": [
          16210024,
          143778920,
          471767321,
          61902439,
          300927724,
          101706485,
          46320689,
          52846087,
          46557334,
          225792302
         ],
         "y": [
          8.6586248492,
          2.6680851064,
          40.2813280554,
          61.3018708882,
          64.2287420415,
          40.1954022989,
          8.1834108527,
          106.6411569842,
          21.4198558475,
          30.0760456274
         ]
        },
        {
         "hovertemplate": "Country Name: %{text}<br>Urban Pop: %{x}<br>Water Stress: %{y}",
         "marker": {
          "color": [
           "blue",
           "red",
           "red",
           "blue",
           "red",
           "blue",
           "red",
           "red",
           "blue",
           "blue"
          ],
          "opacity": 0.7,
          "size": 10
         },
         "mode": "markers+text",
         "name": "2002",
         "text": [
          "Australia",
          "Brazil",
          "China",
          "Germany",
          "India",
          "Japan",
          "Nigeria",
          "Pakistan",
          "United Kingdom",
          "United States"
         ],
         "textposition": "top center",
         "type": "scatter",
         "visible": false,
         "x": [
          16419256,
          146158653,
          491993700,
          62174878,
          310006251,
          104055019,
          48727954,
          54483687,
          46930583,
          228400290
         ],
         "y": [
          8.3770808203,
          2.68321513,
          40.3280699961,
          60.9343188048,
          65.7752598069,
          38.8275862069,
          8.38,
          107.4237776824,
          21.5541966984,
          30.1394169835
         ]
        },
        {
         "hovertemplate": "Country Name: %{text}<br>Urban Pop: %{x}<br>Water Stress: %{y}",
         "marker": {
          "color": [
           "blue",
           "red",
           "red",
           "blue",
           "red",
           "blue",
           "red",
           "red",
           "blue",
           "blue"
          ],
          "opacity": 0.7,
          "size": 10
         },
         "mode": "markers+text",
         "name": "2003",
         "text": [
          "Australia",
          "Brazil",
          "China",
          "Germany",
          "India",
          "Japan",
          "Nigeria",
          "Pakistan",
          "United Kingdom",
          "United States"
         ],
         "textposition": "top center",
         "type": "scatter",
         "visible": false,
         "x": [
          16633061,
          148477268,
          512473984,
          62376854,
          319092955,
          106256267,
          51253420,
          56115621,
          47323791,
          230876596
         ],
         "y": [
          8.0955367913,
          2.6983451537,
          40.3748119367,
          58.8622313596,
          67.3217775724,
          38.6712643678,
          8.5765891473,
          108.2063983805,
          21.6885375494,
          30.2027883397
         ]
        },
        {
         "hovertemplate": "Country Name: %{text}<br>Urban Pop: %{x}<br>Water Stress: %{y}",
         "marker": {
          "color": [
           "blue",
           "red",
           "red",
           "blue",
           "red",
           "blue",
           "red",
           "red",
           "blue",
           "blue"
          ],
          "opacity": 0.7,
          "size": 10
         },
         "mode": "markers+text",
         "name": "2004",
         "text": [
          "Australia",
          "Brazil",
          "China",
          "Germany",
          "India",
          "Japan",
          "Nigeria",
          "Pakistan",
          "United Kingdom",
          "United States"
         ],
         "textposition": "top center",
         "type": "scatter",
         "visible": false,
         "x": [
          16835775,
          150745355,
          533257098,
          62529997,
          328335627,
          108136910,
          53900718,
          57862124,
          47767769,
          233532722
         ],
         "y": [
          7.8139927624,
          2.7134751773,
          40.4215538774,
          56.9447861842,
          64.2061716985,
          38.5149425287,
          8.7731782946,
          108.9890190786,
          21.8228784004,
          30.2661596958
         ]
        },
        {
         "hovertemplate": "Country Name: %{text}<br>Urban Pop: %{x}<br>Water Stress: %{y}",
         "marker": {
          "color": [
           "blue",
           "red",
           "red",
           "blue",
           "red",
           "blue",
           "red",
           "red",
           "blue",
           "blue"
          ],
          "opacity": 0.7,
          "size": 10
         },
         "mode": "markers+text",
         "name": "2005",
         "text": [
          "Australia",
          "Brazil",
          "China",
          "Germany",
          "India",
          "Japan",
          "Nigeria",
          "Pakistan",
          "United Kingdom",
          "United States"
         ],
         "textposition": "top center",
         "type": "scatter",
         "visible": false,
         "x": [
          17065978,
          152984542,
          554367818,
          62660267,
          337569623,
          109856670,
          56664041,
          59622511,
          48269624,
          236200507
         ],
         "y": [
          7.5324487334,
          2.7286052009,
          40.4682958181,
          55.287205318,
          64.5871585541,
          38.3586206897,
          8.9697674419,
          109.7716397767,
          21.9572192513,
          30.329531052
         ]
        },
        {
         "hovertemplate": "Country Name: %{text}<br>Urban Pop: %{x}<br>Water Stress: %{y}",
         "marker": {
          "color": [
           "blue",
           "red",
           "red",
           "blue",
           "red",
           "blue",
           "red",
           "red",
           "blue",
           "blue"
          ],
          "opacity": 0.7,
          "size": 10
         },
         "mode": "markers+text",
         "name": "2006",
         "text": [
          "Australia",
          "Brazil",
          "China",
          "Germany",
          "India",
          "Japan",
          "Nigeria",
          "Pakistan",
          "United Kingdom",
          "United States"
         ],
         "textposition": "top center",
         "type": "scatter",
         "visible": false,
         "x": [
          17321968,
          155188992,
          575118254,
          62753557,
          346808559,
          111383848,
          59545960,
          61422731,
          48798541,
          238999326
         ],
         "y": [
          7.0593687173,
          2.7437352246,
          41.4834723419,
          54.4576123904,
          64.9681454097,
          38.2022988506,
          9.1094573643,
          110.6941291945,
          22.0915601023,
          29.5716096324
         ]
        },
        {
         "hovertemplate": "Country Name: %{text}<br>Urban Pop: %{x}<br>Water Stress: %{y}",
         "marker": {
          "color": [
           "blue",
           "red",
           "red",
           "blue",
           "red",
           "blue",
           "red",
           "red",
           "blue",
           "blue"
          ],
          "opacity": 0.7,
          "size": 10
         },
         "mode": "markers+text",
         "name": "2007",
         "text": [
          "Australia",
          "Brazil",
          "China",
          "Germany",
          "India",
          "Japan",
          "Nigeria",
          "Pakistan",
          "United Kingdom",
          "United States"
         ],
         "textposition": "top center",
         "type": "scatter",
         "visible": false,
         "x": [
          17666406,
          157343140,
          595670841,
          62833410,
          356083571,
          112827761,
          62562163,
          63441687,
          49351705,
          241795278
         ],
         "y": [
          6.5862887012,
          2.9418439716,
          41.5345963395,
          44.2091557018,
          65.3491322654,
          38.0459770115,
          9.2491472868,
          111.6166186124,
          14.5149190111,
          28.8136882129
         ]
        },
        {
         "hovertemplate": "Country Name: %{text}<br>Urban Pop: %{x}<br>Water Stress: %{y}",
         "marker": {
          "color": [
           "blue",
           "red",
           "red",
           "blue",
           "red",
           "blue",
           "red",
           "red",
           "blue",
           "blue"
          ],
          "opacity": 0.7,
          "size": 10
         },
         "mode": "markers+text",
         "name": "2008",
         "text": [
          "Australia",
          "Brazil",
          "China",
          "Germany",
          "India",
          "Japan",
          "Nigeria",
          "Pakistan",
          "United Kingdom",
          "United States"
         ],
         "textposition": "top center",
         "type": "scatter",
         "visible": false,
         "x": [
          18049707,
          159430712,
          616481190,
          62875807,
          365350799,
          114107975,
          65720273,
          65547743,
          49913475,
          244607104
         ],
         "y": [
          6.1132086852,
          3.1395271868,
          42.0750500285,
          53.2747341009,
          65.730119121,
          37.6947126437,
          9.3888372093,
          112.569780995,
          14.231884058,
          28.0557667934
         ]
        },
        {
         "hovertemplate": "Country Name: %{text}<br>Urban Pop: %{x}<br>Water Stress: %{y}",
         "marker": {
          "color": [
           "blue",
           "red",
           "red",
           "blue",
           "red",
           "blue",
           "red",
           "red",
           "blue",
           "blue"
          ],
          "opacity": 0.7,
          "size": 10
         },
         "mode": "markers+text",
         "name": "2009",
         "text": [
          "Australia",
          "Brazil",
          "China",
          "Germany",
          "India",
          "Japan",
          "Nigeria",
          "Pakistan",
          "United Kingdom",
          "United States"
         ],
         "textposition": "top center",
         "type": "scatter",
         "visible": false,
         "x": [
          18451571,
          161431674,
          637407288,
          62877220,
          374851256,
          115228215,
          69013626,
          67629427,
          50463084,
          247276259
         ],
         "y": [
          5.6401286691,
          3.337393617,
          42.5935934328,
          54.396875,
          66.1111059766,
          37.3434482759,
          9.5285271318,
          112.3182626833,
          14.1193520887,
          27.2978453739
         ]
        },
        {
         "hovertemplate": "Country Name: %{text}<br>Urban Pop: %{x}<br>Water Stress: %{y}",
         "marker": {
          "color": [
           "blue",
           "red",
           "red",
           "blue",
           "red",
           "blue",
           "red",
           "red",
           "blue",
           "blue"
          ],
          "opacity": 0.7,
          "size": 10
         },
         "mode": "markers+text",
         "name": "2010",
         "text": [
          "Australia",
          "Brazil",
          "China",
          "Germany",
          "India",
          "Japan",
          "Nigeria",
          "Pakistan",
          "United Kingdom",
          "United States"
         ],
         "textposition": "top center",
         "type": "scatter",
         "visible": false,
         "x": [
          18767085,
          163358522,
          658498663,
          62940432,
          384608848,
          116302928,
          72456327,
          69727689,
          51030310,
          249849720
         ],
         "y": [
          5.2975472457,
          3.5352600473,
          42.8587078775,
          45.2179276316,
          66.4920928322,
          37.2434811166,
          9.6682170543,
          113.6617385436,
          14.0903665814,
          26.5335868188
         ]
        },
        {
         "hovertemplate": "Country Name: %{text}<br>Urban Pop: %{x}<br>Water Stress: %{y}",
         "marker": {
          "color": [
           "blue",
           "red",
           "red",
           "blue",
           "red",
           "blue",
           "red",
           "red",
           "blue",
           "blue"
          ],
          "opacity": 0.7,
          "size": 10
         },
         "mode": "markers+text",
         "name": "2011",
         "text": [
          "Australia",
          "Brazil",
          "China",
          "Germany",
          "India",
          "Japan",
          "Nigeria",
          "Pakistan",
          "United Kingdom",
          "United States"
         ],
         "textposition": "top center",
         "type": "scatter",
         "visible": false,
         "x": [
          19056040,
          165271423,
          679390629,
          61940177,
          394460717,
          116416235,
          76034272,
          71722690,
          51600211,
          252208133
         ],
         "y": [
          5.3136308806,
          3.419178487,
          43.4553979638,
          49.9216036184,
          66.4920928322,
          37.1435139573,
          9.6682170543,
          110.1036746212,
          13.1031543052,
          26.8643360174
         ]
        },
        {
         "hovertemplate": "Country Name: %{text}<br>Urban Pop: %{x}<br>Water Stress: %{y}",
         "marker": {
          "color": [
           "blue",
           "red",
           "red",
           "blue",
           "red",
           "blue",
           "red",
           "red",
           "blue",
           "blue"
          ],
          "opacity": 0.7,
          "size": 10
         },
         "mode": "markers+text",
         "name": "2012",
         "text": [
          "Australia",
          "Brazil",
          "China",
          "Germany",
          "India",
          "Japan",
          "Nigeria",
          "Pakistan",
          "United Kingdom",
          "United States"
         ],
         "textposition": "top center",
         "type": "scatter",
         "visible": false,
         "x": [
          19414834,
          167193100,
          700996454,
          62064608,
          404495892,
          116331281,
          79723735,
          73530776,
          52130345,
          254614421
         ],
         "y": [
          6.3803779654,
          3.3030969267,
          43.7329282365,
          46.1172436952,
          66.4920928322,
          37.043546798,
          9.6682170543,
          115.2567327158,
          13.6692242114,
          27.1887480805
         ]
        },
        {
         "hovertemplate": "Country Name: %{text}<br>Urban Pop: %{x}<br>Water Stress: %{y}",
         "marker": {
          "color": [
           "blue",
           "red",
           "red",
           "blue",
           "red",
           "blue",
           "red",
           "red",
           "blue",
           "blue"
          ],
          "opacity": 0.7,
          "size": 10
         },
         "mode": "markers+text",
         "name": "2013",
         "text": [
          "Australia",
          "Brazil",
          "China",
          "Germany",
          "India",
          "Japan",
          "Nigeria",
          "Pakistan",
          "United Kingdom",
          "United States"
         ],
         "textposition": "top center",
         "type": "scatter",
         "visible": false,
         "x": [
          19775013,
          169121374,
          722694421,
          62242278,
          414704318,
          116262976,
          83496382,
          75169776,
          52650595,
          256953576
         ],
         "y": [
          7.6992360273,
          3.1870153664,
          44.0250653657,
          34.7121710526,
          66.4920928322,
          36.9435796388,
          9.6682170543,
          112.569780995,
          13.0451832907,
          27.5131601435
         ]
        },
        {
         "hovertemplate": "Country Name: %{text}<br>Urban Pop: %{x}<br>Water Stress: %{y}",
         "marker": {
          "color": [
           "blue",
           "red",
           "red",
           "blue",
           "red",
           "blue",
           "red",
           "red",
           "blue",
           "blue"
          ],
          "opacity": 0.7,
          "size": 10
         },
         "mode": "markers+text",
         "name": "2014",
         "text": [
          "Australia",
          "Brazil",
          "China",
          "Germany",
          "India",
          "Japan",
          "Nigeria",
          "Pakistan",
          "United Kingdom",
          "United States"
         ],
         "textposition": "top center",
         "type": "scatter",
         "visible": false,
         "x": [
          20095657,
          171056777,
          744357517,
          62510392,
          424967846,
          116208079,
          87338089,
          76747454,
          53209683,
          259430732
         ],
         "y": [
          7.4238037797,
          3.0743262411,
          43.3385431121,
          42.911310307,
          66.4920928322,
          36.8436124795,
          9.6682170543,
          119.5448132016,
          12.42114237,
          27.8375722066
         ]
        },
        {
         "hovertemplate": "Country Name: %{text}<br>Urban Pop: %{x}<br>Water Stress: %{y}",
         "marker": {
          "color": [
           "blue",
           "red",
           "red",
           "blue",
           "red",
           "blue",
           "red",
           "red",
           "blue",
           "blue"
          ],
          "opacity": 0.7,
          "size": 10
         },
         "mode": "markers+text",
         "name": "2015",
         "text": [
          "Australia",
          "Brazil",
          "China",
          "Germany",
          "India",
          "Japan",
          "Nigeria",
          "Pakistan",
          "United Kingdom",
          "United States"
         ],
         "textposition": "top center",
         "type": "scatter",
         "visible": false,
         "x": [
          20410546,
          172977104,
          765822300,
          63062064,
          435286590,
          116182717,
          91213613,
          78281214,
          53802927,
          261950744
         ],
         "y": [
          3.7072778448,
          3.0193853428,
          43.2216882605,
          40.8900836075,
          66.4920928322,
          36.7436453202,
          9.6682170543,
          120.7901355745,
          13.9130434783,
          28.1619842696
         ]
        },
        {
         "hovertemplate": "Country Name: %{text}<br>Urban Pop: %{x}<br>Water Stress: %{y}",
         "marker": {
          "color": [
           "blue",
           "red",
           "red",
           "blue",
           "red",
           "blue",
           "red",
           "red",
           "blue",
           "blue"
          ],
          "opacity": 0.7,
          "size": 10
         },
         "mode": "markers+text",
         "name": "2016",
         "text": [
          "Australia",
          "Brazil",
          "China",
          "Germany",
          "India",
          "Japan",
          "Nigeria",
          "Pakistan",
          "United Kingdom",
          "United States"
         ],
         "textposition": "top center",
         "type": "scatter",
         "visible": false,
         "x": [
          20755798,
          174852930,
          787376534,
          63592936,
          445947596,
          116219897,
          95147856,
          79765118,
          54382825,
          264473000
         ],
         "y": [
          4.271411339,
          3.1352245863,
          44.1141671901,
          33.5019188596,
          66.4920928322,
          36.6436781609,
          9.6682170543,
          122.5507637568,
          14.3546462063,
          28.1619842696
         ]
        },
        {
         "hovertemplate": "Country Name: %{text}<br>Urban Pop: %{x}<br>Water Stress: %{y}",
         "marker": {
          "color": [
           "blue",
           "red",
           "red",
           "blue",
           "red",
           "blue",
           "red",
           "red",
           "blue",
           "blue"
          ],
          "opacity": 0.7,
          "size": 10
         },
         "mode": "markers+text",
         "name": "2017",
         "text": [
          "Australia",
          "Brazil",
          "China",
          "Germany",
          "India",
          "Japan",
          "Nigeria",
          "Pakistan",
          "United Kingdom",
          "United States"
         ],
         "textposition": "top center",
         "type": "scatter",
         "visible": false,
         "x": [
          21126017,
          176677496,
          809246214,
          63861626,
          456844886,
          116223820,
          99164065,
          81365499,
          54923317,
          266788716
         ],
         "y": [
          4.8486696301,
          3.1054373522,
          43.5444997882,
          38.0323519737,
          66.4920928322,
          36.4597701149,
          9.6682170543,
          122.6734556162,
          14.3546462063,
          28.1619842696
         ]
        },
        {
         "hovertemplate": "Country Name: %{text}<br>Urban Pop: %{x}<br>Water Stress: %{y}",
         "marker": {
          "color": [
           "blue",
           "red",
           "red",
           "blue",
           "red",
           "blue",
           "red",
           "red",
           "blue",
           "blue"
          ],
          "opacity": 0.7,
          "size": 10
         },
         "mode": "markers+text",
         "name": "2018",
         "text": [
          "Australia",
          "Brazil",
          "China",
          "Germany",
          "India",
          "Japan",
          "Nigeria",
          "Pakistan",
          "United Kingdom",
          "United States"
         ],
         "textposition": "top center",
         "type": "scatter",
         "visible": false,
         "x": [
          21471397,
          178424995,
          829760595,
          64096118,
          467796479,
          116179166,
          103174367,
          83205748,
          55426598,
          268844029
         ],
         "y": [
          4.9577804584,
          1.4641127257,
          43.3027563138,
          36.8984841009,
          66.4920928322,
          36.367816092,
          9.6682170543,
          118.2381448991,
          14.3546462063,
          28.1619842696
         ]
        },
        {
         "hovertemplate": "Country Name: %{text}<br>Urban Pop: %{x}<br>Water Stress: %{y}",
         "marker": {
          "color": [
           "blue",
           "red",
           "red",
           "blue",
           "red",
           "blue",
           "red",
           "red",
           "blue",
           "blue"
          ],
          "opacity": 0.7,
          "size": 10
         },
         "mode": "markers+text",
         "name": "2019",
         "text": [
          "Australia",
          "Brazil",
          "China",
          "Germany",
          "India",
          "Japan",
          "Nigeria",
          "Pakistan",
          "United Kingdom",
          "United States"
         ],
         "textposition": "top center",
         "type": "scatter",
         "visible": false,
         "x": [
          21819366,
          180121128,
          848982855,
          64294010,
          478826529,
          116119928,
          107166569,
          85181688,
          55909924,
          270737596
         ],
         "y": [
          4.246079614,
          1.4848084544,
          43.9754020537,
          35.3516570724,
          66.4920928322,
          36.0459770115,
          9.6682170543,
          108.6497760874,
          14.3546462063,
          28.1619842696
         ]
        },
        {
         "hovertemplate": "Country Name: %{text}<br>Urban Pop: %{x}<br>Water Stress: %{y}",
         "marker": {
          "color": [
           "blue",
           "red",
           "red",
           "blue",
           "red",
           "blue",
           "red",
           "red",
           "blue",
           "blue"
          ],
          "opacity": 0.7,
          "size": 10
         },
         "mode": "markers+text",
         "name": "2020",
         "text": [
          "Australia",
          "Brazil",
          "China",
          "Germany",
          "India",
          "Japan",
          "Nigeria",
          "Pakistan",
          "United Kingdom",
          "United States"
         ],
         "textposition": "top center",
         "type": "scatter",
         "visible": false,
         "x": [
          22120168,
          181687255,
          866810508,
          64410589,
          489878256,
          115884871,
          111188136,
          87338399,
          56283168,
          274053424
         ],
         "y": [
          3.4861278649,
          1.4793042712,
          41.5185287974,
          35.3516570724,
          66.4920928322,
          36.0459770115,
          9.6682170543,
          116.3057481136,
          14.3546462063,
          28.1619842696
         ]
        },
        {
         "hovertemplate": "Country Name: %{text}<br>Urban Pop: %{x}<br>Water Stress: %{y}",
         "marker": {
          "color": [
           "blue",
           "red",
           "red",
           "blue",
           "red",
           "blue",
           "red",
           "red",
           "blue",
           "blue"
          ],
          "opacity": 0.7,
          "size": 10
         },
         "mode": "markers+text",
         "name": "2021",
         "text": [
          "Australia",
          "Brazil",
          "China",
          "Germany",
          "India",
          "Japan",
          "Nigeria",
          "Pakistan",
          "United Kingdom",
          "United States"
         ],
         "textposition": "top center",
         "type": "scatter",
         "visible": false,
         "x": [
          22182436,
          182973030,
          882894483,
          64513567,
          500529185,
          115459909,
          115265457,
          89660489,
          56403965,
          275178949
         ],
         "y": [
          4.5999195818,
          1.4819462792,
          41.5185287974,
          35.3516570724,
          66.4920928322,
          36.0459770115,
          9.6682170543,
          162.069811668,
          14.3546462063,
          28.1619842696
         ]
        }
       ],
       "layout": {
        "autosize": true,
        "sliders": [
         {
          "active": 0,
          "currentvalue": {
           "prefix": "Year: "
          },
          "pad": {
           "t": 50
          },
          "steps": [
           {
            "args": [
             {
              "visible": [
               true,
               false,
               false,
               false,
               false,
               false,
               false,
               false,
               false,
               false,
               false,
               false,
               false,
               false,
               false,
               false,
               false,
               false,
               false,
               false,
               false,
               false,
               false,
               false,
               false,
               false,
               false,
               false,
               false,
               false,
               false,
               false,
               false,
               false,
               false,
               false,
               false,
               false,
               false,
               false,
               false,
               false,
               false,
               false,
               false,
               false,
               false
              ]
             },
             {
              "title": "Urban Population vs Water Stress - 1975"
             }
            ],
            "label": "1975",
            "method": "update"
           },
           {
            "args": [
             {
              "visible": [
               false,
               true,
               false,
               false,
               false,
               false,
               false,
               false,
               false,
               false,
               false,
               false,
               false,
               false,
               false,
               false,
               false,
               false,
               false,
               false,
               false,
               false,
               false,
               false,
               false,
               false,
               false,
               false,
               false,
               false,
               false,
               false,
               false,
               false,
               false,
               false,
               false,
               false,
               false,
               false,
               false,
               false,
               false,
               false,
               false,
               false,
               false
              ]
             },
             {
              "title": "Urban Population vs Water Stress - 1976"
             }
            ],
            "label": "1976",
            "method": "update"
           },
           {
            "args": [
             {
              "visible": [
               false,
               false,
               true,
               false,
               false,
               false,
               false,
               false,
               false,
               false,
               false,
               false,
               false,
               false,
               false,
               false,
               false,
               false,
               false,
               false,
               false,
               false,
               false,
               false,
               false,
               false,
               false,
               false,
               false,
               false,
               false,
               false,
               false,
               false,
               false,
               false,
               false,
               false,
               false,
               false,
               false,
               false,
               false,
               false,
               false,
               false,
               false
              ]
             },
             {
              "title": "Urban Population vs Water Stress - 1977"
             }
            ],
            "label": "1977",
            "method": "update"
           },
           {
            "args": [
             {
              "visible": [
               false,
               false,
               false,
               true,
               false,
               false,
               false,
               false,
               false,
               false,
               false,
               false,
               false,
               false,
               false,
               false,
               false,
               false,
               false,
               false,
               false,
               false,
               false,
               false,
               false,
               false,
               false,
               false,
               false,
               false,
               false,
               false,
               false,
               false,
               false,
               false,
               false,
               false,
               false,
               false,
               false,
               false,
               false,
               false,
               false,
               false,
               false
              ]
             },
             {
              "title": "Urban Population vs Water Stress - 1978"
             }
            ],
            "label": "1978",
            "method": "update"
           },
           {
            "args": [
             {
              "visible": [
               false,
               false,
               false,
               false,
               true,
               false,
               false,
               false,
               false,
               false,
               false,
               false,
               false,
               false,
               false,
               false,
               false,
               false,
               false,
               false,
               false,
               false,
               false,
               false,
               false,
               false,
               false,
               false,
               false,
               false,
               false,
               false,
               false,
               false,
               false,
               false,
               false,
               false,
               false,
               false,
               false,
               false,
               false,
               false,
               false,
               false,
               false
              ]
             },
             {
              "title": "Urban Population vs Water Stress - 1979"
             }
            ],
            "label": "1979",
            "method": "update"
           },
           {
            "args": [
             {
              "visible": [
               false,
               false,
               false,
               false,
               false,
               true,
               false,
               false,
               false,
               false,
               false,
               false,
               false,
               false,
               false,
               false,
               false,
               false,
               false,
               false,
               false,
               false,
               false,
               false,
               false,
               false,
               false,
               false,
               false,
               false,
               false,
               false,
               false,
               false,
               false,
               false,
               false,
               false,
               false,
               false,
               false,
               false,
               false,
               false,
               false,
               false,
               false
              ]
             },
             {
              "title": "Urban Population vs Water Stress - 1980"
             }
            ],
            "label": "1980",
            "method": "update"
           },
           {
            "args": [
             {
              "visible": [
               false,
               false,
               false,
               false,
               false,
               false,
               true,
               false,
               false,
               false,
               false,
               false,
               false,
               false,
               false,
               false,
               false,
               false,
               false,
               false,
               false,
               false,
               false,
               false,
               false,
               false,
               false,
               false,
               false,
               false,
               false,
               false,
               false,
               false,
               false,
               false,
               false,
               false,
               false,
               false,
               false,
               false,
               false,
               false,
               false,
               false,
               false
              ]
             },
             {
              "title": "Urban Population vs Water Stress - 1981"
             }
            ],
            "label": "1981",
            "method": "update"
           },
           {
            "args": [
             {
              "visible": [
               false,
               false,
               false,
               false,
               false,
               false,
               false,
               true,
               false,
               false,
               false,
               false,
               false,
               false,
               false,
               false,
               false,
               false,
               false,
               false,
               false,
               false,
               false,
               false,
               false,
               false,
               false,
               false,
               false,
               false,
               false,
               false,
               false,
               false,
               false,
               false,
               false,
               false,
               false,
               false,
               false,
               false,
               false,
               false,
               false,
               false,
               false
              ]
             },
             {
              "title": "Urban Population vs Water Stress - 1982"
             }
            ],
            "label": "1982",
            "method": "update"
           },
           {
            "args": [
             {
              "visible": [
               false,
               false,
               false,
               false,
               false,
               false,
               false,
               false,
               true,
               false,
               false,
               false,
               false,
               false,
               false,
               false,
               false,
               false,
               false,
               false,
               false,
               false,
               false,
               false,
               false,
               false,
               false,
               false,
               false,
               false,
               false,
               false,
               false,
               false,
               false,
               false,
               false,
               false,
               false,
               false,
               false,
               false,
               false,
               false,
               false,
               false,
               false
              ]
             },
             {
              "title": "Urban Population vs Water Stress - 1983"
             }
            ],
            "label": "1983",
            "method": "update"
           },
           {
            "args": [
             {
              "visible": [
               false,
               false,
               false,
               false,
               false,
               false,
               false,
               false,
               false,
               true,
               false,
               false,
               false,
               false,
               false,
               false,
               false,
               false,
               false,
               false,
               false,
               false,
               false,
               false,
               false,
               false,
               false,
               false,
               false,
               false,
               false,
               false,
               false,
               false,
               false,
               false,
               false,
               false,
               false,
               false,
               false,
               false,
               false,
               false,
               false,
               false,
               false
              ]
             },
             {
              "title": "Urban Population vs Water Stress - 1984"
             }
            ],
            "label": "1984",
            "method": "update"
           },
           {
            "args": [
             {
              "visible": [
               false,
               false,
               false,
               false,
               false,
               false,
               false,
               false,
               false,
               false,
               true,
               false,
               false,
               false,
               false,
               false,
               false,
               false,
               false,
               false,
               false,
               false,
               false,
               false,
               false,
               false,
               false,
               false,
               false,
               false,
               false,
               false,
               false,
               false,
               false,
               false,
               false,
               false,
               false,
               false,
               false,
               false,
               false,
               false,
               false,
               false,
               false
              ]
             },
             {
              "title": "Urban Population vs Water Stress - 1985"
             }
            ],
            "label": "1985",
            "method": "update"
           },
           {
            "args": [
             {
              "visible": [
               false,
               false,
               false,
               false,
               false,
               false,
               false,
               false,
               false,
               false,
               false,
               true,
               false,
               false,
               false,
               false,
               false,
               false,
               false,
               false,
               false,
               false,
               false,
               false,
               false,
               false,
               false,
               false,
               false,
               false,
               false,
               false,
               false,
               false,
               false,
               false,
               false,
               false,
               false,
               false,
               false,
               false,
               false,
               false,
               false,
               false,
               false
              ]
             },
             {
              "title": "Urban Population vs Water Stress - 1986"
             }
            ],
            "label": "1986",
            "method": "update"
           },
           {
            "args": [
             {
              "visible": [
               false,
               false,
               false,
               false,
               false,
               false,
               false,
               false,
               false,
               false,
               false,
               false,
               true,
               false,
               false,
               false,
               false,
               false,
               false,
               false,
               false,
               false,
               false,
               false,
               false,
               false,
               false,
               false,
               false,
               false,
               false,
               false,
               false,
               false,
               false,
               false,
               false,
               false,
               false,
               false,
               false,
               false,
               false,
               false,
               false,
               false,
               false
              ]
             },
             {
              "title": "Urban Population vs Water Stress - 1987"
             }
            ],
            "label": "1987",
            "method": "update"
           },
           {
            "args": [
             {
              "visible": [
               false,
               false,
               false,
               false,
               false,
               false,
               false,
               false,
               false,
               false,
               false,
               false,
               false,
               true,
               false,
               false,
               false,
               false,
               false,
               false,
               false,
               false,
               false,
               false,
               false,
               false,
               false,
               false,
               false,
               false,
               false,
               false,
               false,
               false,
               false,
               false,
               false,
               false,
               false,
               false,
               false,
               false,
               false,
               false,
               false,
               false,
               false
              ]
             },
             {
              "title": "Urban Population vs Water Stress - 1988"
             }
            ],
            "label": "1988",
            "method": "update"
           },
           {
            "args": [
             {
              "visible": [
               false,
               false,
               false,
               false,
               false,
               false,
               false,
               false,
               false,
               false,
               false,
               false,
               false,
               false,
               true,
               false,
               false,
               false,
               false,
               false,
               false,
               false,
               false,
               false,
               false,
               false,
               false,
               false,
               false,
               false,
               false,
               false,
               false,
               false,
               false,
               false,
               false,
               false,
               false,
               false,
               false,
               false,
               false,
               false,
               false,
               false,
               false
              ]
             },
             {
              "title": "Urban Population vs Water Stress - 1989"
             }
            ],
            "label": "1989",
            "method": "update"
           },
           {
            "args": [
             {
              "visible": [
               false,
               false,
               false,
               false,
               false,
               false,
               false,
               false,
               false,
               false,
               false,
               false,
               false,
               false,
               false,
               true,
               false,
               false,
               false,
               false,
               false,
               false,
               false,
               false,
               false,
               false,
               false,
               false,
               false,
               false,
               false,
               false,
               false,
               false,
               false,
               false,
               false,
               false,
               false,
               false,
               false,
               false,
               false,
               false,
               false,
               false,
               false
              ]
             },
             {
              "title": "Urban Population vs Water Stress - 1990"
             }
            ],
            "label": "1990",
            "method": "update"
           },
           {
            "args": [
             {
              "visible": [
               false,
               false,
               false,
               false,
               false,
               false,
               false,
               false,
               false,
               false,
               false,
               false,
               false,
               false,
               false,
               false,
               true,
               false,
               false,
               false,
               false,
               false,
               false,
               false,
               false,
               false,
               false,
               false,
               false,
               false,
               false,
               false,
               false,
               false,
               false,
               false,
               false,
               false,
               false,
               false,
               false,
               false,
               false,
               false,
               false,
               false,
               false
              ]
             },
             {
              "title": "Urban Population vs Water Stress - 1991"
             }
            ],
            "label": "1991",
            "method": "update"
           },
           {
            "args": [
             {
              "visible": [
               false,
               false,
               false,
               false,
               false,
               false,
               false,
               false,
               false,
               false,
               false,
               false,
               false,
               false,
               false,
               false,
               false,
               true,
               false,
               false,
               false,
               false,
               false,
               false,
               false,
               false,
               false,
               false,
               false,
               false,
               false,
               false,
               false,
               false,
               false,
               false,
               false,
               false,
               false,
               false,
               false,
               false,
               false,
               false,
               false,
               false,
               false
              ]
             },
             {
              "title": "Urban Population vs Water Stress - 1992"
             }
            ],
            "label": "1992",
            "method": "update"
           },
           {
            "args": [
             {
              "visible": [
               false,
               false,
               false,
               false,
               false,
               false,
               false,
               false,
               false,
               false,
               false,
               false,
               false,
               false,
               false,
               false,
               false,
               false,
               true,
               false,
               false,
               false,
               false,
               false,
               false,
               false,
               false,
               false,
               false,
               false,
               false,
               false,
               false,
               false,
               false,
               false,
               false,
               false,
               false,
               false,
               false,
               false,
               false,
               false,
               false,
               false,
               false
              ]
             },
             {
              "title": "Urban Population vs Water Stress - 1993"
             }
            ],
            "label": "1993",
            "method": "update"
           },
           {
            "args": [
             {
              "visible": [
               false,
               false,
               false,
               false,
               false,
               false,
               false,
               false,
               false,
               false,
               false,
               false,
               false,
               false,
               false,
               false,
               false,
               false,
               false,
               true,
               false,
               false,
               false,
               false,
               false,
               false,
               false,
               false,
               false,
               false,
               false,
               false,
               false,
               false,
               false,
               false,
               false,
               false,
               false,
               false,
               false,
               false,
               false,
               false,
               false,
               false,
               false
              ]
             },
             {
              "title": "Urban Population vs Water Stress - 1994"
             }
            ],
            "label": "1994",
            "method": "update"
           },
           {
            "args": [
             {
              "visible": [
               false,
               false,
               false,
               false,
               false,
               false,
               false,
               false,
               false,
               false,
               false,
               false,
               false,
               false,
               false,
               false,
               false,
               false,
               false,
               false,
               true,
               false,
               false,
               false,
               false,
               false,
               false,
               false,
               false,
               false,
               false,
               false,
               false,
               false,
               false,
               false,
               false,
               false,
               false,
               false,
               false,
               false,
               false,
               false,
               false,
               false,
               false
              ]
             },
             {
              "title": "Urban Population vs Water Stress - 1995"
             }
            ],
            "label": "1995",
            "method": "update"
           },
           {
            "args": [
             {
              "visible": [
               false,
               false,
               false,
               false,
               false,
               false,
               false,
               false,
               false,
               false,
               false,
               false,
               false,
               false,
               false,
               false,
               false,
               false,
               false,
               false,
               false,
               true,
               false,
               false,
               false,
               false,
               false,
               false,
               false,
               false,
               false,
               false,
               false,
               false,
               false,
               false,
               false,
               false,
               false,
               false,
               false,
               false,
               false,
               false,
               false,
               false,
               false
              ]
             },
             {
              "title": "Urban Population vs Water Stress - 1996"
             }
            ],
            "label": "1996",
            "method": "update"
           },
           {
            "args": [
             {
              "visible": [
               false,
               false,
               false,
               false,
               false,
               false,
               false,
               false,
               false,
               false,
               false,
               false,
               false,
               false,
               false,
               false,
               false,
               false,
               false,
               false,
               false,
               false,
               true,
               false,
               false,
               false,
               false,
               false,
               false,
               false,
               false,
               false,
               false,
               false,
               false,
               false,
               false,
               false,
               false,
               false,
               false,
               false,
               false,
               false,
               false,
               false,
               false
              ]
             },
             {
              "title": "Urban Population vs Water Stress - 1997"
             }
            ],
            "label": "1997",
            "method": "update"
           },
           {
            "args": [
             {
              "visible": [
               false,
               false,
               false,
               false,
               false,
               false,
               false,
               false,
               false,
               false,
               false,
               false,
               false,
               false,
               false,
               false,
               false,
               false,
               false,
               false,
               false,
               false,
               false,
               true,
               false,
               false,
               false,
               false,
               false,
               false,
               false,
               false,
               false,
               false,
               false,
               false,
               false,
               false,
               false,
               false,
               false,
               false,
               false,
               false,
               false,
               false,
               false
              ]
             },
             {
              "title": "Urban Population vs Water Stress - 1998"
             }
            ],
            "label": "1998",
            "method": "update"
           },
           {
            "args": [
             {
              "visible": [
               false,
               false,
               false,
               false,
               false,
               false,
               false,
               false,
               false,
               false,
               false,
               false,
               false,
               false,
               false,
               false,
               false,
               false,
               false,
               false,
               false,
               false,
               false,
               false,
               true,
               false,
               false,
               false,
               false,
               false,
               false,
               false,
               false,
               false,
               false,
               false,
               false,
               false,
               false,
               false,
               false,
               false,
               false,
               false,
               false,
               false,
               false
              ]
             },
             {
              "title": "Urban Population vs Water Stress - 1999"
             }
            ],
            "label": "1999",
            "method": "update"
           },
           {
            "args": [
             {
              "visible": [
               false,
               false,
               false,
               false,
               false,
               false,
               false,
               false,
               false,
               false,
               false,
               false,
               false,
               false,
               false,
               false,
               false,
               false,
               false,
               false,
               false,
               false,
               false,
               false,
               false,
               true,
               false,
               false,
               false,
               false,
               false,
               false,
               false,
               false,
               false,
               false,
               false,
               false,
               false,
               false,
               false,
               false,
               false,
               false,
               false,
               false,
               false
              ]
             },
             {
              "title": "Urban Population vs Water Stress - 2000"
             }
            ],
            "label": "2000",
            "method": "update"
           },
           {
            "args": [
             {
              "visible": [
               false,
               false,
               false,
               false,
               false,
               false,
               false,
               false,
               false,
               false,
               false,
               false,
               false,
               false,
               false,
               false,
               false,
               false,
               false,
               false,
               false,
               false,
               false,
               false,
               false,
               false,
               true,
               false,
               false,
               false,
               false,
               false,
               false,
               false,
               false,
               false,
               false,
               false,
               false,
               false,
               false,
               false,
               false,
               false,
               false,
               false,
               false
              ]
             },
             {
              "title": "Urban Population vs Water Stress - 2001"
             }
            ],
            "label": "2001",
            "method": "update"
           },
           {
            "args": [
             {
              "visible": [
               false,
               false,
               false,
               false,
               false,
               false,
               false,
               false,
               false,
               false,
               false,
               false,
               false,
               false,
               false,
               false,
               false,
               false,
               false,
               false,
               false,
               false,
               false,
               false,
               false,
               false,
               false,
               true,
               false,
               false,
               false,
               false,
               false,
               false,
               false,
               false,
               false,
               false,
               false,
               false,
               false,
               false,
               false,
               false,
               false,
               false,
               false
              ]
             },
             {
              "title": "Urban Population vs Water Stress - 2002"
             }
            ],
            "label": "2002",
            "method": "update"
           },
           {
            "args": [
             {
              "visible": [
               false,
               false,
               false,
               false,
               false,
               false,
               false,
               false,
               false,
               false,
               false,
               false,
               false,
               false,
               false,
               false,
               false,
               false,
               false,
               false,
               false,
               false,
               false,
               false,
               false,
               false,
               false,
               false,
               true,
               false,
               false,
               false,
               false,
               false,
               false,
               false,
               false,
               false,
               false,
               false,
               false,
               false,
               false,
               false,
               false,
               false,
               false
              ]
             },
             {
              "title": "Urban Population vs Water Stress - 2003"
             }
            ],
            "label": "2003",
            "method": "update"
           },
           {
            "args": [
             {
              "visible": [
               false,
               false,
               false,
               false,
               false,
               false,
               false,
               false,
               false,
               false,
               false,
               false,
               false,
               false,
               false,
               false,
               false,
               false,
               false,
               false,
               false,
               false,
               false,
               false,
               false,
               false,
               false,
               false,
               false,
               true,
               false,
               false,
               false,
               false,
               false,
               false,
               false,
               false,
               false,
               false,
               false,
               false,
               false,
               false,
               false,
               false,
               false
              ]
             },
             {
              "title": "Urban Population vs Water Stress - 2004"
             }
            ],
            "label": "2004",
            "method": "update"
           },
           {
            "args": [
             {
              "visible": [
               false,
               false,
               false,
               false,
               false,
               false,
               false,
               false,
               false,
               false,
               false,
               false,
               false,
               false,
               false,
               false,
               false,
               false,
               false,
               false,
               false,
               false,
               false,
               false,
               false,
               false,
               false,
               false,
               false,
               false,
               true,
               false,
               false,
               false,
               false,
               false,
               false,
               false,
               false,
               false,
               false,
               false,
               false,
               false,
               false,
               false,
               false
              ]
             },
             {
              "title": "Urban Population vs Water Stress - 2005"
             }
            ],
            "label": "2005",
            "method": "update"
           },
           {
            "args": [
             {
              "visible": [
               false,
               false,
               false,
               false,
               false,
               false,
               false,
               false,
               false,
               false,
               false,
               false,
               false,
               false,
               false,
               false,
               false,
               false,
               false,
               false,
               false,
               false,
               false,
               false,
               false,
               false,
               false,
               false,
               false,
               false,
               false,
               true,
               false,
               false,
               false,
               false,
               false,
               false,
               false,
               false,
               false,
               false,
               false,
               false,
               false,
               false,
               false
              ]
             },
             {
              "title": "Urban Population vs Water Stress - 2006"
             }
            ],
            "label": "2006",
            "method": "update"
           },
           {
            "args": [
             {
              "visible": [
               false,
               false,
               false,
               false,
               false,
               false,
               false,
               false,
               false,
               false,
               false,
               false,
               false,
               false,
               false,
               false,
               false,
               false,
               false,
               false,
               false,
               false,
               false,
               false,
               false,
               false,
               false,
               false,
               false,
               false,
               false,
               false,
               true,
               false,
               false,
               false,
               false,
               false,
               false,
               false,
               false,
               false,
               false,
               false,
               false,
               false,
               false
              ]
             },
             {
              "title": "Urban Population vs Water Stress - 2007"
             }
            ],
            "label": "2007",
            "method": "update"
           },
           {
            "args": [
             {
              "visible": [
               false,
               false,
               false,
               false,
               false,
               false,
               false,
               false,
               false,
               false,
               false,
               false,
               false,
               false,
               false,
               false,
               false,
               false,
               false,
               false,
               false,
               false,
               false,
               false,
               false,
               false,
               false,
               false,
               false,
               false,
               false,
               false,
               false,
               true,
               false,
               false,
               false,
               false,
               false,
               false,
               false,
               false,
               false,
               false,
               false,
               false,
               false
              ]
             },
             {
              "title": "Urban Population vs Water Stress - 2008"
             }
            ],
            "label": "2008",
            "method": "update"
           },
           {
            "args": [
             {
              "visible": [
               false,
               false,
               false,
               false,
               false,
               false,
               false,
               false,
               false,
               false,
               false,
               false,
               false,
               false,
               false,
               false,
               false,
               false,
               false,
               false,
               false,
               false,
               false,
               false,
               false,
               false,
               false,
               false,
               false,
               false,
               false,
               false,
               false,
               false,
               true,
               false,
               false,
               false,
               false,
               false,
               false,
               false,
               false,
               false,
               false,
               false,
               false
              ]
             },
             {
              "title": "Urban Population vs Water Stress - 2009"
             }
            ],
            "label": "2009",
            "method": "update"
           },
           {
            "args": [
             {
              "visible": [
               false,
               false,
               false,
               false,
               false,
               false,
               false,
               false,
               false,
               false,
               false,
               false,
               false,
               false,
               false,
               false,
               false,
               false,
               false,
               false,
               false,
               false,
               false,
               false,
               false,
               false,
               false,
               false,
               false,
               false,
               false,
               false,
               false,
               false,
               false,
               true,
               false,
               false,
               false,
               false,
               false,
               false,
               false,
               false,
               false,
               false,
               false
              ]
             },
             {
              "title": "Urban Population vs Water Stress - 2010"
             }
            ],
            "label": "2010",
            "method": "update"
           },
           {
            "args": [
             {
              "visible": [
               false,
               false,
               false,
               false,
               false,
               false,
               false,
               false,
               false,
               false,
               false,
               false,
               false,
               false,
               false,
               false,
               false,
               false,
               false,
               false,
               false,
               false,
               false,
               false,
               false,
               false,
               false,
               false,
               false,
               false,
               false,
               false,
               false,
               false,
               false,
               false,
               true,
               false,
               false,
               false,
               false,
               false,
               false,
               false,
               false,
               false,
               false
              ]
             },
             {
              "title": "Urban Population vs Water Stress - 2011"
             }
            ],
            "label": "2011",
            "method": "update"
           },
           {
            "args": [
             {
              "visible": [
               false,
               false,
               false,
               false,
               false,
               false,
               false,
               false,
               false,
               false,
               false,
               false,
               false,
               false,
               false,
               false,
               false,
               false,
               false,
               false,
               false,
               false,
               false,
               false,
               false,
               false,
               false,
               false,
               false,
               false,
               false,
               false,
               false,
               false,
               false,
               false,
               false,
               true,
               false,
               false,
               false,
               false,
               false,
               false,
               false,
               false,
               false
              ]
             },
             {
              "title": "Urban Population vs Water Stress - 2012"
             }
            ],
            "label": "2012",
            "method": "update"
           },
           {
            "args": [
             {
              "visible": [
               false,
               false,
               false,
               false,
               false,
               false,
               false,
               false,
               false,
               false,
               false,
               false,
               false,
               false,
               false,
               false,
               false,
               false,
               false,
               false,
               false,
               false,
               false,
               false,
               false,
               false,
               false,
               false,
               false,
               false,
               false,
               false,
               false,
               false,
               false,
               false,
               false,
               false,
               true,
               false,
               false,
               false,
               false,
               false,
               false,
               false,
               false
              ]
             },
             {
              "title": "Urban Population vs Water Stress - 2013"
             }
            ],
            "label": "2013",
            "method": "update"
           },
           {
            "args": [
             {
              "visible": [
               false,
               false,
               false,
               false,
               false,
               false,
               false,
               false,
               false,
               false,
               false,
               false,
               false,
               false,
               false,
               false,
               false,
               false,
               false,
               false,
               false,
               false,
               false,
               false,
               false,
               false,
               false,
               false,
               false,
               false,
               false,
               false,
               false,
               false,
               false,
               false,
               false,
               false,
               false,
               true,
               false,
               false,
               false,
               false,
               false,
               false,
               false
              ]
             },
             {
              "title": "Urban Population vs Water Stress - 2014"
             }
            ],
            "label": "2014",
            "method": "update"
           },
           {
            "args": [
             {
              "visible": [
               false,
               false,
               false,
               false,
               false,
               false,
               false,
               false,
               false,
               false,
               false,
               false,
               false,
               false,
               false,
               false,
               false,
               false,
               false,
               false,
               false,
               false,
               false,
               false,
               false,
               false,
               false,
               false,
               false,
               false,
               false,
               false,
               false,
               false,
               false,
               false,
               false,
               false,
               false,
               false,
               true,
               false,
               false,
               false,
               false,
               false,
               false
              ]
             },
             {
              "title": "Urban Population vs Water Stress - 2015"
             }
            ],
            "label": "2015",
            "method": "update"
           },
           {
            "args": [
             {
              "visible": [
               false,
               false,
               false,
               false,
               false,
               false,
               false,
               false,
               false,
               false,
               false,
               false,
               false,
               false,
               false,
               false,
               false,
               false,
               false,
               false,
               false,
               false,
               false,
               false,
               false,
               false,
               false,
               false,
               false,
               false,
               false,
               false,
               false,
               false,
               false,
               false,
               false,
               false,
               false,
               false,
               false,
               true,
               false,
               false,
               false,
               false,
               false
              ]
             },
             {
              "title": "Urban Population vs Water Stress - 2016"
             }
            ],
            "label": "2016",
            "method": "update"
           },
           {
            "args": [
             {
              "visible": [
               false,
               false,
               false,
               false,
               false,
               false,
               false,
               false,
               false,
               false,
               false,
               false,
               false,
               false,
               false,
               false,
               false,
               false,
               false,
               false,
               false,
               false,
               false,
               false,
               false,
               false,
               false,
               false,
               false,
               false,
               false,
               false,
               false,
               false,
               false,
               false,
               false,
               false,
               false,
               false,
               false,
               false,
               true,
               false,
               false,
               false,
               false
              ]
             },
             {
              "title": "Urban Population vs Water Stress - 2017"
             }
            ],
            "label": "2017",
            "method": "update"
           },
           {
            "args": [
             {
              "visible": [
               false,
               false,
               false,
               false,
               false,
               false,
               false,
               false,
               false,
               false,
               false,
               false,
               false,
               false,
               false,
               false,
               false,
               false,
               false,
               false,
               false,
               false,
               false,
               false,
               false,
               false,
               false,
               false,
               false,
               false,
               false,
               false,
               false,
               false,
               false,
               false,
               false,
               false,
               false,
               false,
               false,
               false,
               false,
               true,
               false,
               false,
               false
              ]
             },
             {
              "title": "Urban Population vs Water Stress - 2018"
             }
            ],
            "label": "2018",
            "method": "update"
           },
           {
            "args": [
             {
              "visible": [
               false,
               false,
               false,
               false,
               false,
               false,
               false,
               false,
               false,
               false,
               false,
               false,
               false,
               false,
               false,
               false,
               false,
               false,
               false,
               false,
               false,
               false,
               false,
               false,
               false,
               false,
               false,
               false,
               false,
               false,
               false,
               false,
               false,
               false,
               false,
               false,
               false,
               false,
               false,
               false,
               false,
               false,
               false,
               false,
               true,
               false,
               false
              ]
             },
             {
              "title": "Urban Population vs Water Stress - 2019"
             }
            ],
            "label": "2019",
            "method": "update"
           },
           {
            "args": [
             {
              "visible": [
               false,
               false,
               false,
               false,
               false,
               false,
               false,
               false,
               false,
               false,
               false,
               false,
               false,
               false,
               false,
               false,
               false,
               false,
               false,
               false,
               false,
               false,
               false,
               false,
               false,
               false,
               false,
               false,
               false,
               false,
               false,
               false,
               false,
               false,
               false,
               false,
               false,
               false,
               false,
               false,
               false,
               false,
               false,
               false,
               false,
               true,
               false
              ]
             },
             {
              "title": "Urban Population vs Water Stress - 2020"
             }
            ],
            "label": "2020",
            "method": "update"
           },
           {
            "args": [
             {
              "visible": [
               false,
               false,
               false,
               false,
               false,
               false,
               false,
               false,
               false,
               false,
               false,
               false,
               false,
               false,
               false,
               false,
               false,
               false,
               false,
               false,
               false,
               false,
               false,
               false,
               false,
               false,
               false,
               false,
               false,
               false,
               false,
               false,
               false,
               false,
               false,
               false,
               false,
               false,
               false,
               false,
               false,
               false,
               false,
               false,
               false,
               false,
               true
              ]
             },
             {
              "title": "Urban Population vs Water Stress - 2021"
             }
            ],
            "label": "2021",
            "method": "update"
           }
          ]
         }
        ],
        "template": {
         "data": {
          "bar": [
           {
            "error_x": {
             "color": "#2a3f5f"
            },
            "error_y": {
             "color": "#2a3f5f"
            },
            "marker": {
             "line": {
              "color": "white",
              "width": 0.5
             },
             "pattern": {
              "fillmode": "overlay",
              "size": 10,
              "solidity": 0.2
             }
            },
            "type": "bar"
           }
          ],
          "barpolar": [
           {
            "marker": {
             "line": {
              "color": "white",
              "width": 0.5
             },
             "pattern": {
              "fillmode": "overlay",
              "size": 10,
              "solidity": 0.2
             }
            },
            "type": "barpolar"
           }
          ],
          "carpet": [
           {
            "aaxis": {
             "endlinecolor": "#2a3f5f",
             "gridcolor": "#C8D4E3",
             "linecolor": "#C8D4E3",
             "minorgridcolor": "#C8D4E3",
             "startlinecolor": "#2a3f5f"
            },
            "baxis": {
             "endlinecolor": "#2a3f5f",
             "gridcolor": "#C8D4E3",
             "linecolor": "#C8D4E3",
             "minorgridcolor": "#C8D4E3",
             "startlinecolor": "#2a3f5f"
            },
            "type": "carpet"
           }
          ],
          "choropleth": [
           {
            "colorbar": {
             "outlinewidth": 0,
             "ticks": ""
            },
            "type": "choropleth"
           }
          ],
          "contour": [
           {
            "colorbar": {
             "outlinewidth": 0,
             "ticks": ""
            },
            "colorscale": [
             [
              0,
              "#0d0887"
             ],
             [
              0.1111111111111111,
              "#46039f"
             ],
             [
              0.2222222222222222,
              "#7201a8"
             ],
             [
              0.3333333333333333,
              "#9c179e"
             ],
             [
              0.4444444444444444,
              "#bd3786"
             ],
             [
              0.5555555555555556,
              "#d8576b"
             ],
             [
              0.6666666666666666,
              "#ed7953"
             ],
             [
              0.7777777777777778,
              "#fb9f3a"
             ],
             [
              0.8888888888888888,
              "#fdca26"
             ],
             [
              1,
              "#f0f921"
             ]
            ],
            "type": "contour"
           }
          ],
          "contourcarpet": [
           {
            "colorbar": {
             "outlinewidth": 0,
             "ticks": ""
            },
            "type": "contourcarpet"
           }
          ],
          "heatmap": [
           {
            "colorbar": {
             "outlinewidth": 0,
             "ticks": ""
            },
            "colorscale": [
             [
              0,
              "#0d0887"
             ],
             [
              0.1111111111111111,
              "#46039f"
             ],
             [
              0.2222222222222222,
              "#7201a8"
             ],
             [
              0.3333333333333333,
              "#9c179e"
             ],
             [
              0.4444444444444444,
              "#bd3786"
             ],
             [
              0.5555555555555556,
              "#d8576b"
             ],
             [
              0.6666666666666666,
              "#ed7953"
             ],
             [
              0.7777777777777778,
              "#fb9f3a"
             ],
             [
              0.8888888888888888,
              "#fdca26"
             ],
             [
              1,
              "#f0f921"
             ]
            ],
            "type": "heatmap"
           }
          ],
          "heatmapgl": [
           {
            "colorbar": {
             "outlinewidth": 0,
             "ticks": ""
            },
            "colorscale": [
             [
              0,
              "#0d0887"
             ],
             [
              0.1111111111111111,
              "#46039f"
             ],
             [
              0.2222222222222222,
              "#7201a8"
             ],
             [
              0.3333333333333333,
              "#9c179e"
             ],
             [
              0.4444444444444444,
              "#bd3786"
             ],
             [
              0.5555555555555556,
              "#d8576b"
             ],
             [
              0.6666666666666666,
              "#ed7953"
             ],
             [
              0.7777777777777778,
              "#fb9f3a"
             ],
             [
              0.8888888888888888,
              "#fdca26"
             ],
             [
              1,
              "#f0f921"
             ]
            ],
            "type": "heatmapgl"
           }
          ],
          "histogram": [
           {
            "marker": {
             "pattern": {
              "fillmode": "overlay",
              "size": 10,
              "solidity": 0.2
             }
            },
            "type": "histogram"
           }
          ],
          "histogram2d": [
           {
            "colorbar": {
             "outlinewidth": 0,
             "ticks": ""
            },
            "colorscale": [
             [
              0,
              "#0d0887"
             ],
             [
              0.1111111111111111,
              "#46039f"
             ],
             [
              0.2222222222222222,
              "#7201a8"
             ],
             [
              0.3333333333333333,
              "#9c179e"
             ],
             [
              0.4444444444444444,
              "#bd3786"
             ],
             [
              0.5555555555555556,
              "#d8576b"
             ],
             [
              0.6666666666666666,
              "#ed7953"
             ],
             [
              0.7777777777777778,
              "#fb9f3a"
             ],
             [
              0.8888888888888888,
              "#fdca26"
             ],
             [
              1,
              "#f0f921"
             ]
            ],
            "type": "histogram2d"
           }
          ],
          "histogram2dcontour": [
           {
            "colorbar": {
             "outlinewidth": 0,
             "ticks": ""
            },
            "colorscale": [
             [
              0,
              "#0d0887"
             ],
             [
              0.1111111111111111,
              "#46039f"
             ],
             [
              0.2222222222222222,
              "#7201a8"
             ],
             [
              0.3333333333333333,
              "#9c179e"
             ],
             [
              0.4444444444444444,
              "#bd3786"
             ],
             [
              0.5555555555555556,
              "#d8576b"
             ],
             [
              0.6666666666666666,
              "#ed7953"
             ],
             [
              0.7777777777777778,
              "#fb9f3a"
             ],
             [
              0.8888888888888888,
              "#fdca26"
             ],
             [
              1,
              "#f0f921"
             ]
            ],
            "type": "histogram2dcontour"
           }
          ],
          "mesh3d": [
           {
            "colorbar": {
             "outlinewidth": 0,
             "ticks": ""
            },
            "type": "mesh3d"
           }
          ],
          "parcoords": [
           {
            "line": {
             "colorbar": {
              "outlinewidth": 0,
              "ticks": ""
             }
            },
            "type": "parcoords"
           }
          ],
          "pie": [
           {
            "automargin": true,
            "type": "pie"
           }
          ],
          "scatter": [
           {
            "fillpattern": {
             "fillmode": "overlay",
             "size": 10,
             "solidity": 0.2
            },
            "type": "scatter"
           }
          ],
          "scatter3d": [
           {
            "line": {
             "colorbar": {
              "outlinewidth": 0,
              "ticks": ""
             }
            },
            "marker": {
             "colorbar": {
              "outlinewidth": 0,
              "ticks": ""
             }
            },
            "type": "scatter3d"
           }
          ],
          "scattercarpet": [
           {
            "marker": {
             "colorbar": {
              "outlinewidth": 0,
              "ticks": ""
             }
            },
            "type": "scattercarpet"
           }
          ],
          "scattergeo": [
           {
            "marker": {
             "colorbar": {
              "outlinewidth": 0,
              "ticks": ""
             }
            },
            "type": "scattergeo"
           }
          ],
          "scattergl": [
           {
            "marker": {
             "colorbar": {
              "outlinewidth": 0,
              "ticks": ""
             }
            },
            "type": "scattergl"
           }
          ],
          "scattermapbox": [
           {
            "marker": {
             "colorbar": {
              "outlinewidth": 0,
              "ticks": ""
             }
            },
            "type": "scattermapbox"
           }
          ],
          "scatterpolar": [
           {
            "marker": {
             "colorbar": {
              "outlinewidth": 0,
              "ticks": ""
             }
            },
            "type": "scatterpolar"
           }
          ],
          "scatterpolargl": [
           {
            "marker": {
             "colorbar": {
              "outlinewidth": 0,
              "ticks": ""
             }
            },
            "type": "scatterpolargl"
           }
          ],
          "scatterternary": [
           {
            "marker": {
             "colorbar": {
              "outlinewidth": 0,
              "ticks": ""
             }
            },
            "type": "scatterternary"
           }
          ],
          "surface": [
           {
            "colorbar": {
             "outlinewidth": 0,
             "ticks": ""
            },
            "colorscale": [
             [
              0,
              "#0d0887"
             ],
             [
              0.1111111111111111,
              "#46039f"
             ],
             [
              0.2222222222222222,
              "#7201a8"
             ],
             [
              0.3333333333333333,
              "#9c179e"
             ],
             [
              0.4444444444444444,
              "#bd3786"
             ],
             [
              0.5555555555555556,
              "#d8576b"
             ],
             [
              0.6666666666666666,
              "#ed7953"
             ],
             [
              0.7777777777777778,
              "#fb9f3a"
             ],
             [
              0.8888888888888888,
              "#fdca26"
             ],
             [
              1,
              "#f0f921"
             ]
            ],
            "type": "surface"
           }
          ],
          "table": [
           {
            "cells": {
             "fill": {
              "color": "#EBF0F8"
             },
             "line": {
              "color": "white"
             }
            },
            "header": {
             "fill": {
              "color": "#C8D4E3"
             },
             "line": {
              "color": "white"
             }
            },
            "type": "table"
           }
          ]
         },
         "layout": {
          "annotationdefaults": {
           "arrowcolor": "#2a3f5f",
           "arrowhead": 0,
           "arrowwidth": 1
          },
          "autotypenumbers": "strict",
          "coloraxis": {
           "colorbar": {
            "outlinewidth": 0,
            "ticks": ""
           }
          },
          "colorscale": {
           "diverging": [
            [
             0,
             "#8e0152"
            ],
            [
             0.1,
             "#c51b7d"
            ],
            [
             0.2,
             "#de77ae"
            ],
            [
             0.3,
             "#f1b6da"
            ],
            [
             0.4,
             "#fde0ef"
            ],
            [
             0.5,
             "#f7f7f7"
            ],
            [
             0.6,
             "#e6f5d0"
            ],
            [
             0.7,
             "#b8e186"
            ],
            [
             0.8,
             "#7fbc41"
            ],
            [
             0.9,
             "#4d9221"
            ],
            [
             1,
             "#276419"
            ]
           ],
           "sequential": [
            [
             0,
             "#0d0887"
            ],
            [
             0.1111111111111111,
             "#46039f"
            ],
            [
             0.2222222222222222,
             "#7201a8"
            ],
            [
             0.3333333333333333,
             "#9c179e"
            ],
            [
             0.4444444444444444,
             "#bd3786"
            ],
            [
             0.5555555555555556,
             "#d8576b"
            ],
            [
             0.6666666666666666,
             "#ed7953"
            ],
            [
             0.7777777777777778,
             "#fb9f3a"
            ],
            [
             0.8888888888888888,
             "#fdca26"
            ],
            [
             1,
             "#f0f921"
            ]
           ],
           "sequentialminus": [
            [
             0,
             "#0d0887"
            ],
            [
             0.1111111111111111,
             "#46039f"
            ],
            [
             0.2222222222222222,
             "#7201a8"
            ],
            [
             0.3333333333333333,
             "#9c179e"
            ],
            [
             0.4444444444444444,
             "#bd3786"
            ],
            [
             0.5555555555555556,
             "#d8576b"
            ],
            [
             0.6666666666666666,
             "#ed7953"
            ],
            [
             0.7777777777777778,
             "#fb9f3a"
            ],
            [
             0.8888888888888888,
             "#fdca26"
            ],
            [
             1,
             "#f0f921"
            ]
           ]
          },
          "colorway": [
           "#636efa",
           "#EF553B",
           "#00cc96",
           "#ab63fa",
           "#FFA15A",
           "#19d3f3",
           "#FF6692",
           "#B6E880",
           "#FF97FF",
           "#FECB52"
          ],
          "font": {
           "color": "#2a3f5f"
          },
          "geo": {
           "bgcolor": "white",
           "lakecolor": "white",
           "landcolor": "white",
           "showlakes": true,
           "showland": true,
           "subunitcolor": "#C8D4E3"
          },
          "hoverlabel": {
           "align": "left"
          },
          "hovermode": "closest",
          "mapbox": {
           "style": "light"
          },
          "paper_bgcolor": "white",
          "plot_bgcolor": "white",
          "polar": {
           "angularaxis": {
            "gridcolor": "#EBF0F8",
            "linecolor": "#EBF0F8",
            "ticks": ""
           },
           "bgcolor": "white",
           "radialaxis": {
            "gridcolor": "#EBF0F8",
            "linecolor": "#EBF0F8",
            "ticks": ""
           }
          },
          "scene": {
           "xaxis": {
            "backgroundcolor": "white",
            "gridcolor": "#DFE8F3",
            "gridwidth": 2,
            "linecolor": "#EBF0F8",
            "showbackground": true,
            "ticks": "",
            "zerolinecolor": "#EBF0F8"
           },
           "yaxis": {
            "backgroundcolor": "white",
            "gridcolor": "#DFE8F3",
            "gridwidth": 2,
            "linecolor": "#EBF0F8",
            "showbackground": true,
            "ticks": "",
            "zerolinecolor": "#EBF0F8"
           },
           "zaxis": {
            "backgroundcolor": "white",
            "gridcolor": "#DFE8F3",
            "gridwidth": 2,
            "linecolor": "#EBF0F8",
            "showbackground": true,
            "ticks": "",
            "zerolinecolor": "#EBF0F8"
           }
          },
          "shapedefaults": {
           "line": {
            "color": "#2a3f5f"
           }
          },
          "ternary": {
           "aaxis": {
            "gridcolor": "#DFE8F3",
            "linecolor": "#A2B1C6",
            "ticks": ""
           },
           "baxis": {
            "gridcolor": "#DFE8F3",
            "linecolor": "#A2B1C6",
            "ticks": ""
           },
           "bgcolor": "white",
           "caxis": {
            "gridcolor": "#DFE8F3",
            "linecolor": "#A2B1C6",
            "ticks": ""
           }
          },
          "title": {
           "x": 0.05
          },
          "xaxis": {
           "automargin": true,
           "gridcolor": "#EBF0F8",
           "linecolor": "#EBF0F8",
           "ticks": "",
           "title": {
            "standoff": 15
           },
           "zerolinecolor": "#EBF0F8",
           "zerolinewidth": 2
          },
          "yaxis": {
           "automargin": true,
           "gridcolor": "#EBF0F8",
           "linecolor": "#EBF0F8",
           "ticks": "",
           "title": {
            "standoff": 15
           },
           "zerolinecolor": "#EBF0F8",
           "zerolinewidth": 2
          }
         }
        },
        "title": {
         "text": "Urban Population vs Water Stress - 1975"
        },
        "xaxis": {
         "range": [
          15017273,
          882894483
         ],
         "title": {
          "text": "Urban Population (people)"
         },
         "type": "linear"
        },
        "yaxis": {
         "range": [
          1.4641127257,
          162.069811668
         ],
         "title": {
          "text": "Water Stress"
         },
         "type": "linear"
        }
       }
      },
      "image/png": "[encoded data removed]",
      "text/html": [
       "<div>                            <div id=\"d1bcd2b5-5c57-48c5-91ac-730ae796d803\" class=\"plotly-graph-div\" style=\"height:600px; width:100%;\"></div>            <script type=\"text/javascript\">                require([\"plotly\"], function(Plotly) {                    window.PLOTLYENV=window.PLOTLYENV || {};                                    if (document.getElementById(\"d1bcd2b5-5c57-48c5-91ac-730ae796d803\")) {                    Plotly.newPlot(                        \"d1bcd2b5-5c57-48c5-91ac-730ae796d803\",                        [{\"hovertemplate\":\"Country Name: %{text}\\u003cbr\\u003eUrban Pop: %{x}\\u003cbr\\u003eWater Stress: %{y}\",\"marker\":{\"color\":[\"red\",\"red\"],\"opacity\":0.7,\"size\":10},\"mode\":\"markers+text\",\"name\":\"1975\",\"text\":[\"India\",\"Pakistan\"],\"textposition\":\"top center\",\"visible\":true,\"x\":[130404550.0,18296768.0],\"y\":[39.022386527,94.0850254586],\"type\":\"scatter\"},{\"hovertemplate\":\"Country Name: %{text}\\u003cbr\\u003eUrban Pop: %{x}\\u003cbr\\u003eWater Stress: %{y}\",\"marker\":{\"color\":[\"red\",\"red\"],\"opacity\":0.7,\"size\":10},\"mode\":\"markers+text\",\"name\":\"1976\",\"text\":[\"India\",\"Pakistan\"],\"textposition\":\"top center\",\"visible\":false,\"x\":[135668080.0,19109000.0],\"y\":[40.2207845554,94.1706030305],\"type\":\"scatter\"},{\"hovertemplate\":\"Country Name: %{text}\\u003cbr\\u003eUrban Pop: %{x}\\u003cbr\\u003eWater Stress: %{y}\",\"marker\":{\"color\":[\"red\",\"red\"],\"opacity\":0.7,\"size\":10},\"mode\":\"markers+text\",\"name\":\"1977\",\"text\":[\"India\",\"Pakistan\"],\"textposition\":\"top center\",\"visible\":false,\"x\":[141142851.0,19970491.0],\"y\":[41.4191825837,94.2561806024],\"type\":\"scatter\"},{\"hovertemplate\":\"Country Name: %{text}\\u003cbr\\u003eUrban Pop: %{x}\\u003cbr\\u003eWater Stress: %{y}\",\"marker\":{\"color\":[\"red\",\"red\"],\"opacity\":0.7,\"size\":10},\"mode\":\"markers+text\",\"name\":\"1978\",\"text\":[\"India\",\"Pakistan\"],\"textposition\":\"top center\",\"visible\":false,\"x\":[146745420.0,20883803.0],\"y\":[42.617580612,94.3417581743],\"type\":\"scatter\"},{\"hovertemplate\":\"Country Name: %{text}\\u003cbr\\u003eUrban Pop: %{x}\\u003cbr\\u003eWater Stress: %{y}\",\"marker\":{\"color\":[\"red\",\"red\"],\"opacity\":0.7,\"size\":10},\"mode\":\"markers+text\",\"name\":\"1979\",\"text\":[\"India\",\"Pakistan\"],\"textposition\":\"top center\",\"visible\":false,\"x\":[152593971.0,21894029.0],\"y\":[43.8159786404,94.4273357463],\"type\":\"scatter\"},{\"hovertemplate\":\"Country Name: %{text}\\u003cbr\\u003eUrban Pop: %{x}\\u003cbr\\u003eWater Stress: %{y}\",\"marker\":{\"color\":[\"red\",\"red\",\"blue\",\"red\",\"blue\",\"blue\"],\"opacity\":0.7,\"size\":10},\"mode\":\"markers+text\",\"name\":\"1980\",\"text\":[\"China\",\"India\",\"Japan\",\"Pakistan\",\"United Kingdom\",\"United States\"],\"textposition\":\"top center\",\"visible\":false,\"x\":[189947471.0,158765033.0,88977732.0,23095795.0,44195960.0,167551171.0],\"y\":[32.405311053,45.0143766687,40.5517241379,94.5129133182,22.9838022165,32.8010139417],\"type\":\"scatter\"},{\"hovertemplate\":\"Country Name: %{text}\\u003cbr\\u003eUrban Pop: %{x}\\u003cbr\\u003eWater Stress: %{y}\",\"marker\":{\"color\":[\"red\",\"red\",\"blue\",\"red\",\"blue\",\"blue\"],\"opacity\":0.7,\"size\":10},\"mode\":\"markers+text\",\"name\":\"1981\",\"text\":[\"China\",\"India\",\"Japan\",\"Pakistan\",\"United Kingdom\",\"United States\"],\"textposition\":\"top center\",\"visible\":false,\"x\":[199949784.0,164784551.0,89743575.0,24350622.0,44271630.0,169552427.0],\"y\":[33.0175209243,46.2127746971,40.6803065134,94.5984908901,22.3086104007,32.4683143219],\"type\":\"scatter\"},{\"hovertemplate\":\"Country Name: %{text}\\u003cbr\\u003eUrban Pop: %{x}\\u003cbr\\u003eWater Stress: %{y}\",\"marker\":{\"color\":[\"red\",\"red\",\"blue\",\"red\",\"blue\",\"blue\"],\"opacity\":0.7,\"size\":10},\"mode\":\"markers+text\",\"name\":\"1982\",\"text\":[\"China\",\"India\",\"Japan\",\"Pakistan\",\"United Kingdom\",\"United States\"],\"textposition\":\"top center\",\"visible\":false,\"x\":[210823843.0,170332527.0,90498578.0,25496451.0,44228171.0,171528659.0],\"y\":[33.6297307956,47.4111727254,40.8088888889,94.6840684621,21.6334185848,32.1356147022],\"type\":\"scatter\"},{\"hovertemplate\":\"Country Name: %{text}\\u003cbr\\u003eUrban Pop: %{x}\\u003cbr\\u003eWater Stress: %{y}\",\"marker\":{\"color\":[\"red\",\"red\",\"blue\",\"red\",\"blue\",\"blue\"],\"opacity\":0.7,\"size\":10},\"mode\":\"markers+text\",\"name\":\"1983\",\"text\":[\"China\",\"India\",\"Japan\",\"Pakistan\",\"United Kingdom\",\"United States\"],\"textposition\":\"top center\",\"visible\":false,\"x\":[220472140.0,176077222.0,91261504.0,26615995.0,44215089.0,173459636.0],\"y\":[34.2419406669,48.6095707537,40.9374712644,94.769646034,20.958226769,31.8029150824],\"type\":\"scatter\"},{\"hovertemplate\":\"Country Name: %{text}\\u003cbr\\u003eUrban Pop: %{x}\\u003cbr\\u003eWater Stress: %{y}\",\"marker\":{\"color\":[\"red\",\"red\",\"blue\",\"red\",\"blue\",\"blue\"],\"opacity\":0.7,\"size\":10},\"mode\":\"markers+text\",\"name\":\"1984\",\"text\":[\"China\",\"India\",\"Japan\",\"Pakistan\",\"United Kingdom\",\"United States\"],\"textposition\":\"top center\",\"visible\":false,\"x\":[230206255.0,182023117.0,91987180.0,27693948.0,44257473.0,175321738.0],\"y\":[34.8541505383,49.8079687821,41.0660536398,94.8552236059,20.2830349531,31.4702154626],\"type\":\"scatter\"},{\"hovertemplate\":\"Country Name: %{text}\\u003cbr\\u003eUrban Pop: %{x}\\u003cbr\\u003eWater Stress: %{y}\",\"marker\":{\"color\":[\"red\",\"red\",\"blue\",\"red\",\"blue\",\"blue\"],\"opacity\":0.7,\"size\":10},\"mode\":\"markers+text\",\"name\":\"1985\",\"text\":[\"China\",\"India\",\"Japan\",\"Pakistan\",\"United Kingdom\",\"United States\"],\"textposition\":\"top center\",\"visible\":false,\"x\":[240414890.0,188124285.0,92696479.0,28824401.0,44329755.0,177239105.0],\"y\":[35.1338718394,51.0063668104,41.1946360153,94.9408011778,19.6078431373,31.1375158428],\"type\":\"scatter\"},{\"hovertemplate\":\"Country Name: %{text}\\u003cbr\\u003eUrban Pop: %{x}\\u003cbr\\u003eWater Stress: %{y}\",\"marker\":{\"color\":[\"red\",\"red\",\"blue\",\"red\",\"blue\",\"blue\"],\"opacity\":0.7,\"size\":10},\"mode\":\"markers+text\",\"name\":\"1986\",\"text\":[\"China\",\"India\",\"Japan\",\"Pakistan\",\"United Kingdom\",\"United States\"],\"textposition\":\"top center\",\"visible\":false,\"x\":[251325056.0,194391131.0,93340695.0,30063409.0,44404206.0,179244877.0],\"y\":[35.4105257008,51.0741425344,41.3232183908,95.0263787498,19.7851662404,30.8048162231],\"type\":\"scatter\"},{\"hovertemplate\":\"Country Name: %{text}\\u003cbr\\u003eUrban Pop: %{x}\\u003cbr\\u003eWater Stress: %{y}\",\"marker\":{\"color\":[\"red\",\"red\",\"red\",\"blue\",\"red\",\"red\",\"blue\",\"blue\"],\"opacity\":0.7,\"size\":10},\"mode\":\"markers+text\",\"name\":\"1987\",\"text\":[\"Brazil\",\"China\",\"India\",\"Japan\",\"Nigeria\",\"Pakistan\",\"United Kingdom\",\"United States\"],\"textposition\":\"top center\",\"visible\":false,\"x\":[100930955.0,262976051.0,200801009.0,93946744.0,24377010.0,31363647.0,44470325.0,181215212.0],\"y\":[1.6567375887,35.6871795621,51.1419182584,41.4518007663,4.3333333333,95.1119563217,19.9624893436,30.4721166033],\"type\":\"scatter\"},{\"hovertemplate\":\"Country Name: %{text}\\u003cbr\\u003eUrban Pop: %{x}\\u003cbr\\u003eWater Stress: %{y}\",\"marker\":{\"color\":[\"red\",\"red\",\"red\",\"blue\",\"red\",\"red\",\"blue\",\"blue\"],\"opacity\":0.7,\"size\":10},\"mode\":\"markers+text\",\"name\":\"1988\",\"text\":[\"Brazil\",\"China\",\"India\",\"Japan\",\"Nigeria\",\"Pakistan\",\"United Kingdom\",\"United States\"],\"textposition\":\"top center\",\"visible\":false,\"x\":[104046863.0,275121076.0,207356974.0,94492929.0,25783109.0,32704401.0,44540723.0,183232441.0],\"y\":[1.7607039664,35.9638334234,51.2096939823,41.5803831418,4.6143709004,95.1975338936,20.1398124467,30.1394169835],\"type\":\"scatter\"},{\"hovertemplate\":\"Country Name: %{text}\\u003cbr\\u003eUrban Pop: %{x}\\u003cbr\\u003eWater Stress: %{y}\",\"marker\":{\"color\":[\"red\",\"red\",\"red\",\"blue\",\"red\",\"red\",\"blue\",\"blue\"],\"opacity\":0.7,\"size\":10},\"mode\":\"markers+text\",\"name\":\"1989\",\"text\":[\"Brazil\",\"China\",\"India\",\"Japan\",\"Nigeria\",\"Pakistan\",\"United Kingdom\",\"United States\"],\"textposition\":\"top center\",\"visible\":false,\"x\":[107150809.0,287504237.0,214090303.0,95025267.0,27264635.0,34068329.0,44628280.0,185333919.0],\"y\":[1.8646703441,36.2404872847,51.2774697063,41.7089655172,4.8957662493,95.2831114656,20.3171355499,29.8067173638],\"type\":\"scatter\"},{\"hovertemplate\":\"Country Name: %{text}\\u003cbr\\u003eUrban Pop: %{x}\\u003cbr\\u003eWater Stress: %{y}\",\"marker\":{\"color\":[\"red\",\"red\",\"red\",\"blue\",\"red\",\"red\",\"blue\",\"blue\"],\"opacity\":0.7,\"size\":10},\"mode\":\"markers+text\",\"name\":\"1990\",\"text\":[\"Brazil\",\"China\",\"India\",\"Japan\",\"Nigeria\",\"Pakistan\",\"United Kingdom\",\"United States\"],\"textposition\":\"top center\",\"visible\":false,\"x\":[110249653.0,300165618.0,220974453.0,95496650.0,28825491.0,35515729.0,44733264.0,187966119.0],\"y\":[1.9686367218,36.5171411461,51.3452454303,41.8375478927,5.1746571258,95.3686890375,20.494458653,29.474017744],\"type\":\"scatter\"},{\"hovertemplate\":\"Country Name: %{text}\\u003cbr\\u003eUrban Pop: %{x}\\u003cbr\\u003eWater Stress: %{y}\",\"marker\":{\"color\":[\"red\",\"red\",\"blue\",\"red\",\"blue\",\"red\",\"red\",\"blue\",\"blue\"],\"opacity\":0.7,\"size\":10},\"mode\":\"markers+text\",\"name\":\"1991\",\"text\":[\"Brazil\",\"China\",\"Germany\",\"India\",\"Japan\",\"Nigeria\",\"Pakistan\",\"United Kingdom\",\"United States\"],\"textposition\":\"top center\",\"visible\":false,\"x\":[113322847.0,314301034.0,58625381.0,227858857.0,96038630.0,30091556.0,37009821.0,44855736.0,191509147.0],\"y\":[2.0726030996,37.1354980695,63.4210526316,52.4789433148,41.9302681992,5.4558735838,95.4542666094,20.5183290708,29.5278833967],\"type\":\"scatter\"},{\"hovertemplate\":\"Country Name: %{text}\\u003cbr\\u003eUrban Pop: %{x}\\u003cbr\\u003eWater Stress: %{y}\",\"marker\":{\"color\":[\"red\",\"red\",\"blue\",\"red\",\"blue\",\"red\",\"red\",\"blue\",\"blue\"],\"opacity\":0.7,\"size\":10},\"mode\":\"markers+text\",\"name\":\"1992\",\"text\":[\"Brazil\",\"China\",\"Germany\",\"India\",\"Japan\",\"Nigeria\",\"Pakistan\",\"United Kingdom\",\"United States\"],\"textposition\":\"top center\",\"visible\":false,\"x\":[116391291.0,328521540.0,59146205.0,234624365.0,96566243.0,31404895.0,38394654.0,45011752.0,195199459.0],\"y\":[2.1776201734,37.7538549929,68.4600977248,53.6126411994,42.0229885057,5.7370900417,96.6102965735,20.5421994885,29.5817490494],\"type\":\"scatter\"},{\"hovertemplate\":\"Country Name: %{text}\\u003cbr\\u003eUrban Pop: %{x}\\u003cbr\\u003eWater Stress: %{y}\",\"marker\":{\"color\":[\"blue\",\"red\",\"red\",\"blue\",\"red\",\"blue\",\"red\",\"red\",\"blue\",\"blue\"],\"opacity\":0.7,\"size\":10},\"mode\":\"markers+text\",\"name\":\"1993\",\"text\":[\"Australia\",\"Brazil\",\"China\",\"Germany\",\"India\",\"Japan\",\"Nigeria\",\"Pakistan\",\"United Kingdom\",\"United States\"],\"textposition\":\"top center\",\"visible\":false,\"x\":[15017273.0,119447677.0,342961393.0,59647492.0,241512027.0,97049554.0,32779164.0,39794132.0,45154426.0,198806845.0],\"y\":[7.4588661037,2.2817966903,38.3722119163,67.8995874178,54.746339084,41.6367816092,6.0183064997,97.7663265376,20.5660699062,29.6356147022],\"type\":\"scatter\"},{\"hovertemplate\":\"Country Name: %{text}\\u003cbr\\u003eUrban Pop: %{x}\\u003cbr\\u003eWater Stress: %{y}\",\"marker\":{\"color\":[\"blue\",\"red\",\"red\",\"blue\",\"red\",\"blue\",\"red\",\"red\",\"blue\",\"blue\"],\"opacity\":0.7,\"size\":10},\"mode\":\"markers+text\",\"name\":\"1994\",\"text\":[\"Australia\",\"Brazil\",\"China\",\"Germany\",\"India\",\"Japan\",\"Nigeria\",\"Pakistan\",\"United Kingdom\",\"United States\"],\"textposition\":\"top center\",\"visible\":false,\"x\":[15139633.0,122479568.0,357836540.0,60028206.0,248457823.0,97489878.0,34205907.0,41292860.0,45304828.0,202278113.0],\"y\":[8.4882187374,2.3859732072,38.6382653732,67.4341050164,55.8800369686,41.2505747126,6.2995229577,98.9223565016,20.589940324,29.6894803549],\"type\":\"scatter\"},{\"hovertemplate\":\"Country Name: %{text}\\u003cbr\\u003eUrban Pop: %{x}\\u003cbr\\u003eWater Stress: %{y}\",\"marker\":{\"color\":[\"blue\",\"red\",\"red\",\"blue\",\"red\",\"blue\",\"red\",\"red\",\"blue\",\"blue\"],\"opacity\":0.7,\"size\":10},\"mode\":\"markers+text\",\"name\":\"1995\",\"text\":[\"Australia\",\"Brazil\",\"China\",\"Germany\",\"India\",\"Japan\",\"Nigeria\",\"Pakistan\",\"United Kingdom\",\"United States\"],\"textposition\":\"top center\",\"visible\":false,\"x\":[15285785.0,125522590.0,373035157.0,60378049.0,255507299.0,97888236.0,35689397.0,42845606.0,45459651.0,205718394.0],\"y\":[7.981584238,2.4901497242,38.9043188301,66.928297903,57.0137348532,40.8459770115,6.5807394156,100.0783864657,20.6138107417,29.7433460076],\"type\":\"scatter\"},{\"hovertemplate\":\"Country Name: %{text}\\u003cbr\\u003eUrban Pop: %{x}\\u003cbr\\u003eWater Stress: %{y}\",\"marker\":{\"color\":[\"blue\",\"red\",\"red\",\"blue\",\"red\",\"blue\",\"red\",\"red\",\"blue\",\"blue\"],\"opacity\":0.7,\"size\":10},\"mode\":\"markers+text\",\"name\":\"1996\",\"text\":[\"Australia\",\"Brazil\",\"China\",\"Germany\",\"India\",\"Japan\",\"Nigeria\",\"Pakistan\",\"United Kingdom\",\"United States\"],\"textposition\":\"top center\",\"visible\":false,\"x\":[15448588.0,128573880.0,388593258.0,60725922.0,262720372.0,98272808.0,37226251.0,44465742.0,45610451.0,209146726.0],\"y\":[8.9104141536,2.5924349882,39.170372287,65.4675927632,58.1474327377,40.9264367816,6.8619558736,101.2344164298,20.7481515927,29.7972116603],\"type\":\"scatter\"},{\"hovertemplate\":\"Country Name: %{text}\\u003cbr\\u003eUrban Pop: %{x}\\u003cbr\\u003eWater Stress: %{y}\",\"marker\":{\"color\":[\"blue\",\"red\",\"red\",\"blue\",\"red\",\"blue\",\"red\",\"red\",\"blue\",\"blue\"],\"opacity\":0.7,\"size\":10},\"mode\":\"markers+text\",\"name\":\"1997\",\"text\":[\"Australia\",\"Brazil\",\"China\",\"Germany\",\"India\",\"Japan\",\"Nigeria\",\"Pakistan\",\"United Kingdom\",\"United States\"],\"textposition\":\"top center\",\"visible\":false,\"x\":[15592522.0,131742708.0,404485562.0,60986289.0,270045873.0,98667335.0,38817466.0,46106188.0,45762480.0,212694273.0],\"y\":[8.8171290712,2.6077541371,39.436425744,64.9434523575,59.2811306223,41.0068965517,7.1437090042,102.3904463939,20.8824924436,29.8510773131],\"type\":\"scatter\"},{\"hovertemplate\":\"Country Name: %{text}\\u003cbr\\u003eUrban Pop: %{x}\\u003cbr\\u003eWater Stress: %{y}\",\"marker\":{\"color\":[\"blue\",\"red\",\"red\",\"blue\",\"red\",\"blue\",\"red\",\"red\",\"blue\",\"blue\"],\"opacity\":0.7,\"size\":10},\"mode\":\"markers+text\",\"name\":\"1998\",\"text\":[\"Australia\",\"Brazil\",\"China\",\"Germany\",\"India\",\"Japan\",\"Nigeria\",\"Pakistan\",\"United Kingdom\",\"United States\"],\"textposition\":\"top center\",\"visible\":false,\"x\":[15723967.0,134957264.0,420606126.0,61167004.0,277484368.0,99095072.0,40475675.0,47744310.0,45931122.0,216206090.0],\"y\":[8.7745074387,2.6230732861,39.7024792009,62.7833549479,60.4148285069,41.1923371648,7.4243887895,103.546476358,21.0168332946,29.9049429658],\"type\":\"scatter\"},{\"hovertemplate\":\"Country Name: %{text}\\u003cbr\\u003eUrban Pop: %{x}\\u003cbr\\u003eWater Stress: %{y}\",\"marker\":{\"color\":[\"blue\",\"red\",\"red\",\"blue\",\"red\",\"blue\",\"red\",\"red\",\"blue\",\"blue\"],\"opacity\":0.7,\"size\":10},\"mode\":\"markers+text\",\"name\":\"1999\",\"text\":[\"Australia\",\"Brazil\",\"China\",\"Germany\",\"India\",\"Japan\",\"Nigeria\",\"Pakistan\",\"United Kingdom\",\"United States\"],\"textposition\":\"top center\",\"visible\":false,\"x\":[15871907.0,138164576.0,436766058.0,61376500.0,285024135.0,99434460.0,42210153.0,49359848.0,46119137.0,219721677.0],\"y\":[8.7318858062,2.638392435,39.9685326578,62.1855864172,61.5485263915,41.3777777778,7.7057841383,104.702506322,21.1511741455,29.9588086185],\"type\":\"scatter\"},{\"hovertemplate\":\"Country Name: %{text}\\u003cbr\\u003eUrban Pop: %{x}\\u003cbr\\u003eWater Stress: %{y}\",\"marker\":{\"color\":[\"blue\",\"red\",\"red\",\"blue\",\"red\",\"blue\",\"red\",\"red\",\"blue\",\"blue\"],\"opacity\":0.7,\"size\":10},\"mode\":\"markers+text\",\"name\":\"2000\",\"text\":[\"Australia\",\"Brazil\",\"China\",\"Germany\",\"India\",\"Japan\",\"Nigeria\",\"Pakistan\",\"United Kingdom\",\"United States\"],\"textposition\":\"top center\",\"visible\":false,\"x\":[16028911.0,141288924.0,452999147.0,61629857.0,292695483.0,99760751.0,44031661.0,51082234.0,46319551.0,223069137.0],\"y\":[8.7089827101,2.6529550827,40.2345861147,61.5231338816,62.682224276,41.5632183908,7.9868217054,105.8585362861,21.2855149965,30.0063371356],\"type\":\"scatter\"},{\"hovertemplate\":\"Country Name: %{text}\\u003cbr\\u003eUrban Pop: %{x}\\u003cbr\\u003eWater Stress: %{y}\",\"marker\":{\"color\":[\"blue\",\"red\",\"red\",\"blue\",\"red\",\"blue\",\"red\",\"red\",\"blue\",\"blue\"],\"opacity\":0.7,\"size\":10},\"mode\":\"markers+text\",\"name\":\"2001\",\"text\":[\"Australia\",\"Brazil\",\"China\",\"Germany\",\"India\",\"Japan\",\"Nigeria\",\"Pakistan\",\"United Kingdom\",\"United States\"],\"textposition\":\"top center\",\"visible\":false,\"x\":[16210024.0,143778920.0,471767321.0,61902439.0,300927724.0,101706485.0,46320689.0,52846087.0,46557334.0,225792302.0],\"y\":[8.6586248492,2.6680851064,40.2813280554,61.3018708882,64.2287420415,40.1954022989,8.1834108527,106.6411569842,21.4198558475,30.0760456274],\"type\":\"scatter\"},{\"hovertemplate\":\"Country Name: %{text}\\u003cbr\\u003eUrban Pop: %{x}\\u003cbr\\u003eWater Stress: %{y}\",\"marker\":{\"color\":[\"blue\",\"red\",\"red\",\"blue\",\"red\",\"blue\",\"red\",\"red\",\"blue\",\"blue\"],\"opacity\":0.7,\"size\":10},\"mode\":\"markers+text\",\"name\":\"2002\",\"text\":[\"Australia\",\"Brazil\",\"China\",\"Germany\",\"India\",\"Japan\",\"Nigeria\",\"Pakistan\",\"United Kingdom\",\"United States\"],\"textposition\":\"top center\",\"visible\":false,\"x\":[16419256.0,146158653.0,491993700.0,62174878.0,310006251.0,104055019.0,48727954.0,54483687.0,46930583.0,228400290.0],\"y\":[8.3770808203,2.68321513,40.3280699961,60.9343188048,65.7752598069,38.8275862069,8.38,107.4237776824,21.5541966984,30.1394169835],\"type\":\"scatter\"},{\"hovertemplate\":\"Country Name: %{text}\\u003cbr\\u003eUrban Pop: %{x}\\u003cbr\\u003eWater Stress: %{y}\",\"marker\":{\"color\":[\"blue\",\"red\",\"red\",\"blue\",\"red\",\"blue\",\"red\",\"red\",\"blue\",\"blue\"],\"opacity\":0.7,\"size\":10},\"mode\":\"markers+text\",\"name\":\"2003\",\"text\":[\"Australia\",\"Brazil\",\"China\",\"Germany\",\"India\",\"Japan\",\"Nigeria\",\"Pakistan\",\"United Kingdom\",\"United States\"],\"textposition\":\"top center\",\"visible\":false,\"x\":[16633061.0,148477268.0,512473984.0,62376854.0,319092955.0,106256267.0,51253420.0,56115621.0,47323791.0,230876596.0],\"y\":[8.0955367913,2.6983451537,40.3748119367,58.8622313596,67.3217775724,38.6712643678,8.5765891473,108.2063983805,21.6885375494,30.2027883397],\"type\":\"scatter\"},{\"hovertemplate\":\"Country Name: %{text}\\u003cbr\\u003eUrban Pop: %{x}\\u003cbr\\u003eWater Stress: %{y}\",\"marker\":{\"color\":[\"blue\",\"red\",\"red\",\"blue\",\"red\",\"blue\",\"red\",\"red\",\"blue\",\"blue\"],\"opacity\":0.7,\"size\":10},\"mode\":\"markers+text\",\"name\":\"2004\",\"text\":[\"Australia\",\"Brazil\",\"China\",\"Germany\",\"India\",\"Japan\",\"Nigeria\",\"Pakistan\",\"United Kingdom\",\"United States\"],\"textposition\":\"top center\",\"visible\":false,\"x\":[16835775.0,150745355.0,533257098.0,62529997.0,328335627.0,108136910.0,53900718.0,57862124.0,47767769.0,233532722.0],\"y\":[7.8139927624,2.7134751773,40.4215538774,56.9447861842,64.2061716985,38.5149425287,8.7731782946,108.9890190786,21.8228784004,30.2661596958],\"type\":\"scatter\"},{\"hovertemplate\":\"Country Name: %{text}\\u003cbr\\u003eUrban Pop: %{x}\\u003cbr\\u003eWater Stress: %{y}\",\"marker\":{\"color\":[\"blue\",\"red\",\"red\",\"blue\",\"red\",\"blue\",\"red\",\"red\",\"blue\",\"blue\"],\"opacity\":0.7,\"size\":10},\"mode\":\"markers+text\",\"name\":\"2005\",\"text\":[\"Australia\",\"Brazil\",\"China\",\"Germany\",\"India\",\"Japan\",\"Nigeria\",\"Pakistan\",\"United Kingdom\",\"United States\"],\"textposition\":\"top center\",\"visible\":false,\"x\":[17065978.0,152984542.0,554367818.0,62660267.0,337569623.0,109856670.0,56664041.0,59622511.0,48269624.0,236200507.0],\"y\":[7.5324487334,2.7286052009,40.4682958181,55.287205318,64.5871585541,38.3586206897,8.9697674419,109.7716397767,21.9572192513,30.329531052],\"type\":\"scatter\"},{\"hovertemplate\":\"Country Name: %{text}\\u003cbr\\u003eUrban Pop: %{x}\\u003cbr\\u003eWater Stress: %{y}\",\"marker\":{\"color\":[\"blue\",\"red\",\"red\",\"blue\",\"red\",\"blue\",\"red\",\"red\",\"blue\",\"blue\"],\"opacity\":0.7,\"size\":10},\"mode\":\"markers+text\",\"name\":\"2006\",\"text\":[\"Australia\",\"Brazil\",\"China\",\"Germany\",\"India\",\"Japan\",\"Nigeria\",\"Pakistan\",\"United Kingdom\",\"United States\"],\"textposition\":\"top center\",\"visible\":false,\"x\":[17321968.0,155188992.0,575118254.0,62753557.0,346808559.0,111383848.0,59545960.0,61422731.0,48798541.0,238999326.0],\"y\":[7.0593687173,2.7437352246,41.4834723419,54.4576123904,64.9681454097,38.2022988506,9.1094573643,110.6941291945,22.0915601023,29.5716096324],\"type\":\"scatter\"},{\"hovertemplate\":\"Country Name: %{text}\\u003cbr\\u003eUrban Pop: %{x}\\u003cbr\\u003eWater Stress: %{y}\",\"marker\":{\"color\":[\"blue\",\"red\",\"red\",\"blue\",\"red\",\"blue\",\"red\",\"red\",\"blue\",\"blue\"],\"opacity\":0.7,\"size\":10},\"mode\":\"markers+text\",\"name\":\"2007\",\"text\":[\"Australia\",\"Brazil\",\"China\",\"Germany\",\"India\",\"Japan\",\"Nigeria\",\"Pakistan\",\"United Kingdom\",\"United States\"],\"textposition\":\"top center\",\"visible\":false,\"x\":[17666406.0,157343140.0,595670841.0,62833410.0,356083571.0,112827761.0,62562163.0,63441687.0,49351705.0,241795278.0],\"y\":[6.5862887012,2.9418439716,41.5345963395,44.2091557018,65.3491322654,38.0459770115,9.2491472868,111.6166186124,14.5149190111,28.8136882129],\"type\":\"scatter\"},{\"hovertemplate\":\"Country Name: %{text}\\u003cbr\\u003eUrban Pop: %{x}\\u003cbr\\u003eWater Stress: %{y}\",\"marker\":{\"color\":[\"blue\",\"red\",\"red\",\"blue\",\"red\",\"blue\",\"red\",\"red\",\"blue\",\"blue\"],\"opacity\":0.7,\"size\":10},\"mode\":\"markers+text\",\"name\":\"2008\",\"text\":[\"Australia\",\"Brazil\",\"China\",\"Germany\",\"India\",\"Japan\",\"Nigeria\",\"Pakistan\",\"United Kingdom\",\"United States\"],\"textposition\":\"top center\",\"visible\":false,\"x\":[18049707.0,159430712.0,616481190.0,62875807.0,365350799.0,114107975.0,65720273.0,65547743.0,49913475.0,244607104.0],\"y\":[6.1132086852,3.1395271868,42.0750500285,53.2747341009,65.730119121,37.6947126437,9.3888372093,112.569780995,14.231884058,28.0557667934],\"type\":\"scatter\"},{\"hovertemplate\":\"Country Name: %{text}\\u003cbr\\u003eUrban Pop: %{x}\\u003cbr\\u003eWater Stress: %{y}\",\"marker\":{\"color\":[\"blue\",\"red\",\"red\",\"blue\",\"red\",\"blue\",\"red\",\"red\",\"blue\",\"blue\"],\"opacity\":0.7,\"size\":10},\"mode\":\"markers+text\",\"name\":\"2009\",\"text\":[\"Australia\",\"Brazil\",\"China\",\"Germany\",\"India\",\"Japan\",\"Nigeria\",\"Pakistan\",\"United Kingdom\",\"United States\"],\"textposition\":\"top center\",\"visible\":false,\"x\":[18451571.0,161431674.0,637407288.0,62877220.0,374851256.0,115228215.0,69013626.0,67629427.0,50463084.0,247276259.0],\"y\":[5.6401286691,3.337393617,42.5935934328,54.396875,66.1111059766,37.3434482759,9.5285271318,112.3182626833,14.1193520887,27.2978453739],\"type\":\"scatter\"},{\"hovertemplate\":\"Country Name: %{text}\\u003cbr\\u003eUrban Pop: %{x}\\u003cbr\\u003eWater Stress: %{y}\",\"marker\":{\"color\":[\"blue\",\"red\",\"red\",\"blue\",\"red\",\"blue\",\"red\",\"red\",\"blue\",\"blue\"],\"opacity\":0.7,\"size\":10},\"mode\":\"markers+text\",\"name\":\"2010\",\"text\":[\"Australia\",\"Brazil\",\"China\",\"Germany\",\"India\",\"Japan\",\"Nigeria\",\"Pakistan\",\"United Kingdom\",\"United States\"],\"textposition\":\"top center\",\"visible\":false,\"x\":[18767085.0,163358522.0,658498663.0,62940432.0,384608848.0,116302928.0,72456327.0,69727689.0,51030310.0,249849720.0],\"y\":[5.2975472457,3.5352600473,42.8587078775,45.2179276316,66.4920928322,37.2434811166,9.6682170543,113.6617385436,14.0903665814,26.5335868188],\"type\":\"scatter\"},{\"hovertemplate\":\"Country Name: %{text}\\u003cbr\\u003eUrban Pop: %{x}\\u003cbr\\u003eWater Stress: %{y}\",\"marker\":{\"color\":[\"blue\",\"red\",\"red\",\"blue\",\"red\",\"blue\",\"red\",\"red\",\"blue\",\"blue\"],\"opacity\":0.7,\"size\":10},\"mode\":\"markers+text\",\"name\":\"2011\",\"text\":[\"Australia\",\"Brazil\",\"China\",\"Germany\",\"India\",\"Japan\",\"Nigeria\",\"Pakistan\",\"United Kingdom\",\"United States\"],\"textposition\":\"top center\",\"visible\":false,\"x\":[19056040.0,165271423.0,679390629.0,61940177.0,394460717.0,116416235.0,76034272.0,71722690.0,51600211.0,252208133.0],\"y\":[5.3136308806,3.419178487,43.4553979638,49.9216036184,66.4920928322,37.1435139573,9.6682170543,110.1036746212,13.1031543052,26.8643360174],\"type\":\"scatter\"},{\"hovertemplate\":\"Country Name: %{text}\\u003cbr\\u003eUrban Pop: %{x}\\u003cbr\\u003eWater Stress: %{y}\",\"marker\":{\"color\":[\"blue\",\"red\",\"red\",\"blue\",\"red\",\"blue\",\"red\",\"red\",\"blue\",\"blue\"],\"opacity\":0.7,\"size\":10},\"mode\":\"markers+text\",\"name\":\"2012\",\"text\":[\"Australia\",\"Brazil\",\"China\",\"Germany\",\"India\",\"Japan\",\"Nigeria\",\"Pakistan\",\"United Kingdom\",\"United States\"],\"textposition\":\"top center\",\"visible\":false,\"x\":[19414834.0,167193100.0,700996454.0,62064608.0,404495892.0,116331281.0,79723735.0,73530776.0,52130345.0,254614421.0],\"y\":[6.3803779654,3.3030969267,43.7329282365,46.1172436952,66.4920928322,37.043546798,9.6682170543,115.2567327158,13.6692242114,27.1887480805],\"type\":\"scatter\"},{\"hovertemplate\":\"Country Name: %{text}\\u003cbr\\u003eUrban Pop: %{x}\\u003cbr\\u003eWater Stress: %{y}\",\"marker\":{\"color\":[\"blue\",\"red\",\"red\",\"blue\",\"red\",\"blue\",\"red\",\"red\",\"blue\",\"blue\"],\"opacity\":0.7,\"size\":10},\"mode\":\"markers+text\",\"name\":\"2013\",\"text\":[\"Australia\",\"Brazil\",\"China\",\"Germany\",\"India\",\"Japan\",\"Nigeria\",\"Pakistan\",\"United Kingdom\",\"United States\"],\"textposition\":\"top center\",\"visible\":false,\"x\":[19775013.0,169121374.0,722694421.0,62242278.0,414704318.0,116262976.0,83496382.0,75169776.0,52650595.0,256953576.0],\"y\":[7.6992360273,3.1870153664,44.0250653657,34.7121710526,66.4920928322,36.9435796388,9.6682170543,112.569780995,13.0451832907,27.5131601435],\"type\":\"scatter\"},{\"hovertemplate\":\"Country Name: %{text}\\u003cbr\\u003eUrban Pop: %{x}\\u003cbr\\u003eWater Stress: %{y}\",\"marker\":{\"color\":[\"blue\",\"red\",\"red\",\"blue\",\"red\",\"blue\",\"red\",\"red\",\"blue\",\"blue\"],\"opacity\":0.7,\"size\":10},\"mode\":\"markers+text\",\"name\":\"2014\",\"text\":[\"Australia\",\"Brazil\",\"China\",\"Germany\",\"India\",\"Japan\",\"Nigeria\",\"Pakistan\",\"United Kingdom\",\"United States\"],\"textposition\":\"top center\",\"visible\":false,\"x\":[20095657.0,171056777.0,744357517.0,62510392.0,424967846.0,116208079.0,87338089.0,76747454.0,53209683.0,259430732.0],\"y\":[7.4238037797,3.0743262411,43.3385431121,42.911310307,66.4920928322,36.8436124795,9.6682170543,119.5448132016,12.42114237,27.8375722066],\"type\":\"scatter\"},{\"hovertemplate\":\"Country Name: %{text}\\u003cbr\\u003eUrban Pop: %{x}\\u003cbr\\u003eWater Stress: %{y}\",\"marker\":{\"color\":[\"blue\",\"red\",\"red\",\"blue\",\"red\",\"blue\",\"red\",\"red\",\"blue\",\"blue\"],\"opacity\":0.7,\"size\":10},\"mode\":\"markers+text\",\"name\":\"2015\",\"text\":[\"Australia\",\"Brazil\",\"China\",\"Germany\",\"India\",\"Japan\",\"Nigeria\",\"Pakistan\",\"United Kingdom\",\"United States\"],\"textposition\":\"top center\",\"visible\":false,\"x\":[20410546.0,172977104.0,765822300.0,63062064.0,435286590.0,116182717.0,91213613.0,78281214.0,53802927.0,261950744.0],\"y\":[3.7072778448,3.0193853428,43.2216882605,40.8900836075,66.4920928322,36.7436453202,9.6682170543,120.7901355745,13.9130434783,28.1619842696],\"type\":\"scatter\"},{\"hovertemplate\":\"Country Name: %{text}\\u003cbr\\u003eUrban Pop: %{x}\\u003cbr\\u003eWater Stress: %{y}\",\"marker\":{\"color\":[\"blue\",\"red\",\"red\",\"blue\",\"red\",\"blue\",\"red\",\"red\",\"blue\",\"blue\"],\"opacity\":0.7,\"size\":10},\"mode\":\"markers+text\",\"name\":\"2016\",\"text\":[\"Australia\",\"Brazil\",\"China\",\"Germany\",\"India\",\"Japan\",\"Nigeria\",\"Pakistan\",\"United Kingdom\",\"United States\"],\"textposition\":\"top center\",\"visible\":false,\"x\":[20755798.0,174852930.0,787376534.0,63592936.0,445947596.0,116219897.0,95147856.0,79765118.0,54382825.0,264473000.0],\"y\":[4.271411339,3.1352245863,44.1141671901,33.5019188596,66.4920928322,36.6436781609,9.6682170543,122.5507637568,14.3546462063,28.1619842696],\"type\":\"scatter\"},{\"hovertemplate\":\"Country Name: %{text}\\u003cbr\\u003eUrban Pop: %{x}\\u003cbr\\u003eWater Stress: %{y}\",\"marker\":{\"color\":[\"blue\",\"red\",\"red\",\"blue\",\"red\",\"blue\",\"red\",\"red\",\"blue\",\"blue\"],\"opacity\":0.7,\"size\":10},\"mode\":\"markers+text\",\"name\":\"2017\",\"text\":[\"Australia\",\"Brazil\",\"China\",\"Germany\",\"India\",\"Japan\",\"Nigeria\",\"Pakistan\",\"United Kingdom\",\"United States\"],\"textposition\":\"top center\",\"visible\":false,\"x\":[21126017.0,176677496.0,809246214.0,63861626.0,456844886.0,116223820.0,99164065.0,81365499.0,54923317.0,266788716.0],\"y\":[4.8486696301,3.1054373522,43.5444997882,38.0323519737,66.4920928322,36.4597701149,9.6682170543,122.6734556162,14.3546462063,28.1619842696],\"type\":\"scatter\"},{\"hovertemplate\":\"Country Name: %{text}\\u003cbr\\u003eUrban Pop: %{x}\\u003cbr\\u003eWater Stress: %{y}\",\"marker\":{\"color\":[\"blue\",\"red\",\"red\",\"blue\",\"red\",\"blue\",\"red\",\"red\",\"blue\",\"blue\"],\"opacity\":0.7,\"size\":10},\"mode\":\"markers+text\",\"name\":\"2018\",\"text\":[\"Australia\",\"Brazil\",\"China\",\"Germany\",\"India\",\"Japan\",\"Nigeria\",\"Pakistan\",\"United Kingdom\",\"United States\"],\"textposition\":\"top center\",\"visible\":false,\"x\":[21471397.0,178424995.0,829760595.0,64096118.0,467796479.0,116179166.0,103174367.0,83205748.0,55426598.0,268844029.0],\"y\":[4.9577804584,1.4641127257,43.3027563138,36.8984841009,66.4920928322,36.367816092,9.6682170543,118.2381448991,14.3546462063,28.1619842696],\"type\":\"scatter\"},{\"hovertemplate\":\"Country Name: %{text}\\u003cbr\\u003eUrban Pop: %{x}\\u003cbr\\u003eWater Stress: %{y}\",\"marker\":{\"color\":[\"blue\",\"red\",\"red\",\"blue\",\"red\",\"blue\",\"red\",\"red\",\"blue\",\"blue\"],\"opacity\":0.7,\"size\":10},\"mode\":\"markers+text\",\"name\":\"2019\",\"text\":[\"Australia\",\"Brazil\",\"China\",\"Germany\",\"India\",\"Japan\",\"Nigeria\",\"Pakistan\",\"United Kingdom\",\"United States\"],\"textposition\":\"top center\",\"visible\":false,\"x\":[21819366.0,180121128.0,848982855.0,64294010.0,478826529.0,116119928.0,107166569.0,85181688.0,55909924.0,270737596.0],\"y\":[4.246079614,1.4848084544,43.9754020537,35.3516570724,66.4920928322,36.0459770115,9.6682170543,108.6497760874,14.3546462063,28.1619842696],\"type\":\"scatter\"},{\"hovertemplate\":\"Country Name: %{text}\\u003cbr\\u003eUrban Pop: %{x}\\u003cbr\\u003eWater Stress: %{y}\",\"marker\":{\"color\":[\"blue\",\"red\",\"red\",\"blue\",\"red\",\"blue\",\"red\",\"red\",\"blue\",\"blue\"],\"opacity\":0.7,\"size\":10},\"mode\":\"markers+text\",\"name\":\"2020\",\"text\":[\"Australia\",\"Brazil\",\"China\",\"Germany\",\"India\",\"Japan\",\"Nigeria\",\"Pakistan\",\"United Kingdom\",\"United States\"],\"textposition\":\"top center\",\"visible\":false,\"x\":[22120168.0,181687255.0,866810508.0,64410589.0,489878256.0,115884871.0,111188136.0,87338399.0,56283168.0,274053424.0],\"y\":[3.4861278649,1.4793042712,41.5185287974,35.3516570724,66.4920928322,36.0459770115,9.6682170543,116.3057481136,14.3546462063,28.1619842696],\"type\":\"scatter\"},{\"hovertemplate\":\"Country Name: %{text}\\u003cbr\\u003eUrban Pop: %{x}\\u003cbr\\u003eWater Stress: %{y}\",\"marker\":{\"color\":[\"blue\",\"red\",\"red\",\"blue\",\"red\",\"blue\",\"red\",\"red\",\"blue\",\"blue\"],\"opacity\":0.7,\"size\":10},\"mode\":\"markers+text\",\"name\":\"2021\",\"text\":[\"Australia\",\"Brazil\",\"China\",\"Germany\",\"India\",\"Japan\",\"Nigeria\",\"Pakistan\",\"United Kingdom\",\"United States\"],\"textposition\":\"top center\",\"visible\":false,\"x\":[22182436.0,182973030.0,882894483.0,64513567.0,500529185.0,115459909.0,115265457.0,89660489.0,56403965.0,275178949.0],\"y\":[4.5999195818,1.4819462792,41.5185287974,35.3516570724,66.4920928322,36.0459770115,9.6682170543,162.069811668,14.3546462063,28.1619842696],\"type\":\"scatter\"}],                        {\"template\":{\"data\":{\"barpolar\":[{\"marker\":{\"line\":{\"color\":\"white\",\"width\":0.5},\"pattern\":{\"fillmode\":\"overlay\",\"size\":10,\"solidity\":0.2}},\"type\":\"barpolar\"}],\"bar\":[{\"error_x\":{\"color\":\"#2a3f5f\"},\"error_y\":{\"color\":\"#2a3f5f\"},\"marker\":{\"line\":{\"color\":\"white\",\"width\":0.5},\"pattern\":{\"fillmode\":\"overlay\",\"size\":10,\"solidity\":0.2}},\"type\":\"bar\"}],\"carpet\":[{\"aaxis\":{\"endlinecolor\":\"#2a3f5f\",\"gridcolor\":\"#C8D4E3\",\"linecolor\":\"#C8D4E3\",\"minorgridcolor\":\"#C8D4E3\",\"startlinecolor\":\"#2a3f5f\"},\"baxis\":{\"endlinecolor\":\"#2a3f5f\",\"gridcolor\":\"#C8D4E3\",\"linecolor\":\"#C8D4E3\",\"minorgridcolor\":\"#C8D4E3\",\"startlinecolor\":\"#2a3f5f\"},\"type\":\"carpet\"}],\"choropleth\":[{\"colorbar\":{\"outlinewidth\":0,\"ticks\":\"\"},\"type\":\"choropleth\"}],\"contourcarpet\":[{\"colorbar\":{\"outlinewidth\":0,\"ticks\":\"\"},\"type\":\"contourcarpet\"}],\"contour\":[{\"colorbar\":{\"outlinewidth\":0,\"ticks\":\"\"},\"colorscale\":[[0.0,\"#0d0887\"],[0.1111111111111111,\"#46039f\"],[0.2222222222222222,\"#7201a8\"],[0.3333333333333333,\"#9c179e\"],[0.4444444444444444,\"#bd3786\"],[0.5555555555555556,\"#d8576b\"],[0.6666666666666666,\"#ed7953\"],[0.7777777777777778,\"#fb9f3a\"],[0.8888888888888888,\"#fdca26\"],[1.0,\"#f0f921\"]],\"type\":\"contour\"}],\"heatmapgl\":[{\"colorbar\":{\"outlinewidth\":0,\"ticks\":\"\"},\"colorscale\":[[0.0,\"#0d0887\"],[0.1111111111111111,\"#46039f\"],[0.2222222222222222,\"#7201a8\"],[0.3333333333333333,\"#9c179e\"],[0.4444444444444444,\"#bd3786\"],[0.5555555555555556,\"#d8576b\"],[0.6666666666666666,\"#ed7953\"],[0.7777777777777778,\"#fb9f3a\"],[0.8888888888888888,\"#fdca26\"],[1.0,\"#f0f921\"]],\"type\":\"heatmapgl\"}],\"heatmap\":[{\"colorbar\":{\"outlinewidth\":0,\"ticks\":\"\"},\"colorscale\":[[0.0,\"#0d0887\"],[0.1111111111111111,\"#46039f\"],[0.2222222222222222,\"#7201a8\"],[0.3333333333333333,\"#9c179e\"],[0.4444444444444444,\"#bd3786\"],[0.5555555555555556,\"#d8576b\"],[0.6666666666666666,\"#ed7953\"],[0.7777777777777778,\"#fb9f3a\"],[0.8888888888888888,\"#fdca26\"],[1.0,\"#f0f921\"]],\"type\":\"heatmap\"}],\"histogram2dcontour\":[{\"colorbar\":{\"outlinewidth\":0,\"ticks\":\"\"},\"colorscale\":[[0.0,\"#0d0887\"],[0.1111111111111111,\"#46039f\"],[0.2222222222222222,\"#7201a8\"],[0.3333333333333333,\"#9c179e\"],[0.4444444444444444,\"#bd3786\"],[0.5555555555555556,\"#d8576b\"],[0.6666666666666666,\"#ed7953\"],[0.7777777777777778,\"#fb9f3a\"],[0.8888888888888888,\"#fdca26\"],[1.0,\"#f0f921\"]],\"type\":\"histogram2dcontour\"}],\"histogram2d\":[{\"colorbar\":{\"outlinewidth\":0,\"ticks\":\"\"},\"colorscale\":[[0.0,\"#0d0887\"],[0.1111111111111111,\"#46039f\"],[0.2222222222222222,\"#7201a8\"],[0.3333333333333333,\"#9c179e\"],[0.4444444444444444,\"#bd3786\"],[0.5555555555555556,\"#d8576b\"],[0.6666666666666666,\"#ed7953\"],[0.7777777777777778,\"#fb9f3a\"],[0.8888888888888888,\"#fdca26\"],[1.0,\"#f0f921\"]],\"type\":\"histogram2d\"}],\"histogram\":[{\"marker\":{\"pattern\":{\"fillmode\":\"overlay\",\"size\":10,\"solidity\":0.2}},\"type\":\"histogram\"}],\"mesh3d\":[{\"colorbar\":{\"outlinewidth\":0,\"ticks\":\"\"},\"type\":\"mesh3d\"}],\"parcoords\":[{\"line\":{\"colorbar\":{\"outlinewidth\":0,\"ticks\":\"\"}},\"type\":\"parcoords\"}],\"pie\":[{\"automargin\":true,\"type\":\"pie\"}],\"scatter3d\":[{\"line\":{\"colorbar\":{\"outlinewidth\":0,\"ticks\":\"\"}},\"marker\":{\"colorbar\":{\"outlinewidth\":0,\"ticks\":\"\"}},\"type\":\"scatter3d\"}],\"scattercarpet\":[{\"marker\":{\"colorbar\":{\"outlinewidth\":0,\"ticks\":\"\"}},\"type\":\"scattercarpet\"}],\"scattergeo\":[{\"marker\":{\"colorbar\":{\"outlinewidth\":0,\"ticks\":\"\"}},\"type\":\"scattergeo\"}],\"scattergl\":[{\"marker\":{\"colorbar\":{\"outlinewidth\":0,\"ticks\":\"\"}},\"type\":\"scattergl\"}],\"scattermapbox\":[{\"marker\":{\"colorbar\":{\"outlinewidth\":0,\"ticks\":\"\"}},\"type\":\"scattermapbox\"}],\"scatterpolargl\":[{\"marker\":{\"colorbar\":{\"outlinewidth\":0,\"ticks\":\"\"}},\"type\":\"scatterpolargl\"}],\"scatterpolar\":[{\"marker\":{\"colorbar\":{\"outlinewidth\":0,\"ticks\":\"\"}},\"type\":\"scatterpolar\"}],\"scatter\":[{\"fillpattern\":{\"fillmode\":\"overlay\",\"size\":10,\"solidity\":0.2},\"type\":\"scatter\"}],\"scatterternary\":[{\"marker\":{\"colorbar\":{\"outlinewidth\":0,\"ticks\":\"\"}},\"type\":\"scatterternary\"}],\"surface\":[{\"colorbar\":{\"outlinewidth\":0,\"ticks\":\"\"},\"colorscale\":[[0.0,\"#0d0887\"],[0.1111111111111111,\"#46039f\"],[0.2222222222222222,\"#7201a8\"],[0.3333333333333333,\"#9c179e\"],[0.4444444444444444,\"#bd3786\"],[0.5555555555555556,\"#d8576b\"],[0.6666666666666666,\"#ed7953\"],[0.7777777777777778,\"#fb9f3a\"],[0.8888888888888888,\"#fdca26\"],[1.0,\"#f0f921\"]],\"type\":\"surface\"}],\"table\":[{\"cells\":{\"fill\":{\"color\":\"#EBF0F8\"},\"line\":{\"color\":\"white\"}},\"header\":{\"fill\":{\"color\":\"#C8D4E3\"},\"line\":{\"color\":\"white\"}},\"type\":\"table\"}]},\"layout\":{\"annotationdefaults\":{\"arrowcolor\":\"#2a3f5f\",\"arrowhead\":0,\"arrowwidth\":1},\"autotypenumbers\":\"strict\",\"coloraxis\":{\"colorbar\":{\"outlinewidth\":0,\"ticks\":\"\"}},\"colorscale\":{\"diverging\":[[0,\"#8e0152\"],[0.1,\"#c51b7d\"],[0.2,\"#de77ae\"],[0.3,\"#f1b6da\"],[0.4,\"#fde0ef\"],[0.5,\"#f7f7f7\"],[0.6,\"#e6f5d0\"],[0.7,\"#b8e186\"],[0.8,\"#7fbc41\"],[0.9,\"#4d9221\"],[1,\"#276419\"]],\"sequential\":[[0.0,\"#0d0887\"],[0.1111111111111111,\"#46039f\"],[0.2222222222222222,\"#7201a8\"],[0.3333333333333333,\"#9c179e\"],[0.4444444444444444,\"#bd3786\"],[0.5555555555555556,\"#d8576b\"],[0.6666666666666666,\"#ed7953\"],[0.7777777777777778,\"#fb9f3a\"],[0.8888888888888888,\"#fdca26\"],[1.0,\"#f0f921\"]],\"sequentialminus\":[[0.0,\"#0d0887\"],[0.1111111111111111,\"#46039f\"],[0.2222222222222222,\"#7201a8\"],[0.3333333333333333,\"#9c179e\"],[0.4444444444444444,\"#bd3786\"],[0.5555555555555556,\"#d8576b\"],[0.6666666666666666,\"#ed7953\"],[0.7777777777777778,\"#fb9f3a\"],[0.8888888888888888,\"#fdca26\"],[1.0,\"#f0f921\"]]},\"colorway\":[\"#636efa\",\"#EF553B\",\"#00cc96\",\"#ab63fa\",\"#FFA15A\",\"#19d3f3\",\"#FF6692\",\"#B6E880\",\"#FF97FF\",\"#FECB52\"],\"font\":{\"color\":\"#2a3f5f\"},\"geo\":{\"bgcolor\":\"white\",\"lakecolor\":\"white\",\"landcolor\":\"white\",\"showlakes\":true,\"showland\":true,\"subunitcolor\":\"#C8D4E3\"},\"hoverlabel\":{\"align\":\"left\"},\"hovermode\":\"closest\",\"mapbox\":{\"style\":\"light\"},\"paper_bgcolor\":\"white\",\"plot_bgcolor\":\"white\",\"polar\":{\"angularaxis\":{\"gridcolor\":\"#EBF0F8\",\"linecolor\":\"#EBF0F8\",\"ticks\":\"\"},\"bgcolor\":\"white\",\"radialaxis\":{\"gridcolor\":\"#EBF0F8\",\"linecolor\":\"#EBF0F8\",\"ticks\":\"\"}},\"scene\":{\"xaxis\":{\"backgroundcolor\":\"white\",\"gridcolor\":\"#DFE8F3\",\"gridwidth\":2,\"linecolor\":\"#EBF0F8\",\"showbackground\":true,\"ticks\":\"\",\"zerolinecolor\":\"#EBF0F8\"},\"yaxis\":{\"backgroundcolor\":\"white\",\"gridcolor\":\"#DFE8F3\",\"gridwidth\":2,\"linecolor\":\"#EBF0F8\",\"showbackground\":true,\"ticks\":\"\",\"zerolinecolor\":\"#EBF0F8\"},\"zaxis\":{\"backgroundcolor\":\"white\",\"gridcolor\":\"#DFE8F3\",\"gridwidth\":2,\"linecolor\":\"#EBF0F8\",\"showbackground\":true,\"ticks\":\"\",\"zerolinecolor\":\"#EBF0F8\"}},\"shapedefaults\":{\"line\":{\"color\":\"#2a3f5f\"}},\"ternary\":{\"aaxis\":{\"gridcolor\":\"#DFE8F3\",\"linecolor\":\"#A2B1C6\",\"ticks\":\"\"},\"baxis\":{\"gridcolor\":\"#DFE8F3\",\"linecolor\":\"#A2B1C6\",\"ticks\":\"\"},\"bgcolor\":\"white\",\"caxis\":{\"gridcolor\":\"#DFE8F3\",\"linecolor\":\"#A2B1C6\",\"ticks\":\"\"}},\"title\":{\"x\":0.05},\"xaxis\":{\"automargin\":true,\"gridcolor\":\"#EBF0F8\",\"linecolor\":\"#EBF0F8\",\"ticks\":\"\",\"title\":{\"standoff\":15},\"zerolinecolor\":\"#EBF0F8\",\"zerolinewidth\":2},\"yaxis\":{\"automargin\":true,\"gridcolor\":\"#EBF0F8\",\"linecolor\":\"#EBF0F8\",\"ticks\":\"\",\"title\":{\"standoff\":15},\"zerolinecolor\":\"#EBF0F8\",\"zerolinewidth\":2}}},\"xaxis\":{\"title\":{\"text\":\"Urban Population (people)\"},\"range\":[15017273.0,882894483.0]},\"yaxis\":{\"title\":{\"text\":\"Water Stress\"},\"range\":[1.4641127257,162.069811668]},\"sliders\":[{\"active\":0,\"currentvalue\":{\"prefix\":\"Year: \"},\"pad\":{\"t\":50},\"steps\":[{\"args\":[{\"visible\":[true,false,false,false,false,false,false,false,false,false,false,false,false,false,false,false,false,false,false,false,false,false,false,false,false,false,false,false,false,false,false,false,false,false,false,false,false,false,false,false,false,false,false,false,false,false,false]},{\"title\":\"Urban Population vs Water Stress - 1975\"}],\"label\":\"1975\",\"method\":\"update\"},{\"args\":[{\"visible\":[false,true,false,false,false,false,false,false,false,false,false,false,false,false,false,false,false,false,false,false,false,false,false,false,false,false,false,false,false,false,false,false,false,false,false,false,false,false,false,false,false,false,false,false,false,false,false]},{\"title\":\"Urban Population vs Water Stress - 1976\"}],\"label\":\"1976\",\"method\":\"update\"},{\"args\":[{\"visible\":[false,false,true,false,false,false,false,false,false,false,false,false,false,false,false,false,false,false,false,false,false,false,false,false,false,false,false,false,false,false,false,false,false,false,false,false,false,false,false,false,false,false,false,false,false,false,false]},{\"title\":\"Urban Population vs Water Stress - 1977\"}],\"label\":\"1977\",\"method\":\"update\"},{\"args\":[{\"visible\":[false,false,false,true,false,false,false,false,false,false,false,false,false,false,false,false,false,false,false,false,false,false,false,false,false,false,false,false,false,false,false,false,false,false,false,false,false,false,false,false,false,false,false,false,false,false,false]},{\"title\":\"Urban Population vs Water Stress - 1978\"}],\"label\":\"1978\",\"method\":\"update\"},{\"args\":[{\"visible\":[false,false,false,false,true,false,false,false,false,false,false,false,false,false,false,false,false,false,false,false,false,false,false,false,false,false,false,false,false,false,false,false,false,false,false,false,false,false,false,false,false,false,false,false,false,false,false]},{\"title\":\"Urban Population vs Water Stress - 1979\"}],\"label\":\"1979\",\"method\":\"update\"},{\"args\":[{\"visible\":[false,false,false,false,false,true,false,false,false,false,false,false,false,false,false,false,false,false,false,false,false,false,false,false,false,false,false,false,false,false,false,false,false,false,false,false,false,false,false,false,false,false,false,false,false,false,false]},{\"title\":\"Urban Population vs Water Stress - 1980\"}],\"label\":\"1980\",\"method\":\"update\"},{\"args\":[{\"visible\":[false,false,false,false,false,false,true,false,false,false,false,false,false,false,false,false,false,false,false,false,false,false,false,false,false,false,false,false,false,false,false,false,false,false,false,false,false,false,false,false,false,false,false,false,false,false,false]},{\"title\":\"Urban Population vs Water Stress - 1981\"}],\"label\":\"1981\",\"method\":\"update\"},{\"args\":[{\"visible\":[false,false,false,false,false,false,false,true,false,false,false,false,false,false,false,false,false,false,false,false,false,false,false,false,false,false,false,false,false,false,false,false,false,false,false,false,false,false,false,false,false,false,false,false,false,false,false]},{\"title\":\"Urban Population vs Water Stress - 1982\"}],\"label\":\"1982\",\"method\":\"update\"},{\"args\":[{\"visible\":[false,false,false,false,false,false,false,false,true,false,false,false,false,false,false,false,false,false,false,false,false,false,false,false,false,false,false,false,false,false,false,false,false,false,false,false,false,false,false,false,false,false,false,false,false,false,false]},{\"title\":\"Urban Population vs Water Stress - 1983\"}],\"label\":\"1983\",\"method\":\"update\"},{\"args\":[{\"visible\":[false,false,false,false,false,false,false,false,false,true,false,false,false,false,false,false,false,false,false,false,false,false,false,false,false,false,false,false,false,false,false,false,false,false,false,false,false,false,false,false,false,false,false,false,false,false,false]},{\"title\":\"Urban Population vs Water Stress - 1984\"}],\"label\":\"1984\",\"method\":\"update\"},{\"args\":[{\"visible\":[false,false,false,false,false,false,false,false,false,false,true,false,false,false,false,false,false,false,false,false,false,false,false,false,false,false,false,false,false,false,false,false,false,false,false,false,false,false,false,false,false,false,false,false,false,false,false]},{\"title\":\"Urban Population vs Water Stress - 1985\"}],\"label\":\"1985\",\"method\":\"update\"},{\"args\":[{\"visible\":[false,false,false,false,false,false,false,false,false,false,false,true,false,false,false,false,false,false,false,false,false,false,false,false,false,false,false,false,false,false,false,false,false,false,false,false,false,false,false,false,false,false,false,false,false,false,false]},{\"title\":\"Urban Population vs Water Stress - 1986\"}],\"label\":\"1986\",\"method\":\"update\"},{\"args\":[{\"visible\":[false,false,false,false,false,false,false,false,false,false,false,false,true,false,false,false,false,false,false,false,false,false,false,false,false,false,false,false,false,false,false,false,false,false,false,false,false,false,false,false,false,false,false,false,false,false,false]},{\"title\":\"Urban Population vs Water Stress - 1987\"}],\"label\":\"1987\",\"method\":\"update\"},{\"args\":[{\"visible\":[false,false,false,false,false,false,false,false,false,false,false,false,false,true,false,false,false,false,false,false,false,false,false,false,false,false,false,false,false,false,false,false,false,false,false,false,false,false,false,false,false,false,false,false,false,false,false]},{\"title\":\"Urban Population vs Water Stress - 1988\"}],\"label\":\"1988\",\"method\":\"update\"},{\"args\":[{\"visible\":[false,false,false,false,false,false,false,false,false,false,false,false,false,false,true,false,false,false,false,false,false,false,false,false,false,false,false,false,false,false,false,false,false,false,false,false,false,false,false,false,false,false,false,false,false,false,false]},{\"title\":\"Urban Population vs Water Stress - 1989\"}],\"label\":\"1989\",\"method\":\"update\"},{\"args\":[{\"visible\":[false,false,false,false,false,false,false,false,false,false,false,false,false,false,false,true,false,false,false,false,false,false,false,false,false,false,false,false,false,false,false,false,false,false,false,false,false,false,false,false,false,false,false,false,false,false,false]},{\"title\":\"Urban Population vs Water Stress - 1990\"}],\"label\":\"1990\",\"method\":\"update\"},{\"args\":[{\"visible\":[false,false,false,false,false,false,false,false,false,false,false,false,false,false,false,false,true,false,false,false,false,false,false,false,false,false,false,false,false,false,false,false,false,false,false,false,false,false,false,false,false,false,false,false,false,false,false]},{\"title\":\"Urban Population vs Water Stress - 1991\"}],\"label\":\"1991\",\"method\":\"update\"},{\"args\":[{\"visible\":[false,false,false,false,false,false,false,false,false,false,false,false,false,false,false,false,false,true,false,false,false,false,false,false,false,false,false,false,false,false,false,false,false,false,false,false,false,false,false,false,false,false,false,false,false,false,false]},{\"title\":\"Urban Population vs Water Stress - 1992\"}],\"label\":\"1992\",\"method\":\"update\"},{\"args\":[{\"visible\":[false,false,false,false,false,false,false,false,false,false,false,false,false,false,false,false,false,false,true,false,false,false,false,false,false,false,false,false,false,false,false,false,false,false,false,false,false,false,false,false,false,false,false,false,false,false,false]},{\"title\":\"Urban Population vs Water Stress - 1993\"}],\"label\":\"1993\",\"method\":\"update\"},{\"args\":[{\"visible\":[false,false,false,false,false,false,false,false,false,false,false,false,false,false,false,false,false,false,false,true,false,false,false,false,false,false,false,false,false,false,false,false,false,false,false,false,false,false,false,false,false,false,false,false,false,false,false]},{\"title\":\"Urban Population vs Water Stress - 1994\"}],\"label\":\"1994\",\"method\":\"update\"},{\"args\":[{\"visible\":[false,false,false,false,false,false,false,false,false,false,false,false,false,false,false,false,false,false,false,false,true,false,false,false,false,false,false,false,false,false,false,false,false,false,false,false,false,false,false,false,false,false,false,false,false,false,false]},{\"title\":\"Urban Population vs Water Stress - 1995\"}],\"label\":\"1995\",\"method\":\"update\"},{\"args\":[{\"visible\":[false,false,false,false,false,false,false,false,false,false,false,false,false,false,false,false,false,false,false,false,false,true,false,false,false,false,false,false,false,false,false,false,false,false,false,false,false,false,false,false,false,false,false,false,false,false,false]},{\"title\":\"Urban Population vs Water Stress - 1996\"}],\"label\":\"1996\",\"method\":\"update\"},{\"args\":[{\"visible\":[false,false,false,false,false,false,false,false,false,false,false,false,false,false,false,false,false,false,false,false,false,false,true,false,false,false,false,false,false,false,false,false,false,false,false,false,false,false,false,false,false,false,false,false,false,false,false]},{\"title\":\"Urban Population vs Water Stress - 1997\"}],\"label\":\"1997\",\"method\":\"update\"},{\"args\":[{\"visible\":[false,false,false,false,false,false,false,false,false,false,false,false,false,false,false,false,false,false,false,false,false,false,false,true,false,false,false,false,false,false,false,false,false,false,false,false,false,false,false,false,false,false,false,false,false,false,false]},{\"title\":\"Urban Population vs Water Stress - 1998\"}],\"label\":\"1998\",\"method\":\"update\"},{\"args\":[{\"visible\":[false,false,false,false,false,false,false,false,false,false,false,false,false,false,false,false,false,false,false,false,false,false,false,false,true,false,false,false,false,false,false,false,false,false,false,false,false,false,false,false,false,false,false,false,false,false,false]},{\"title\":\"Urban Population vs Water Stress - 1999\"}],\"label\":\"1999\",\"method\":\"update\"},{\"args\":[{\"visible\":[false,false,false,false,false,false,false,false,false,false,false,false,false,false,false,false,false,false,false,false,false,false,false,false,false,true,false,false,false,false,false,false,false,false,false,false,false,false,false,false,false,false,false,false,false,false,false]},{\"title\":\"Urban Population vs Water Stress - 2000\"}],\"label\":\"2000\",\"method\":\"update\"},{\"args\":[{\"visible\":[false,false,false,false,false,false,false,false,false,false,false,false,false,false,false,false,false,false,false,false,false,false,false,false,false,false,true,false,false,false,false,false,false,false,false,false,false,false,false,false,false,false,false,false,false,false,false]},{\"title\":\"Urban Population vs Water Stress - 2001\"}],\"label\":\"2001\",\"method\":\"update\"},{\"args\":[{\"visible\":[false,false,false,false,false,false,false,false,false,false,false,false,false,false,false,false,false,false,false,false,false,false,false,false,false,false,false,true,false,false,false,false,false,false,false,false,false,false,false,false,false,false,false,false,false,false,false]},{\"title\":\"Urban Population vs Water Stress - 2002\"}],\"label\":\"2002\",\"method\":\"update\"},{\"args\":[{\"visible\":[false,false,false,false,false,false,false,false,false,false,false,false,false,false,false,false,false,false,false,false,false,false,false,false,false,false,false,false,true,false,false,false,false,false,false,false,false,false,false,false,false,false,false,false,false,false,false]},{\"title\":\"Urban Population vs Water Stress - 2003\"}],\"label\":\"2003\",\"method\":\"update\"},{\"args\":[{\"visible\":[false,false,false,false,false,false,false,false,false,false,false,false,false,false,false,false,false,false,false,false,false,false,false,false,false,false,false,false,false,true,false,false,false,false,false,false,false,false,false,false,false,false,false,false,false,false,false]},{\"title\":\"Urban Population vs Water Stress - 2004\"}],\"label\":\"2004\",\"method\":\"update\"},{\"args\":[{\"visible\":[false,false,false,false,false,false,false,false,false,false,false,false,false,false,false,false,false,false,false,false,false,false,false,false,false,false,false,false,false,false,true,false,false,false,false,false,false,false,false,false,false,false,false,false,false,false,false]},{\"title\":\"Urban Population vs Water Stress - 2005\"}],\"label\":\"2005\",\"method\":\"update\"},{\"args\":[{\"visible\":[false,false,false,false,false,false,false,false,false,false,false,false,false,false,false,false,false,false,false,false,false,false,false,false,false,false,false,false,false,false,false,true,false,false,false,false,false,false,false,false,false,false,false,false,false,false,false]},{\"title\":\"Urban Population vs Water Stress - 2006\"}],\"label\":\"2006\",\"method\":\"update\"},{\"args\":[{\"visible\":[false,false,false,false,false,false,false,false,false,false,false,false,false,false,false,false,false,false,false,false,false,false,false,false,false,false,false,false,false,false,false,false,true,false,false,false,false,false,false,false,false,false,false,false,false,false,false]},{\"title\":\"Urban Population vs Water Stress - 2007\"}],\"label\":\"2007\",\"method\":\"update\"},{\"args\":[{\"visible\":[false,false,false,false,false,false,false,false,false,false,false,false,false,false,false,false,false,false,false,false,false,false,false,false,false,false,false,false,false,false,false,false,false,true,false,false,false,false,false,false,false,false,false,false,false,false,false]},{\"title\":\"Urban Population vs Water Stress - 2008\"}],\"label\":\"2008\",\"method\":\"update\"},{\"args\":[{\"visible\":[false,false,false,false,false,false,false,false,false,false,false,false,false,false,false,false,false,false,false,false,false,false,false,false,false,false,false,false,false,false,false,false,false,false,true,false,false,false,false,false,false,false,false,false,false,false,false]},{\"title\":\"Urban Population vs Water Stress - 2009\"}],\"label\":\"2009\",\"method\":\"update\"},{\"args\":[{\"visible\":[false,false,false,false,false,false,false,false,false,false,false,false,false,false,false,false,false,false,false,false,false,false,false,false,false,false,false,false,false,false,false,false,false,false,false,true,false,false,false,false,false,false,false,false,false,false,false]},{\"title\":\"Urban Population vs Water Stress - 2010\"}],\"label\":\"2010\",\"method\":\"update\"},{\"args\":[{\"visible\":[false,false,false,false,false,false,false,false,false,false,false,false,false,false,false,false,false,false,false,false,false,false,false,false,false,false,false,false,false,false,false,false,false,false,false,false,true,false,false,false,false,false,false,false,false,false,false]},{\"title\":\"Urban Population vs Water Stress - 2011\"}],\"label\":\"2011\",\"method\":\"update\"},{\"args\":[{\"visible\":[false,false,false,false,false,false,false,false,false,false,false,false,false,false,false,false,false,false,false,false,false,false,false,false,false,false,false,false,false,false,false,false,false,false,false,false,false,true,false,false,false,false,false,false,false,false,false]},{\"title\":\"Urban Population vs Water Stress - 2012\"}],\"label\":\"2012\",\"method\":\"update\"},{\"args\":[{\"visible\":[false,false,false,false,false,false,false,false,false,false,false,false,false,false,false,false,false,false,false,false,false,false,false,false,false,false,false,false,false,false,false,false,false,false,false,false,false,false,true,false,false,false,false,false,false,false,false]},{\"title\":\"Urban Population vs Water Stress - 2013\"}],\"label\":\"2013\",\"method\":\"update\"},{\"args\":[{\"visible\":[false,false,false,false,false,false,false,false,false,false,false,false,false,false,false,false,false,false,false,false,false,false,false,false,false,false,false,false,false,false,false,false,false,false,false,false,false,false,false,true,false,false,false,false,false,false,false]},{\"title\":\"Urban Population vs Water Stress - 2014\"}],\"label\":\"2014\",\"method\":\"update\"},{\"args\":[{\"visible\":[false,false,false,false,false,false,false,false,false,false,false,false,false,false,false,false,false,false,false,false,false,false,false,false,false,false,false,false,false,false,false,false,false,false,false,false,false,false,false,false,true,false,false,false,false,false,false]},{\"title\":\"Urban Population vs Water Stress - 2015\"}],\"label\":\"2015\",\"method\":\"update\"},{\"args\":[{\"visible\":[false,false,false,false,false,false,false,false,false,false,false,false,false,false,false,false,false,false,false,false,false,false,false,false,false,false,false,false,false,false,false,false,false,false,false,false,false,false,false,false,false,true,false,false,false,false,false]},{\"title\":\"Urban Population vs Water Stress - 2016\"}],\"label\":\"2016\",\"method\":\"update\"},{\"args\":[{\"visible\":[false,false,false,false,false,false,false,false,false,false,false,false,false,false,false,false,false,false,false,false,false,false,false,false,false,false,false,false,false,false,false,false,false,false,false,false,false,false,false,false,false,false,true,false,false,false,false]},{\"title\":\"Urban Population vs Water Stress - 2017\"}],\"label\":\"2017\",\"method\":\"update\"},{\"args\":[{\"visible\":[false,false,false,false,false,false,false,false,false,false,false,false,false,false,false,false,false,false,false,false,false,false,false,false,false,false,false,false,false,false,false,false,false,false,false,false,false,false,false,false,false,false,false,true,false,false,false]},{\"title\":\"Urban Population vs Water Stress - 2018\"}],\"label\":\"2018\",\"method\":\"update\"},{\"args\":[{\"visible\":[false,false,false,false,false,false,false,false,false,false,false,false,false,false,false,false,false,false,false,false,false,false,false,false,false,false,false,false,false,false,false,false,false,false,false,false,false,false,false,false,false,false,false,false,true,false,false]},{\"title\":\"Urban Population vs Water Stress - 2019\"}],\"label\":\"2019\",\"method\":\"update\"},{\"args\":[{\"visible\":[false,false,false,false,false,false,false,false,false,false,false,false,false,false,false,false,false,false,false,false,false,false,false,false,false,false,false,false,false,false,false,false,false,false,false,false,false,false,false,false,false,false,false,false,false,true,false]},{\"title\":\"Urban Population vs Water Stress - 2020\"}],\"label\":\"2020\",\"method\":\"update\"},{\"args\":[{\"visible\":[false,false,false,false,false,false,false,false,false,false,false,false,false,false,false,false,false,false,false,false,false,false,false,false,false,false,false,false,false,false,false,false,false,false,false,false,false,false,false,false,false,false,false,false,false,false,true]},{\"title\":\"Urban Population vs Water Stress - 2021\"}],\"label\":\"2021\",\"method\":\"update\"}]}],\"title\":{\"text\":\"Urban Population vs Water Stress - 1975\"},\"height\":600},                        {\"responsive\": true}                    ).then(function(){\n",
       "                            \n",
       "var gd = document.getElementById('d1bcd2b5-5c57-48c5-91ac-730ae796d803');\n",
       "var x = new MutationObserver(function (mutations, observer) {{\n",
       "        var display = window.getComputedStyle(gd).display;\n",
       "        if (!display || display === 'none') {{\n",
       "            console.log([gd, 'removed!']);\n",
       "            Plotly.purge(gd);\n",
       "            observer.disconnect();\n",
       "        }}\n",
       "}});\n",
       "\n",
       "// Listen for the removal of the full notebook cells\n",
       "var notebookContainer = gd.closest('#notebook-container');\n",
       "if (notebookContainer) {{\n",
       "    x.observe(notebookContainer, {childList: true});\n",
       "}}\n",
       "\n",
       "// Listen for the clearing of the current output cell\n",
       "var outputEl = gd.closest('.output');\n",
       "if (outputEl) {{\n",
       "    x.observe(outputEl, {childList: true});\n",
       "}}\n",
       "\n",
       "                        })                };                });            </script>        </div>"
      ]
     },
     "metadata": {},
     "output_type": "display_data"
    }
   ],
   "source": [
    "import plotly.graph_objects as go\n",
    "\n",
    "# Step 1: Prepare basic elements\n",
    "years = sorted(merged_df['Year'].unique())\n",
    "\n",
    "x_max = merged_df['Urban Population'].max()\n",
    "y_max = merged_df['Water Stress'].max()\n",
    "x_min = merged_df['Urban Population'].min()\n",
    "y_min = merged_df['Water Stress'].min()\n",
    "\n",
    "groups = ['Developed', 'Developing']\n",
    "colors = {'Developed': 'blue', 'Developing': 'red'}\n",
    "\n",
    "\n",
    "# Step 2: Create the initial figure and traces (1 per year)\n",
    "fig = go.Figure()\n",
    "\n",
    "for year in years:\n",
    "    df_year = merged_df[merged_df['Year'] == year]\n",
    "\n",
    "    # Add one trace per year\n",
    "    fig.add_trace(go.Scatter(\n",
    "        x=df_year['Urban Population'],\n",
    "        y=df_year['Water Stress'],\n",
    "        mode='markers+text',\n",
    "        textposition='top center',\n",
    "        marker=dict(\n",
    "            size=10,\n",
    "            opacity=0.7,\n",
    "            color=[colors[g] for g in df_year['Group']]\n",
    "        ),\n",
    "        name=str(year),\n",
    "        text=df_year['Country Name'],  # show country name on hover\n",
    "        hovertemplate='Country Name: %{text}<br>Urban Pop: %{x}<br>Water Stress: %{y}',\n",
    "        visible=(year == years[0])  # only show the first year at start\n",
    "    ))\n",
    "\n",
    "# Step 3: Create the slider steps (controls which trace is visible)\n",
    "steps = []\n",
    "for i, year in enumerate(years):\n",
    "    visibility = [False] * len(years)\n",
    "    visibility[i] = True  # only this year is visible\n",
    "\n",
    "    step = dict(\n",
    "        method='update',\n",
    "        args=[{'visible': visibility},\n",
    "              {'title': f\"Urban Population vs Water Stress - {year}\"}],\n",
    "        label=str(year)\n",
    "    )\n",
    "    steps.append(step)\n",
    "\n",
    "# Step 4: Add the slider to the layout\n",
    "sliders = [dict(\n",
    "    active=0,\n",
    "    currentvalue={\"prefix\": \"Year: \"},\n",
    "    pad={\"t\": 50},\n",
    "    steps=steps\n",
    ")]\n",
    "\n",
    "# Step 5: Final layout tweaks\n",
    "fig.update_layout(\n",
    "    sliders=sliders,\n",
    "    title=f\"Urban Population vs Water Stress - {years[0]}\",\n",
    "    xaxis=dict(title=\"Urban Population (people)\", range=[x_min, x_max]),\n",
    "    yaxis=dict(title=\"Water Stress\", range=[y_min, y_max]),\n",
    "    height=600,\n",
    "    template=\"plotly_white\"\n",
    "\n",
    ")\n",
    "\n",
    "fig.show()\n"
   ]
  },
  {
   "cell_type": "code",
   "execution_count": null,
   "id": "a6907094-a757-4ab8-a6bd-406e1d24d27e",
   "metadata": {},
   "outputs": [],
   "source": []
  },
  {
   "cell_type": "code",
   "execution_count": null,
   "id": "1f38f96d-b47d-4d34-b312-977ec9577c6c",
   "metadata": {},
   "outputs": [],
   "source": []
  }
 ],
 "metadata": {
  "kernelspec": {
   "display_name": "Python 3 (ipykernel)",
   "language": "python",
   "name": "python3"
  },
  "language_info": {
   "codemirror_mode": {
    "name": "ipython",
    "version": 3
   },
   "file_extension": ".py",
   "mimetype": "text/x-python",
   "name": "python",
   "nbconvert_exporter": "python",
   "pygments_lexer": "ipython3",
   "version": "3.12.4"
  }
 },
 "nbformat": 4,
 "nbformat_minor": 5
}
