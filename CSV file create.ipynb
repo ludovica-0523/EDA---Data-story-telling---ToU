{
 "cells": [
  {
   "cell_type": "code",
   "execution_count": 3,
   "id": "cfa8bc40-c977-4c8c-a367-4c5a706e8d74",
   "metadata": {},
   "outputs": [],
   "source": [
    "import pandas as pd\n",
    "import random\n",
    "\n",
    "# Generate sample data\n",
    "years = list(range(2000, 2021))\n",
    "emissions = [random.uniform(5.0, 7.0) for _ in range(len(years))]\n",
    "regions = ['USA', 'Europe', 'Asia']\n",
    "\n",
    "# Repeat regions to match the length of years and emissions\n",
    "regions = [region for region in regions for _ in range(len(years) // len(regions))]\n",
    "\n",
    "# Create DataFrame\n",
    "df = pd.DataFrame({\n",
    "    'Year': years,\n",
    "    'Emissions': emissions,\n",
    "    'Region': regions\n",
    "})\n",
    "\n",
    "# Save DataFrame to CSV\n",
    "df.to_csv('climate_data.csv', index=False)"
   ]
  },
  {
   "cell_type": "code",
   "execution_count": null,
   "id": "6cab9e3e-2f1c-478f-9815-edd5d67ea99e",
   "metadata": {},
   "outputs": [],
   "source": []
  }
 ],
 "metadata": {
  "kernelspec": {
   "display_name": "Python 3 (ipykernel)",
   "language": "python",
   "name": "python3"
  },
  "language_info": {
   "codemirror_mode": {
    "name": "ipython",
    "version": 3
   },
   "file_extension": ".py",
   "mimetype": "text/x-python",
   "name": "python",
   "nbconvert_exporter": "python",
   "pygments_lexer": "ipython3",
   "version": "3.12.4"
  }
 },
 "nbformat": 4,
 "nbformat_minor": 5
}
